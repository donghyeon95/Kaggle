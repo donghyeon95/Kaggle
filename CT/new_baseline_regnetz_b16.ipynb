{
 "cells": [
  {
   "cell_type": "markdown",
   "id": "iliJuq6afHjz",
   "metadata": {
    "id": "iliJuq6afHjz"
   },
   "source": [
    "# Preparation"
   ]
  },
  {
   "cell_type": "markdown",
   "id": "f51ba7c1-0393-47ec-89d9-f6f97072773b",
   "metadata": {
    "id": "f51ba7c1-0393-47ec-89d9-f6f97072773b"
   },
   "source": [
    "## Import Libraries"
   ]
  },
  {
   "cell_type": "code",
   "execution_count": null,
   "id": "5cmoKWjyNjTq",
   "metadata": {
    "colab": {
     "base_uri": "https://localhost:8080/"
    },
    "collapsed": true,
    "id": "5cmoKWjyNjTq",
    "jupyter": {
     "outputs_hidden": true
    },
    "outputId": "e1cb8506-2bb3-4099-d012-5dfcfe0412f6",
    "tags": []
   },
   "outputs": [
    {
     "name": "stdout",
     "output_type": "stream",
     "text": [
      "Get:1 https://cloud.r-project.org/bin/linux/ubuntu bionic-cran40/ InRelease [3,626 B]\n",
      "Ign:2 https://developer.download.nvidia.com/compute/cuda/repos/ubuntu1804/x86_64  InRelease\n",
      "Get:3 http://security.ubuntu.com/ubuntu bionic-security InRelease [88.7 kB]\n",
      "Ign:4 https://developer.download.nvidia.com/compute/machine-learning/repos/ubuntu1804/x86_64  InRelease\n",
      "Get:5 https://developer.download.nvidia.com/compute/cuda/repos/ubuntu1804/x86_64  Release [696 B]\n",
      "Hit:6 https://developer.download.nvidia.com/compute/machine-learning/repos/ubuntu1804/x86_64  Release\n",
      "Get:7 http://ppa.launchpad.net/c2d4u.team/c2d4u4.0+/ubuntu bionic InRelease [15.9 kB]\n",
      "Get:8 https://developer.download.nvidia.com/compute/cuda/repos/ubuntu1804/x86_64  Release.gpg [836 B]\n",
      "Hit:10 http://archive.ubuntu.com/ubuntu bionic InRelease\n",
      "Get:11 https://developer.download.nvidia.com/compute/cuda/repos/ubuntu1804/x86_64  Packages [917 kB]\n",
      "Get:12 http://archive.ubuntu.com/ubuntu bionic-updates InRelease [88.7 kB]\n",
      "Hit:13 http://ppa.launchpad.net/cran/libgit2/ubuntu bionic InRelease\n",
      "Get:14 http://security.ubuntu.com/ubuntu bionic-security/universe amd64 Packages [1,468 kB]\n",
      "Get:15 http://ppa.launchpad.net/deadsnakes/ppa/ubuntu bionic InRelease [15.9 kB]\n",
      "Get:16 http://archive.ubuntu.com/ubuntu bionic-backports InRelease [74.6 kB]\n",
      "Get:17 http://archive.ubuntu.com/ubuntu bionic-updates/universe amd64 Packages [2,247 kB]\n",
      "Get:18 http://ppa.launchpad.net/graphics-drivers/ppa/ubuntu bionic InRelease [21.3 kB]\n",
      "Get:19 http://security.ubuntu.com/ubuntu bionic-security/multiverse amd64 Packages [21.1 kB]\n",
      "Get:20 http://security.ubuntu.com/ubuntu bionic-security/main amd64 Packages [2,564 kB]\n",
      "Get:21 http://security.ubuntu.com/ubuntu bionic-security/restricted amd64 Packages [783 kB]\n",
      "Get:22 http://ppa.launchpad.net/c2d4u.team/c2d4u4.0+/ubuntu bionic/main Sources [1,826 kB]\n",
      "Get:23 http://archive.ubuntu.com/ubuntu bionic-updates/main amd64 Packages [3,004 kB]\n",
      "Get:24 http://archive.ubuntu.com/ubuntu bionic-updates/multiverse amd64 Packages [29.0 kB]\n",
      "Get:25 http://archive.ubuntu.com/ubuntu bionic-updates/restricted amd64 Packages [816 kB]\n",
      "Get:26 http://ppa.launchpad.net/c2d4u.team/c2d4u4.0+/ubuntu bionic/main amd64 Packages [936 kB]\n",
      "Get:27 http://ppa.launchpad.net/deadsnakes/ppa/ubuntu bionic/main amd64 Packages [45.3 kB]\n",
      "Get:28 http://ppa.launchpad.net/graphics-drivers/ppa/ubuntu bionic/main amd64 Packages [42.8 kB]\n",
      "Fetched 15.0 MB in 9s (1,599 kB/s)\n",
      "Reading package lists... Done\n",
      "Reading package lists... Done\n",
      "Building dependency tree       \n",
      "Reading state information... Done\n",
      "The following packages were automatically installed and are no longer required:\n",
      "  cuda-command-line-tools-10-0 cuda-command-line-tools-10-1\n",
      "  cuda-command-line-tools-11-0 cuda-compiler-10-0 cuda-compiler-10-1\n",
      "  cuda-compiler-11-0 cuda-cuobjdump-10-0 cuda-cuobjdump-10-1\n",
      "  cuda-cuobjdump-11-0 cuda-cupti-10-0 cuda-cupti-10-1 cuda-cupti-11-0\n",
      "  cuda-cupti-dev-11-0 cuda-documentation-10-0 cuda-documentation-10-1\n",
      "  cuda-documentation-11-0 cuda-documentation-11-1 cuda-gdb-10-0 cuda-gdb-10-1\n",
      "  cuda-gdb-11-0 cuda-gpu-library-advisor-10-0 cuda-gpu-library-advisor-10-1\n",
      "  cuda-libraries-10-0 cuda-libraries-10-1 cuda-libraries-11-0\n",
      "  cuda-memcheck-10-0 cuda-memcheck-10-1 cuda-memcheck-11-0 cuda-nsight-10-0\n",
      "  cuda-nsight-10-1 cuda-nsight-11-0 cuda-nsight-11-1 cuda-nsight-compute-10-0\n",
      "  cuda-nsight-compute-10-1 cuda-nsight-compute-11-0 cuda-nsight-compute-11-1\n",
      "  cuda-nsight-systems-10-1 cuda-nsight-systems-11-0 cuda-nsight-systems-11-1\n",
      "  cuda-nvcc-10-0 cuda-nvcc-10-1 cuda-nvcc-11-0 cuda-nvdisasm-10-0\n",
      "  cuda-nvdisasm-10-1 cuda-nvdisasm-11-0 cuda-nvml-dev-10-0 cuda-nvml-dev-10-1\n",
      "  cuda-nvml-dev-11-0 cuda-nvprof-10-0 cuda-nvprof-10-1 cuda-nvprof-11-0\n",
      "  cuda-nvprune-10-0 cuda-nvprune-10-1 cuda-nvprune-11-0 cuda-nvtx-10-0\n",
      "  cuda-nvtx-10-1 cuda-nvtx-11-0 cuda-nvvp-10-0 cuda-nvvp-10-1 cuda-nvvp-11-0\n",
      "  cuda-nvvp-11-1 cuda-samples-10-0 cuda-samples-10-1 cuda-samples-11-0\n",
      "  cuda-samples-11-1 cuda-sanitizer-11-0 cuda-sanitizer-api-10-1\n",
      "  cuda-toolkit-10-0 cuda-toolkit-10-1 cuda-toolkit-11-0 cuda-toolkit-11-1\n",
      "  cuda-tools-10-0 cuda-tools-10-1 cuda-tools-11-0 cuda-tools-11-1\n",
      "  cuda-visual-tools-10-0 cuda-visual-tools-10-1 cuda-visual-tools-11-0\n",
      "  cuda-visual-tools-11-1 default-jre dkms freeglut3 freeglut3-dev\n",
      "  keyboard-configuration libargon2-0 libcap2 libcryptsetup12\n",
      "  libdevmapper1.02.1 libfontenc1 libidn11 libip4tc0 libjansson4\n",
      "  libnvidia-cfg1-510 libnvidia-common-460 libnvidia-common-510\n",
      "  libnvidia-extra-510 libnvidia-fbc1-510 libnvidia-gl-510 libpam-systemd\n",
      "  libpolkit-agent-1-0 libpolkit-backend-1-0 libpolkit-gobject-1-0 libxfont2\n",
      "  libxi-dev libxkbfile1 libxmu-dev libxmu-headers libxnvctrl0 libxtst6\n",
      "  nsight-compute-2020.2.1 nsight-compute-2022.1.0 nsight-systems-2020.3.2\n",
      "  nsight-systems-2020.3.4 nsight-systems-2021.5.2 nvidia-dkms-510\n",
      "  nvidia-kernel-common-510 nvidia-kernel-source-510 nvidia-modprobe\n",
      "  nvidia-settings openjdk-11-jre policykit-1 policykit-1-gnome python3-xkit\n",
      "  screen-resolution-extra systemd systemd-sysv udev x11-xkb-utils\n",
      "  xserver-common xserver-xorg-core-hwe-18.04 xserver-xorg-video-nvidia-510\n",
      "Use 'apt autoremove' to remove them.\n",
      "The following additional packages will be installed:\n",
      "  python3-numpy\n",
      "Suggested packages:\n",
      "  python-numpy-doc python3-nose python3-numpy-dbg\n",
      "The following NEW packages will be installed:\n",
      "  python3-numpy python3-opencv\n",
      "0 upgraded, 2 newly installed, 0 to remove and 65 not upgraded.\n",
      "Need to get 2,477 kB of archives.\n",
      "After this operation, 13.9 MB of additional disk space will be used.\n",
      "Get:1 http://archive.ubuntu.com/ubuntu bionic/main amd64 python3-numpy amd64 1:1.13.3-2ubuntu1 [1,943 kB]\n",
      "Get:2 http://archive.ubuntu.com/ubuntu bionic-updates/universe amd64 python3-opencv amd64 3.2.0+dfsg-4ubuntu0.1 [534 kB]\n",
      "Fetched 2,477 kB in 3s (814 kB/s)\n",
      "Selecting previously unselected package python3-numpy.\n",
      "(Reading database ... 155113 files and directories currently installed.)\n",
      "Preparing to unpack .../python3-numpy_1%3a1.13.3-2ubuntu1_amd64.deb ...\n",
      "Unpacking python3-numpy (1:1.13.3-2ubuntu1) ...\n",
      "Selecting previously unselected package python3-opencv.\n",
      "Preparing to unpack .../python3-opencv_3.2.0+dfsg-4ubuntu0.1_amd64.deb ...\n",
      "Unpacking python3-opencv (3.2.0+dfsg-4ubuntu0.1) ...\n",
      "Setting up python3-numpy (1:1.13.3-2ubuntu1) ...\n",
      "Setting up python3-opencv (3.2.0+dfsg-4ubuntu0.1) ...\n",
      "Processing triggers for man-db (2.8.3-2ubuntu0.1) ...\n"
     ]
    }
   ],
   "source": [
    "!apt-get update && apt-get install -y python3-opencv"
   ]
  },
  {
   "cell_type": "code",
   "execution_count": 2,
   "id": "o9MITogIZnKw",
   "metadata": {
    "colab": {
     "base_uri": "https://localhost:8080/"
    },
    "id": "o9MITogIZnKw",
    "outputId": "0e1e926d-0b41-4f29-8b00-18f9f10c43ab"
   },
   "outputs": [
    {
     "name": "stdout",
     "output_type": "stream",
     "text": [
      "Collecting timm\n",
      "  Downloading timm-0.5.4-py3-none-any.whl (431 kB)\n",
      "\u001b[K     |████████████████████████████████| 431 kB 12.8 MB/s eta 0:00:01\n",
      "\u001b[?25hRequirement already satisfied: torch>=1.4 in /opt/conda/lib/python3.8/site-packages (from timm) (1.7.1)\n",
      "Requirement already satisfied: torchvision in /opt/conda/lib/python3.8/site-packages (from timm) (0.8.2)\n",
      "Requirement already satisfied: typing_extensions in /opt/conda/lib/python3.8/site-packages (from torch>=1.4->timm) (3.7.4.3)\n",
      "Requirement already satisfied: numpy in /opt/conda/lib/python3.8/site-packages (from torch>=1.4->timm) (1.19.2)\n",
      "Requirement already satisfied: pillow>=4.1.1 in /opt/conda/lib/python3.8/site-packages (from torchvision->timm) (8.1.0)\n",
      "Installing collected packages: timm\n",
      "Successfully installed timm-0.5.4\n"
     ]
    }
   ],
   "source": [
    "!pip install timm"
   ]
  },
  {
   "cell_type": "code",
   "execution_count": 1,
   "id": "98a45c7e-10ca-4fd1-9fd4-6326313a631a",
   "metadata": {
    "id": "98a45c7e-10ca-4fd1-9fd4-6326313a631a"
   },
   "outputs": [],
   "source": [
    "import os, torch, copy, cv2, sys, random\n",
    "# from datetime import datetime, timezone, timedelta\n",
    "from PIL import Image\n",
    "import numpy as np\n",
    "import pandas as pd\n",
    "from tqdm import tqdm\n",
    "import torch\n",
    "import torch.nn as nn\n",
    "import torch.optim as optim\n",
    "from torch.utils.data import DataLoader, Dataset\n",
    "import torchvision.transforms as transforms\n",
    "from sklearn.metrics import accuracy_score, precision_score, recall_score, f1_score, roc_auc_score, roc_curve, auc, confusion_matrix, average_precision_score\n",
    "import seaborn as sns\n",
    "import timm"
   ]
  },
  {
   "cell_type": "code",
   "execution_count": 2,
   "id": "0f0fd4ab-4987-426a-a8c8-4f6b6c04ab37",
   "metadata": {
    "colab": {
     "base_uri": "https://localhost:8080/"
    },
    "id": "0f0fd4ab-4987-426a-a8c8-4f6b6c04ab37",
    "outputId": "da0b4f06-457c-410e-a7d0-9ef61775426e"
   },
   "outputs": [
    {
     "data": {
      "text/plain": [
       "{'url': 'https://github.com/rwightman/pytorch-image-models/releases/download/v0.1-attn-weights/regnetz_b_raa-677d9606.pth',\n",
       " 'num_classes': 1000,\n",
       " 'input_size': (3, 224, 224),\n",
       " 'pool_size': (7, 7),\n",
       " 'crop_pct': 0.94,\n",
       " 'interpolation': 'bicubic',\n",
       " 'mean': (0.5, 0.5, 0.5),\n",
       " 'std': (0.5, 0.5, 0.5),\n",
       " 'first_conv': 'stem.conv',\n",
       " 'classifier': 'head.fc',\n",
       " 'test_input_size': (3, 288, 288),\n",
       " 'architecture': 'regnetz_b16'}"
      ]
     },
     "execution_count": 2,
     "metadata": {},
     "output_type": "execute_result"
    }
   ],
   "source": [
    "model_name = 'regnetz_b16'\n",
    "model = timm.create_model(model_name, pretrained=False)\n",
    "model\n",
    "model.default_cfg"
   ]
  },
  {
   "cell_type": "markdown",
   "id": "_h67WQqUN4Sn",
   "metadata": {
    "id": "_h67WQqUN4Sn"
   },
   "source": [
    "## Connect google drive & Change directory"
   ]
  },
  {
   "cell_type": "markdown",
   "id": "3a6c255b-b30d-4ffd-a663-bc01a2c37954",
   "metadata": {
    "id": "3a6c255b-b30d-4ffd-a663-bc01a2c37954"
   },
   "source": [
    "## Set Arguments & hyperparameters"
   ]
  },
  {
   "cell_type": "code",
   "execution_count": 5,
   "id": "8f9c4250-2257-404f-941d-58eff1e9eb38",
   "metadata": {
    "id": "8f9c4250-2257-404f-941d-58eff1e9eb38"
   },
   "outputs": [],
   "source": [
    "# 시드(seed) 설정\n",
    "\n",
    "RANDOM_SEED = 2022\n",
    "\n",
    "torch.manual_seed(RANDOM_SEED)\n",
    "torch.backends.cudnn.deterministic = True\n",
    "torch.backends.cudnn.benchmark = False\n",
    "np.random.seed(RANDOM_SEED)\n",
    "random.seed(RANDOM_SEED)"
   ]
  },
  {
   "cell_type": "code",
   "execution_count": 6,
   "id": "9d69a8bc-2e64-4de6-928f-4e16957f6af9",
   "metadata": {
    "id": "9d69a8bc-2e64-4de6-928f-4e16957f6af9"
   },
   "outputs": [],
   "source": [
    "# parameters\n",
    "\n",
    "### 데이터 디렉토리 설정 ###\n",
    "DATA_DIR= '/USER/data'\n",
    "NUM_CLS = 2\n",
    "\n",
    "EPOCHS = 50\n",
    "BATCH_SIZE = 32\n",
    "LEARNING_RATE = 0.0005\n",
    "EARLY_STOPPING_PATIENCE = 5\n",
    "INPUT_SHAPE = 384\n",
    "K_FOLDS = 5\n",
    "\n",
    "os.environ[\"CUDA_VISIBLE_DEVICES\"]=\"0\"\n",
    "DEVICE = torch.device('cuda' if torch.cuda.is_available() else 'cpu')"
   ]
  },
  {
   "cell_type": "code",
   "execution_count": 7,
   "id": "7db9154a",
   "metadata": {
    "colab": {
     "base_uri": "https://localhost:8080/"
    },
    "id": "7db9154a",
    "outputId": "f1fa9588-748e-45ac-b253-96fde158709c"
   },
   "outputs": [
    {
     "data": {
      "text/plain": [
       "device(type='cuda')"
      ]
     },
     "execution_count": 7,
     "metadata": {},
     "output_type": "execute_result"
    }
   ],
   "source": [
    "# check device\n",
    "DEVICE"
   ]
  },
  {
   "cell_type": "markdown",
   "id": "SYgCJel2Ehph",
   "metadata": {
    "id": "SYgCJel2Ehph",
    "tags": []
   },
   "source": [
    "## Data Augmetation"
   ]
  },
  {
   "cell_type": "code",
   "execution_count": 8,
   "id": "1G4hgYHqEm-6",
   "metadata": {
    "id": "1G4hgYHqEm-6"
   },
   "outputs": [],
   "source": [
    "\n",
    "# Set Augmentation variable\n",
    "VFLIP = True\n",
    "HFLIP = True\n",
    "ROTATE = True\n",
    "FLIP_ROTATE = True\n",
    "ANGLE = None"
   ]
  },
  {
   "cell_type": "code",
   "execution_count": 9,
   "id": "IddO3F57Eg41",
   "metadata": {
    "id": "IddO3F57Eg41"
   },
   "outputs": [],
   "source": [
    "# ./data/augmentation 위치에 이미지를 생성하도록 만듦\n",
    "# vflip : 상하로 뒤집을건지, hflip : 좌우로 뒤집을건지, rotate : 회전을 할건지 (한다면) angle : 지정한값으로 할건지(비우면 random)\n",
    "def createimage(vflip=True, hflip=True, rotate=True, flip_rotate=True, angle=None):\n",
    "    origin_df = pd.read_csv(os.path.join(DATA_DIR, 'train.csv'))\n",
    "    origin_df = origin_df[:578]\n",
    "\n",
    "    # save original image\n",
    "    for i in tqdm(range(578)):\n",
    "        img = cv2.imread(f'./{DATA_DIR}/train/{i}.png')\n",
    "        cv2.imwrite(f'./{DATA_DIR}/augmentation/{i}.png', img)\n",
    "        \n",
    "\n",
    "    # vertical flip\n",
    "    if vflip:\n",
    "        for i in tqdm(range(578)):\n",
    "            img = cv2.imread(f'./{DATA_DIR}/train/{i}.png')\n",
    "            vflip_img = cv2.flip(img, 0)\n",
    "            cv2.imwrite(f'./{DATA_DIR}/augmentation/{i}_vflip.png', vflip_img)\n",
    "            origin_df.loc[len(origin_df)] = [f'{i}_vflip.png', origin_df.iloc[i]['COVID']]\n",
    "\n",
    "        \n",
    "    # horizontal filp\n",
    "    if hflip:\n",
    "        for i in tqdm(range(578)):\n",
    "            img = cv2.imread(f'./{DATA_DIR}/train/{i}.png')\n",
    "            hflip_img = cv2.flip(img, 1)\n",
    "            cv2.imwrite(f'./{DATA_DIR}/augmentation/{i}_hflip.png', hflip_img)\n",
    "            origin_df.loc[len(origin_df)] = [f'{i}_hflip.png', origin_df.iloc[i]['COVID']]\n",
    "\n",
    "    # rotate\n",
    "    if rotate:\n",
    "        for i in tqdm(range(578)):\n",
    "            img = cv2.imread(f'./{DATA_DIR}/train/{i}.png')\n",
    "            h, w = img.shape[:2]\n",
    "            # rotate by Specific value\n",
    "            if angle:\n",
    "                rotation = cv2.getRotationMatrix2D((h/2, w/2), angle, 1)\n",
    "                rotate_img = cv2.warpAffine(img, rotation, (h, w))\n",
    "            # rotate by random value(5 ~ 35)\n",
    "            else:\n",
    "                rand_angle = np.random.randint(30)\n",
    "                rotation = cv2.getRotationMatrix2D((h/2, w/2), 5+rand_angle, 1)\n",
    "                rotate_img = cv2.warpAffine(img, rotation, (h, w))\n",
    "            cv2.imwrite(f'./{DATA_DIR}/augmentation/{i}_rotate.png', rotate_img)\n",
    "            origin_df.loc[len(origin_df)] = [f'{i}_rotate.png', origin_df.iloc[i]['COVID']]\n",
    "\n",
    "    # flip-rotate\n",
    "    if flip_rotate:\n",
    "        for i in tqdm(range(578)):\n",
    "            img = cv2.imread(f'./{DATA_DIR}/train/{i}.png')\n",
    "            hflip_img = cv2.flip(img, 1)\n",
    "            h, w = hflip_img.shape[:2]\n",
    "            # rotate by Specific value\n",
    "            if angle:\n",
    "                rotation = cv2.getRotationMatrix2D((h/2, w/2), angle, 1)\n",
    "                rotate_img = cv2.warpAffine(hflip_img, rotation, (h, w))\n",
    "            # rotate by random value\n",
    "            else:\n",
    "                rand_angle = np.random.randint(30)\n",
    "                rotation = cv2.getRotationMatrix2D((h/2, w/2), 5+rand_angle, 1)\n",
    "                rotate_img = cv2.warpAffine(hflip_img, rotation, (h, w))\n",
    "            cv2.imwrite(f'./{DATA_DIR}/augmentation/{i}_flip_rotate.png', rotate_img)\n",
    "            origin_df.loc[len(origin_df)] = [f'{i}_flip_rotate.png', origin_df.iloc[i]['COVID']]\n",
    "\n",
    "    print('\\nsave csv file...')\n",
    "    origin_df.to_csv(os.path.join(DATA_DIR, 'augmentation.csv'))\n",
    "    print(\"ALL JOBS FINISHED\")\n",
    "\n",
    "    return origin_df"
   ]
  },
  {
   "cell_type": "code",
   "execution_count": 10,
   "id": "93BfHOuRFdRE",
   "metadata": {
    "id": "93BfHOuRFdRE",
    "outputId": "13e5e6d0-3d25-4964-8563-9b72b859025a"
   },
   "outputs": [],
   "source": [
    "# new_df = createimage(VFLIP, HFLIP, ROTATE, FLIP_ROTATE, ANGLE)"
   ]
  },
  {
   "cell_type": "markdown",
   "id": "a9fc46fd-ef0e-4989-9fab-6157aa065b35",
   "metadata": {
    "id": "a9fc46fd-ef0e-4989-9fab-6157aa065b35"
   },
   "source": [
    "## wandb"
   ]
  },
  {
   "cell_type": "code",
   "execution_count": null,
   "id": "b4RHNVBRmp3P",
   "metadata": {
    "colab": {
     "base_uri": "https://localhost:8080/"
    },
    "id": "b4RHNVBRmp3P",
    "outputId": "c426bf3b-c6a8-4152-f62a-f1b6d43a0198"
   },
   "outputs": [
    {
     "name": "stdout",
     "output_type": "stream",
     "text": [
      "Collecting wandb\n",
      "  Downloading wandb-0.12.10-py2.py3-none-any.whl (1.7 MB)\n",
      "\u001b[K     |████████████████████████████████| 1.7 MB 4.1 MB/s \n",
      "\u001b[?25hCollecting shortuuid>=0.5.0\n",
      "  Downloading shortuuid-1.0.8-py3-none-any.whl (9.5 kB)\n",
      "Requirement already satisfied: psutil>=5.0.0 in /usr/local/lib/python3.7/dist-packages (from wandb) (5.4.8)\n",
      "Collecting docker-pycreds>=0.4.0\n",
      "  Downloading docker_pycreds-0.4.0-py2.py3-none-any.whl (9.0 kB)\n",
      "Requirement already satisfied: python-dateutil>=2.6.1 in /usr/local/lib/python3.7/dist-packages (from wandb) (2.8.2)\n",
      "Collecting sentry-sdk>=1.0.0\n",
      "  Downloading sentry_sdk-1.5.5-py2.py3-none-any.whl (144 kB)\n",
      "\u001b[K     |████████████████████████████████| 144 kB 83.6 MB/s \n",
      "\u001b[?25hRequirement already satisfied: requests<3,>=2.0.0 in /usr/local/lib/python3.7/dist-packages (from wandb) (2.23.0)\n",
      "Requirement already satisfied: PyYAML in /usr/local/lib/python3.7/dist-packages (from wandb) (3.13)\n",
      "Collecting GitPython>=1.0.0\n",
      "  Downloading GitPython-3.1.26-py3-none-any.whl (180 kB)\n",
      "\u001b[K     |████████████████████████████████| 180 kB 103.7 MB/s \n",
      "\u001b[?25hRequirement already satisfied: promise<3,>=2.0 in /usr/local/lib/python3.7/dist-packages (from wandb) (2.3)\n",
      "Requirement already satisfied: protobuf>=3.12.0 in /usr/local/lib/python3.7/dist-packages (from wandb) (3.17.3)\n",
      "Collecting yaspin>=1.0.0\n",
      "  Downloading yaspin-2.1.0-py3-none-any.whl (18 kB)\n",
      "Requirement already satisfied: six>=1.13.0 in /usr/local/lib/python3.7/dist-packages (from wandb) (1.15.0)\n",
      "Requirement already satisfied: Click!=8.0.0,>=7.0 in /usr/local/lib/python3.7/dist-packages (from wandb) (7.1.2)\n",
      "Collecting pathtools\n",
      "  Downloading pathtools-0.1.2.tar.gz (11 kB)\n",
      "Collecting gitdb<5,>=4.0.1\n",
      "  Downloading gitdb-4.0.9-py3-none-any.whl (63 kB)\n",
      "\u001b[K     |████████████████████████████████| 63 kB 2.1 MB/s \n",
      "\u001b[?25hRequirement already satisfied: typing-extensions>=3.7.4.3 in /usr/local/lib/python3.7/dist-packages (from GitPython>=1.0.0->wandb) (3.10.0.2)\n",
      "Collecting smmap<6,>=3.0.1\n",
      "  Downloading smmap-5.0.0-py3-none-any.whl (24 kB)\n",
      "Requirement already satisfied: urllib3!=1.25.0,!=1.25.1,<1.26,>=1.21.1 in /usr/local/lib/python3.7/dist-packages (from requests<3,>=2.0.0->wandb) (1.24.3)\n",
      "Requirement already satisfied: idna<3,>=2.5 in /usr/local/lib/python3.7/dist-packages (from requests<3,>=2.0.0->wandb) (2.10)\n",
      "Requirement already satisfied: chardet<4,>=3.0.2 in /usr/local/lib/python3.7/dist-packages (from requests<3,>=2.0.0->wandb) (3.0.4)\n",
      "Requirement already satisfied: certifi>=2017.4.17 in /usr/local/lib/python3.7/dist-packages (from requests<3,>=2.0.0->wandb) (2021.10.8)\n",
      "Requirement already satisfied: termcolor<2.0.0,>=1.1.0 in /usr/local/lib/python3.7/dist-packages (from yaspin>=1.0.0->wandb) (1.1.0)\n",
      "Building wheels for collected packages: pathtools\n",
      "  Building wheel for pathtools (setup.py) ... \u001b[?25l\u001b[?25hdone\n",
      "  Created wheel for pathtools: filename=pathtools-0.1.2-py3-none-any.whl size=8806 sha256=5c2df4213357bb1fb53d6e01b027d56aa62061465a86a52b95f10c59e9cb189c\n",
      "  Stored in directory: /root/.cache/pip/wheels/3e/31/09/fa59cef12cdcfecc627b3d24273699f390e71828921b2cbba2\n",
      "Successfully built pathtools\n",
      "Installing collected packages: smmap, gitdb, yaspin, shortuuid, sentry-sdk, pathtools, GitPython, docker-pycreds, wandb\n",
      "Successfully installed GitPython-3.1.26 docker-pycreds-0.4.0 gitdb-4.0.9 pathtools-0.1.2 sentry-sdk-1.5.5 shortuuid-1.0.8 smmap-5.0.0 wandb-0.12.10 yaspin-2.1.0\n"
     ]
    }
   ],
   "source": [
    "!pip install wandb"
   ]
  },
  {
   "cell_type": "code",
   "execution_count": 11,
   "id": "adzBr88QnCiE",
   "metadata": {
    "id": "adzBr88QnCiE"
   },
   "outputs": [],
   "source": [
    "import wandb"
   ]
  },
  {
   "cell_type": "code",
   "execution_count": 12,
   "id": "m7KIpKf2muGs",
   "metadata": {
    "colab": {
     "base_uri": "https://localhost:8080/",
     "height": 71
    },
    "id": "m7KIpKf2muGs",
    "outputId": "84d780eb-bd79-4d17-a305-44e165236e07"
   },
   "outputs": [
    {
     "name": "stderr",
     "output_type": "stream",
     "text": [
      "Failed to detect the name of this notebook, you can set it manually with the WANDB_NOTEBOOK_NAME environment variable to enable code saving.\n",
      "\u001b[34m\u001b[1mwandb\u001b[0m: Currently logged in as: \u001b[33mdonghyeon95\u001b[0m (use `wandb login --relogin` to force relogin)\n"
     ]
    },
    {
     "data": {
      "text/plain": [
       "True"
      ]
     },
     "execution_count": 12,
     "metadata": {},
     "output_type": "execute_result"
    }
   ],
   "source": [
    "wandb.login()"
   ]
  },
  {
   "cell_type": "code",
   "execution_count": 13,
   "id": "ZOb1na05nS7O",
   "metadata": {
    "colab": {
     "base_uri": "https://localhost:8080/"
    },
    "id": "ZOb1na05nS7O",
    "outputId": "8978d175-82a1-4a19-bc1e-703078a5cdf6"
   },
   "outputs": [
    {
     "name": "stdout",
     "output_type": "stream",
     "text": [
      "Requirement already satisfied: optuna in /opt/conda/lib/python3.8/site-packages (2.10.0)\n",
      "Requirement already satisfied: cliff in /opt/conda/lib/python3.8/site-packages (from optuna) (3.10.0)\n",
      "Requirement already satisfied: cmaes>=0.8.2 in /opt/conda/lib/python3.8/site-packages (from optuna) (0.8.2)\n",
      "Requirement already satisfied: tqdm in /opt/conda/lib/python3.8/site-packages (from optuna) (4.51.0)\n",
      "Requirement already satisfied: packaging>=20.0 in /opt/conda/lib/python3.8/site-packages (from optuna) (21.0)\n",
      "Requirement already satisfied: colorlog in /opt/conda/lib/python3.8/site-packages (from optuna) (6.6.0)\n",
      "Requirement already satisfied: numpy in /opt/conda/lib/python3.8/site-packages (from optuna) (1.19.2)\n",
      "Requirement already satisfied: alembic in /opt/conda/lib/python3.8/site-packages (from optuna) (1.7.6)\n",
      "Requirement already satisfied: scipy!=1.4.0 in /opt/conda/lib/python3.8/site-packages (from optuna) (1.8.0)\n",
      "Requirement already satisfied: sqlalchemy>=1.1.0 in /opt/conda/lib/python3.8/site-packages (from optuna) (1.4.31)\n",
      "Requirement already satisfied: PyYAML in /opt/conda/lib/python3.8/site-packages (from optuna) (5.3.1)\n",
      "Requirement already satisfied: stevedore>=2.0.1 in /opt/conda/lib/python3.8/site-packages (from cliff->optuna) (3.5.0)\n",
      "Requirement already satisfied: PrettyTable>=0.7.2 in /opt/conda/lib/python3.8/site-packages (from cliff->optuna) (3.1.0)\n",
      "Requirement already satisfied: autopage>=0.4.0 in /opt/conda/lib/python3.8/site-packages (from cliff->optuna) (0.5.0)\n",
      "Requirement already satisfied: cmd2>=1.0.0 in /opt/conda/lib/python3.8/site-packages (from cliff->optuna) (2.3.3)\n",
      "Requirement already satisfied: pbr!=2.1.0,>=2.0.0 in /opt/conda/lib/python3.8/site-packages (from cliff->optuna) (5.8.1)\n",
      "Requirement already satisfied: pyparsing>=2.1.0 in /opt/conda/lib/python3.8/site-packages (from cliff->optuna) (2.4.7)\n",
      "Requirement already satisfied: Mako in /opt/conda/lib/python3.8/site-packages (from alembic->optuna) (1.1.6)\n",
      "Requirement already satisfied: importlib-resources; python_version < \"3.9\" in /opt/conda/lib/python3.8/site-packages (from alembic->optuna) (5.4.0)\n",
      "Requirement already satisfied: importlib-metadata; python_version < \"3.9\" in /opt/conda/lib/python3.8/site-packages (from alembic->optuna) (4.10.1)\n",
      "Requirement already satisfied: greenlet!=0.4.17; python_version >= \"3\" and (platform_machine == \"aarch64\" or (platform_machine == \"ppc64le\" or (platform_machine == \"x86_64\" or (platform_machine == \"amd64\" or (platform_machine == \"AMD64\" or (platform_machine == \"win32\" or platform_machine == \"WIN32\")))))) in /opt/conda/lib/python3.8/site-packages (from sqlalchemy>=1.1.0->optuna) (1.1.2)\n",
      "Requirement already satisfied: wcwidth in /opt/conda/lib/python3.8/site-packages (from PrettyTable>=0.7.2->cliff->optuna) (0.2.5)\n",
      "Requirement already satisfied: pyperclip>=1.6 in /opt/conda/lib/python3.8/site-packages (from cmd2>=1.0.0->cliff->optuna) (1.8.2)\n",
      "Requirement already satisfied: attrs>=16.3.0 in /opt/conda/lib/python3.8/site-packages (from cmd2>=1.0.0->cliff->optuna) (21.2.0)\n",
      "Requirement already satisfied: MarkupSafe>=0.9.2 in /opt/conda/lib/python3.8/site-packages (from Mako->alembic->optuna) (1.1.1)\n",
      "Requirement already satisfied: zipp>=3.1.0; python_version < \"3.10\" in /opt/conda/lib/python3.8/site-packages (from importlib-resources; python_version < \"3.9\"->alembic->optuna) (3.7.0)\n"
     ]
    }
   ],
   "source": [
    "!pip install optuna"
   ]
  },
  {
   "cell_type": "code",
   "execution_count": 14,
   "id": "f40bb671-8195-4b21-a7a2-c7bf60015157",
   "metadata": {
    "colab": {
     "base_uri": "https://localhost:8080/",
     "height": 249,
     "referenced_widgets": [
      "5f591d1204204ee0b563e4ac4bb8500f",
      "d4d38002e27a49969adfb2b4c7c2a2d3",
      "1b6d8274d8a947d486cdae4429b5d8d0",
      "da580d3355e94128a986151d784a1d66",
      "6582b0ad90cf4ceea41f77cbf6cda48b",
      "8d9cfb4f291443d8a09c31111bfd71d5",
      "cbea0f4326974c0e918801f03169c4fe",
      "bd4a77387a8248ab8ed24eb3401b165b"
     ]
    },
    "id": "f40bb671-8195-4b21-a7a2-c7bf60015157",
    "outputId": "2be4a7fd-00c2-45f2-fdbe-54afc798f38c"
   },
   "outputs": [
    {
     "data": {
      "text/html": [
       "\n",
       "                    Syncing run <strong><a href=\"https://wandb.ai/team6/test-project/runs/3o7a2l36\" target=\"_blank\">resnet_test</a></strong> to <a href=\"https://wandb.ai/team6/test-project\" target=\"_blank\">Weights & Biases</a> (<a href=\"https://docs.wandb.com/integrations/jupyter.html\" target=\"_blank\">docs</a>).<br/>\n",
       "\n",
       "                "
      ],
      "text/plain": [
       "<IPython.core.display.HTML object>"
      ]
     },
     "metadata": {},
     "output_type": "display_data"
    },
    {
     "name": "stderr",
     "output_type": "stream",
     "text": [
      "/tmp/ipykernel_54476/909678156.py:7: ExperimentalWarning: WeightsAndBiasesCallback is experimental (supported from v2.9.0). The interface can change in the future.\n",
      "  wandbc = WeightsAndBiasesCallback(wandb_kwargs=wandb_kwargs, metric_name=\"acc\")\n"
     ]
    },
    {
     "data": {
      "text/html": [
       "Finishing last run (ID:3o7a2l36) before initializing another..."
      ],
      "text/plain": [
       "<IPython.core.display.HTML object>"
      ]
     },
     "metadata": {},
     "output_type": "display_data"
    },
    {
     "data": {
      "text/html": [
       "<br/>Waiting for W&B process to finish, PID 54907... <strong style=\"color:green\">(success).</strong>"
      ],
      "text/plain": [
       "<IPython.core.display.HTML object>"
      ]
     },
     "metadata": {},
     "output_type": "display_data"
    },
    {
     "data": {
      "text/html": [
       "<style>\n",
       "    table.wandb td:nth-child(1) { padding: 0 10px; text-align: right }\n",
       "    .wandb-row { display: flex; flex-direction: row; flex-wrap: wrap; width: 100% }\n",
       "    .wandb-col { display: flex; flex-direction: column; flex-basis: 100%; flex: 1; padding: 10px; }\n",
       "    </style>\n",
       "<div class=\"wandb-row\"><div class=\"wandb-col\">\n",
       "</div><div class=\"wandb-col\">\n",
       "</div></div>\n",
       "Synced 5 W&B file(s), 0 media file(s), 0 artifact file(s) and 0 other file(s)\n",
       "<br/>Synced <strong style=\"color:#cdcd00\">resnet_test</strong>: <a href=\"https://wandb.ai/team6/test-project/runs/3o7a2l36\" target=\"_blank\">https://wandb.ai/team6/test-project/runs/3o7a2l36</a><br/>\n",
       "Find logs at: <code>./wandb/run-20220214_173406-3o7a2l36/logs</code><br/>\n"
      ],
      "text/plain": [
       "<IPython.core.display.HTML object>"
      ]
     },
     "metadata": {},
     "output_type": "display_data"
    },
    {
     "data": {
      "text/html": [
       "Successfully finished last run (ID:3o7a2l36). Initializing new run:<br/>"
      ],
      "text/plain": [
       "<IPython.core.display.HTML object>"
      ]
     },
     "metadata": {},
     "output_type": "display_data"
    },
    {
     "data": {
      "text/html": [
       "\n",
       "                    Syncing run <strong><a href=\"https://wandb.ai/donghyeon95/regnetz_b16_batch32/runs/2jfi2bw3\" target=\"_blank\">devoted-date-5</a></strong> to <a href=\"https://wandb.ai/donghyeon95/regnetz_b16_batch32\" target=\"_blank\">Weights & Biases</a> (<a href=\"https://docs.wandb.com/integrations/jupyter.html\" target=\"_blank\">docs</a>).<br/>\n",
       "\n",
       "                "
      ],
      "text/plain": [
       "<IPython.core.display.HTML object>"
      ]
     },
     "metadata": {},
     "output_type": "display_data"
    }
   ],
   "source": [
    "# wandb\n",
    "from optuna.integration.wandb import WeightsAndBiasesCallback\n",
    "\n",
    "wandb.init(project=\"test-project\", entity=\"team6\", name = 'resnet_test') \n",
    "\n",
    "wandb_kwargs = {\"project\": \"regnetz_b16_batch32\"}\n",
    "wandbc = WeightsAndBiasesCallback(wandb_kwargs=wandb_kwargs, metric_name=\"acc\")\n"
   ]
  },
  {
   "cell_type": "markdown",
   "id": "d44807b0-7788-49ec-aff2-c756e4513c5e",
   "metadata": {
    "id": "d44807b0-7788-49ec-aff2-c756e4513c5e"
   },
   "source": [
    "# Define Dataloader"
   ]
  },
  {
   "cell_type": "markdown",
   "id": "a5b81fa5-3756-46aa-b3cb-6f19879aba05",
   "metadata": {
    "id": "a5b81fa5-3756-46aa-b3cb-6f19879aba05"
   },
   "source": [
    "## Train & Validation Set loader"
   ]
  },
  {
   "cell_type": "code",
   "execution_count": 15,
   "id": "V8eJsaGtPE7m",
   "metadata": {
    "id": "V8eJsaGtPE7m"
   },
   "outputs": [],
   "source": [
    "class ValidationDataset(Dataset):\n",
    "    def __init__(self, data_dir, input_shape):\n",
    "        self.data_dir = data_dir\n",
    "        self.input_shape = input_shape\n",
    "        \n",
    "        # Loading dataset\n",
    "        self.db = self.data_loader()\n",
    "        \n",
    "        # Dataset split\n",
    "        self.db = self.db[578:]\n",
    "        self.db.reset_index(inplace=True)\n",
    "            \n",
    "        # Transform function\n",
    "        self.transform = transforms.Compose([transforms.Resize(self.input_shape),\n",
    "                                             transforms.ToTensor(),\n",
    "                                             transforms.Normalize([0.485, 0.456, 0.406], [0.229, 0.224, 0.225])])\n",
    "\n",
    "    def data_loader(self):\n",
    "        print('Loading dataset..')\n",
    "        if not os.path.isdir(self.data_dir):\n",
    "            print(f'!!! Cannot find {self.data_dir}... !!!')\n",
    "            sys.exit()\n",
    "        \n",
    "        # (COVID : 1, No : 0)\n",
    "        db = pd.read_csv(os.path.join(self.data_dir, 'train.csv'))\n",
    "        \n",
    "        return db\n",
    "\n",
    "    def __len__(self):\n",
    "        return len(self.db)\n",
    "\n",
    "    def __getitem__(self, index):\n",
    "        data = copy.deepcopy(self.db.loc[index])\n",
    "\n",
    "        # Loading image\n",
    "        cvimg = cv2.imread(os.path.join(self.data_dir,'augmentation',data['file_name']), cv2.IMREAD_COLOR | cv2.IMREAD_IGNORE_ORIENTATION)\n",
    "        if not isinstance(cvimg, np.ndarray):\n",
    "            print(os.path.join(self.data_dir,'augmentation',data['file_name']))\n",
    "            raise IOError(\"Fail to read %s\" % data['file_name'])\n",
    "\n",
    "        # Preprocessing images\n",
    "        trans_image = self.transform(Image.fromarray(cvimg))\n",
    "\n",
    "        return trans_image, data['COVID'], data['file_name']"
   ]
  },
  {
   "cell_type": "code",
   "execution_count": 16,
   "id": "04642777-c2e0-439b-9692-f6c571a86521",
   "metadata": {
    "id": "04642777-c2e0-439b-9692-f6c571a86521"
   },
   "outputs": [],
   "source": [
    "class CustomDataset(Dataset):\n",
    "    ####################################################################\n",
    "    ####          인자값에 mode 삭제 후 idx를 추가해줘야함          ####\n",
    "    ####################################################################\n",
    "    def __init__(self, data_dir, idx, input_shape):\n",
    "        self.data_dir = data_dir\n",
    "        ####################################################################\n",
    "        ####          mode를 삭제했기 때문에 이부분도 수정해줌          ####\n",
    "        ####################################################################\n",
    "        self.idx = idx\n",
    "        self.input_shape = input_shape\n",
    "        \n",
    "        # Loading dataset\n",
    "        self.db = self.data_loader()\n",
    "        \n",
    "        # Dataset split\n",
    "        ####################################################################\n",
    "        ####          mode를 삭제했기 때문에 이부분도 수정해줌          ####\n",
    "        ####################################################################\n",
    "        self.db = self.db.iloc[self.idx]\n",
    "        self.db.reset_index(inplace=True)\n",
    "            \n",
    "        # Transform function\n",
    "        self.transform = transforms.Compose([transforms.Resize(self.input_shape),\n",
    "                                             transforms.ToTensor(),\n",
    "                                             transforms.Normalize([0.485, 0.456, 0.406], [0.229, 0.224, 0.225])])\n",
    "\n",
    "    def data_loader(self):\n",
    "        ####################################################################\n",
    "        ####          mode를 삭제했기 때문에 이부분도 수정해줌          ####\n",
    "        ####################################################################        \n",
    "        print('Loading dataset..')\n",
    "        if not os.path.isdir(self.data_dir):\n",
    "            print(f'!!! Cannot find {self.data_dir}... !!!')\n",
    "            sys.exit()\n",
    "        \n",
    "        # (COVID : 1, No : 0)\n",
    "        ####################################################################\n",
    "        ####          읽어올 label 정보 csv를 train에서 바꿔줌          ####\n",
    "        ####################################################################\n",
    "        db = pd.read_csv(os.path.join(self.data_dir, 'augmentation.csv'))\n",
    "        \n",
    "        return db\n",
    "\n",
    "    def __len__(self):\n",
    "        return len(self.db)\n",
    "\n",
    "    def __getitem__(self, index):\n",
    "        data = copy.deepcopy(self.db.loc[index])\n",
    "\n",
    "        # Loading image\n",
    "        ####################################################################\n",
    "        ####           이미지를 읽어올 경로를 train에서 바꿔줌          ####\n",
    "        ####################################################################\n",
    "        cvimg = cv2.imread(os.path.join(self.data_dir,'augmentation',data['file_name']), cv2.IMREAD_COLOR | cv2.IMREAD_IGNORE_ORIENTATION)\n",
    "        if not isinstance(cvimg, np.ndarray):\n",
    "            raise IOError(\"Fail to read %s\" % data['file_name'])\n",
    "\n",
    "        # Preprocessing images\n",
    "        trans_image = self.transform(Image.fromarray(cvimg))\n",
    "\n",
    "        ####################################################################\n",
    "        ####           리턴값에 data['file_name'] 추가해줘야함          ####\n",
    "        ####################################################################\n",
    "        return trans_image, data['COVID'], data['file_name']"
   ]
  },
  {
   "cell_type": "markdown",
   "id": "61b27520-c82c-4ec8-ae0b-119a79167f09",
   "metadata": {
    "id": "61b27520-c82c-4ec8-ae0b-119a79167f09"
   },
   "source": [
    "# Define Model"
   ]
  },
  {
   "cell_type": "code",
   "execution_count": 17,
   "id": "bcea77c5",
   "metadata": {
    "id": "bcea77c5"
   },
   "outputs": [],
   "source": [
    "import timm\n",
    "import torch.nn.functional as F\n",
    "\n",
    "class Model_Define(nn.Module):\n",
    "    def __init__(self, num_classes):\n",
    "        super(Model_Define, self).__init__()\n",
    "        self.model = timm.create_model(model_name, pretrained=False, in_chans=3)\n",
    "        self.softmax = nn.Softmax(dim=1)\n",
    "        self.fc = nn.Linear(in_features=1000, out_features=num_classes)\n",
    "        \n",
    "    def forward(self, x):\n",
    "        x = self.model(x)\n",
    "        x = F.relu(self.fc(x))\n",
    "        output = self.softmax(x)\n",
    "        return output\n",
    "    "
   ]
  },
  {
   "cell_type": "markdown",
   "id": "1d056905-1f77-4579-a260-07bb1056f6db",
   "metadata": {
    "id": "1d056905-1f77-4579-a260-07bb1056f6db"
   },
   "source": [
    "## Utils\n",
    "### EarlyStopper"
   ]
  },
  {
   "cell_type": "code",
   "execution_count": 18,
   "id": "1b4c3315-ebca-4e6b-a8f2-1281ccd0bb87",
   "metadata": {
    "id": "1b4c3315-ebca-4e6b-a8f2-1281ccd0bb87"
   },
   "outputs": [],
   "source": [
    "class LossEarlyStopper():\n",
    "    \"\"\"Early stopper\n",
    "    \n",
    "    Attributes:\n",
    "        patience (int): loss가 줄어들지 않아도 학습할 epoch 수\n",
    "        patience_counter (int): loss 가 줄어들지 않을 때 마다 1씩 증가, 감소 시 0으로 리셋\n",
    "        min_loss (float): 최소 loss\n",
    "        stop (bool): True 일 때 학습 중단\n",
    "\n",
    "    \"\"\"\n",
    "\n",
    "    def __init__(self, patience: int)-> None:\n",
    "        self.patience = patience\n",
    "\n",
    "        self.patience_counter = 0\n",
    "        self.min_loss = np.Inf\n",
    "        self.stop = False\n",
    "        self.save_model = False\n",
    "\n",
    "    def check_early_stopping(self, loss: float)-> None:\n",
    "        \"\"\"Early stopping 여부 판단\"\"\"  \n",
    "\n",
    "        if self.min_loss == np.Inf:\n",
    "            self.min_loss = loss\n",
    "            return None\n",
    "\n",
    "        elif loss > self.min_loss:\n",
    "            self.patience_counter += 1\n",
    "            msg = f\"Early stopping counter {self.patience_counter}/{self.patience}\"\n",
    "            wandb.log({'Early stopping counter': self.patience_counter})\n",
    "\n",
    "            if self.patience_counter == self.patience:\n",
    "                self.stop = True\n",
    "                \n",
    "        elif loss <= self.min_loss:\n",
    "            self.patience_counter = 0\n",
    "            self.save_model = True\n",
    "            msg = f\"Validation loss decreased {self.min_loss} -> {loss}\"\n",
    "            self.min_loss = loss\n",
    "            check_point = {\n",
    "                'model': model.state_dict(),\n",
    "                'optimizer': optimizer.state_dict(),\n",
    "                'scheduler': scheduler.state_dict()\n",
    "            }\n",
    "            torch.save(check_point, (model_name + \"_aug_best32.pt\"))\n",
    "            \n",
    "        print(msg)"
   ]
  },
  {
   "cell_type": "markdown",
   "id": "1aaffd8d-b025-42c1-8dd8-69529487389e",
   "metadata": {
    "id": "1aaffd8d-b025-42c1-8dd8-69529487389e"
   },
   "source": [
    "### Trainer"
   ]
  },
  {
   "cell_type": "code",
   "execution_count": 19,
   "id": "5faaac1b-64c3-4659-82de-d4309502f29a",
   "metadata": {
    "id": "5faaac1b-64c3-4659-82de-d4309502f29a"
   },
   "outputs": [],
   "source": [
    "class Trainer():\n",
    "    \"\"\" epoch에 대한 학습 및 검증 절차 정의\"\"\"\n",
    "    \n",
    "    def __init__(self, loss_fn, model, device, metric_fn, optimizer=None, scheduler=None):\n",
    "        \"\"\" 초기화\n",
    "        \"\"\"\n",
    "        self.loss_fn = loss_fn\n",
    "        self.model = model\n",
    "        self.device = device\n",
    "        self.optimizer = optimizer\n",
    "        self.scheduler = scheduler\n",
    "        self.metric_fn = metric_fn\n",
    "\n",
    "    def train_epoch(self, dataloader, epoch_index):\n",
    "        \"\"\" 한 epoch에서 수행되는 학습 절차\"\"\"\n",
    "        \n",
    "        self.model.train()\n",
    "        train_total_loss = 0\n",
    "        target_lst = []\n",
    "        pred_lst = []\n",
    "        prob_lst = []\n",
    "\n",
    "        for batch_index, (img, label, _) in enumerate(dataloader):\n",
    "            img = img.to(self.device)\n",
    "            label = label.to(self.device).float()\n",
    "            \n",
    "            pred = self.model(img)\n",
    "            \n",
    "            loss = self.loss_fn(pred[:,1], label)\n",
    "            self.optimizer.zero_grad()\n",
    "            loss.backward()\n",
    "            self.optimizer.step()\n",
    "            self.scheduler.step()\n",
    "            \n",
    "            train_total_loss += loss.item()\n",
    "            prob_lst.extend(pred[:, 1].cpu().tolist())\n",
    "            target_lst.extend(label.cpu().tolist())\n",
    "            pred_lst.extend(pred.argmax(dim=1).cpu().tolist())\n",
    "        self.train_mean_loss = train_total_loss / batch_index\n",
    "        self.train_score, f1 = self.metric_fn(y_pred=pred_lst, y_answer=target_lst)\n",
    "        msg = f'\\nEpoch {epoch_index}, Train loss: {self.train_mean_loss}, Acc: {self.train_score}, F1-Macro: {f1}'\n",
    "        wandb.log({'train_accuracy': self.train_score, 'train_loss': self.train_mean_loss})\n",
    "        torch.cuda.empty_cache()\n",
    "        print(msg)\n",
    "\n",
    "    def validate_epoch(self, dataloader, epoch_index):\n",
    "        \"\"\" 한 epoch에서 수행되는 검증 절차\n",
    "        \"\"\"\n",
    "        self.model.eval()\n",
    "        val_total_loss = 0\n",
    "        target_lst = []\n",
    "        pred_lst = []\n",
    "        prob_lst = []\n",
    "\n",
    "        for batch_index, (img, label, _) in enumerate(dataloader):\n",
    "            img = img.to(self.device)\n",
    "            label = label.to(self.device).float()\n",
    "            pred = self.model(img)\n",
    "            \n",
    "            loss = self.loss_fn(pred[:,1], label)\n",
    "            val_total_loss += loss.item()\n",
    "            prob_lst.extend(pred[:, 1].cpu().tolist())\n",
    "            target_lst.extend(label.cpu().tolist())\n",
    "            pred_lst.extend(pred.argmax(dim=1).cpu().tolist())\n",
    "        self.val_mean_loss = val_total_loss / batch_index\n",
    "        self.validation_score, f1 = self.metric_fn(y_pred=pred_lst, y_answer=target_lst)\n",
    "        msg = f'\\nEpoch {epoch_index}, Val loss: {self.val_mean_loss}, Acc: {self.validation_score}, F1-Macro: {f1}'\n",
    "        wandb.log({'valid_accuracy': self.validation_score}) \n",
    "        wandb.log({'valid_loss': self.val_mean_loss})\n",
    "        torch.cuda.empty_cache()\n",
    "        print(msg)"
   ]
  },
  {
   "cell_type": "markdown",
   "id": "e2aca506-d168-4c9f-8eca-5cdecb122961",
   "metadata": {
    "id": "e2aca506-d168-4c9f-8eca-5cdecb122961"
   },
   "source": [
    "### Metrics"
   ]
  },
  {
   "cell_type": "code",
   "execution_count": 20,
   "id": "33678d90-a254-48d5-bf09-2a817eeafea3",
   "metadata": {
    "id": "33678d90-a254-48d5-bf09-2a817eeafea3"
   },
   "outputs": [],
   "source": [
    "from sklearn.metrics import accuracy_score, f1_score\n",
    "\n",
    "def get_metric_fn(y_pred, y_answer):\n",
    "    \"\"\" 성능을 반환하는 함수\"\"\"\n",
    "    \n",
    "    assert len(y_pred) == len(y_answer), 'The size of prediction and answer are not same.'\n",
    "    accuracy = accuracy_score(y_answer, y_pred)\n",
    "    f1 = f1_score(y_answer, y_pred, average='macro')\n",
    "    return accuracy, f1"
   ]
  },
  {
   "cell_type": "markdown",
   "id": "d729c079-9d85-49ce-857f-320b0c56a3a8",
   "metadata": {
    "id": "d729c079-9d85-49ce-857f-320b0c56a3a8",
    "tags": []
   },
   "source": [
    "## Train\n",
    "### 학습을 위한 객체 선언"
   ]
  },
  {
   "cell_type": "markdown",
   "id": "3bb8dae0-8e32-4ac0-a585-858a7095d2a4",
   "metadata": {
    "id": "3bb8dae0-8e32-4ac0-a585-858a7095d2a4"
   },
   "source": [
    "#### Load model and other utils"
   ]
  },
  {
   "cell_type": "code",
   "execution_count": 40,
   "id": "cb4d52e1-752a-40d5-9b34-c06d3dbdd45a",
   "metadata": {
    "id": "cb4d52e1-752a-40d5-9b34-c06d3dbdd45a"
   },
   "outputs": [],
   "source": [
    "# Set optimizer, scheduler, loss function, metric function\n",
    "loss_fn = nn.BCELoss()\n",
    "metric_fn = get_metric_fn"
   ]
  },
  {
   "cell_type": "markdown",
   "id": "d5aa8aef-b984-4133-b6b2-e1c85900f724",
   "metadata": {
    "id": "d5aa8aef-b984-4133-b6b2-e1c85900f724"
   },
   "source": [
    "### K-Fold 학습 진행"
   ]
  },
  {
   "cell_type": "code",
   "execution_count": null,
   "id": "xoUF1C-EM3V8",
   "metadata": {
    "id": "xoUF1C-EM3V8"
   },
   "outputs": [],
   "source": [
    "# from sklearn.model_selection import KFold\n",
    "\n",
    "\n",
    "# kfold = KFold(n_splits=K_FOLDS, shuffle=True, random_state=RANDOM_SEED)"
   ]
  },
  {
   "cell_type": "code",
   "execution_count": null,
   "id": "iGha98tTMuVc",
   "metadata": {
    "id": "iGha98tTMuVc",
    "tags": []
   },
   "outputs": [],
   "source": [
    "# train_loss_list = [[] for _ in range(EPOCHS)]\n",
    "# val_loss_list = [[] for _ in range(EPOCHS)]\n",
    "\n",
    "# for fold, (train_idx, val_idx) in enumerate(kfold.split(range(578))):\n",
    "#     print(f'============================{fold+1}th fold============================')\n",
    "#     augmentations = 0\n",
    "#     length = len(train_idx)\n",
    "#     if VFLIP:\n",
    "#         augmentations += 1\n",
    "#         vflip_idx = train_idx[:length] + (578 * augmentations)\n",
    "#         train_idx = np.concatenate((train_idx, vflip_idx))\n",
    "#     if HFLIP:\n",
    "#         augmentations += 1\n",
    "#         hflip_idx = train_idx[:length] + (578 * augmentations)\n",
    "#         train_idx = np.concatenate((train_idx, hflip_idx))\n",
    "#     if ROTATE:\n",
    "#         augmentations += 1\n",
    "#         rotate_idx = train_idx[:length] + (578 * augmentations)\n",
    "#         train_idx = np.concatenate((train_idx, rotate_idx))\n",
    "#     if FLIP_ROTATE:\n",
    "#         augmentations += 1\n",
    "#         frotate_idx = train_idx[:length] + (578 * augmentations)\n",
    "#         train_idx = np.concatenate((train_idx, frotate_idx))\n",
    "\n",
    "#     train_dataset = CustomDataset(data_dir=DATA_DIR, idx=train_idx, input_shape=INPUT_SHAPE)\n",
    "#     validation_dataset = CustomDataset(data_dir=DATA_DIR, idx=val_idx, input_shape=INPUT_SHAPE)\n",
    "#     train_dataloader = DataLoader(train_dataset, batch_size=BATCH_SIZE, shuffle=True)\n",
    "#     validation_dataloader = DataLoader(validation_dataset, batch_size=BATCH_SIZE, shuffle=True)\n",
    "\n",
    "#     model = Model_Define(NUM_CLS).to(DEVICE)\n",
    "\n",
    "#     optimizer = optim.Adam(model.parameters(), lr=LEARNING_RATE)\n",
    "#     scheduler =  optim.lr_scheduler.OneCycleLR(optimizer=optimizer, pct_start=0.1, div_factor=1e5, max_lr=0.0001, epochs=EPOCHS, steps_per_epoch=len(train_dataloader))\n",
    "\n",
    "#     # Set trainer\n",
    "#     trainer = Trainer(loss_fn, model, DEVICE, metric_fn, optimizer, scheduler)\n",
    "\n",
    "#     for epoch_index in tqdm(range(EPOCHS)):\n",
    "#         trainer.train_epoch(train_dataloader, epoch_index)\n",
    "#         trainer.validate_epoch(validation_dataloader, epoch_index)\n",
    "\n",
    "#         train_loss = trainer.train_mean_loss\n",
    "#         val_loss = trainer.val_mean_loss\n",
    "        \n",
    "#         train_loss_list[epoch_index].append(train_loss)\n",
    "#         val_loss_list[epoch_index].append(val_loss)\n",
    "        \n",
    "#         del train_loss, val_loss\n"
   ]
  },
  {
   "cell_type": "code",
   "execution_count": null,
   "id": "dcRhC0tqM8Dz",
   "metadata": {
    "id": "dcRhC0tqM8Dz"
   },
   "outputs": [],
   "source": [
    "# import matplotlib.pyplot as plt\n",
    "\n",
    "\n",
    "# fig, loss_ax = plt.subplots()\n",
    "\n",
    "# mean_train_loss = [np.mean(train_loss_list[i]) for i in range(EPOCHS)]\n",
    "# mean_val_loss = [np.mean(val_loss_list[i]) for i in range(EPOCHS)]\n",
    "\n",
    "# loss_ax.plot(mean_train_loss, 'y', label='train loss')\n",
    "# loss_ax.plot(mean_val_loss, 'r', label='val loss')\n",
    "# loss_ax.set_xlabel('epoch')\n",
    "# loss_ax.set_ylabel('loss')\n",
    "# loss_ax.legend(loc='lower left')\n",
    "\n",
    "# images = wandb.Image(loss_ax)\n",
    "# wandb.log({\"examples\": images}\n",
    "\n",
    "# plt.show()"
   ]
  },
  {
   "cell_type": "code",
   "execution_count": null,
   "id": "AeK0l-fUwKjX",
   "metadata": {
    "id": "AeK0l-fUwKjX"
   },
   "outputs": [],
   "source": [
    "# np.argmin(mean_val_loss)"
   ]
  },
  {
   "cell_type": "markdown",
   "id": "961bd326-7476-424a-9c4b-1d018fc287ce",
   "metadata": {
    "id": "961bd326-7476-424a-9c4b-1d018fc287ce",
    "tags": []
   },
   "source": [
    "## prev train"
   ]
  },
  {
   "cell_type": "code",
   "execution_count": 21,
   "id": "rQTdW7egaTs3",
   "metadata": {
    "id": "rQTdW7egaTs3"
   },
   "outputs": [],
   "source": [
    "new_df = pd.read_csv(os.path.join(DATA_DIR, 'augmentation.csv'))"
   ]
  },
  {
   "cell_type": "code",
   "execution_count": 22,
   "id": "IdX2aLlEwdet",
   "metadata": {
    "colab": {
     "base_uri": "https://localhost:8080/"
    },
    "id": "IdX2aLlEwdet",
    "outputId": "370126af-1ee6-4660-b0b1-b783facc1d91"
   },
   "outputs": [
    {
     "name": "stdout",
     "output_type": "stream",
     "text": [
      "Loading dataset..\n",
      "Loading dataset..\n"
     ]
    }
   ],
   "source": [
    "train_dataset = CustomDataset(data_dir=DATA_DIR, idx=range(len(new_df)), input_shape=INPUT_SHAPE)\n",
    "validation_dataset = ValidationDataset(data_dir=DATA_DIR, input_shape=INPUT_SHAPE)\n",
    "train_dataloader = DataLoader(train_dataset, batch_size=BATCH_SIZE, shuffle=True)\n",
    "validation_dataloader = DataLoader(validation_dataset, batch_size=BATCH_SIZE, shuffle=True)"
   ]
  },
  {
   "cell_type": "code",
   "execution_count": 23,
   "id": "VvDILMgfwWwy",
   "metadata": {
    "id": "VvDILMgfwWwy"
   },
   "outputs": [],
   "source": [
    "model = Model_Define(NUM_CLS).to(DEVICE)\n",
    "\n",
    "optimizer = optim.Adam(model.parameters(), lr=LEARNING_RATE)\n",
    "scheduler =  optim.lr_scheduler.OneCycleLR(optimizer=optimizer, pct_start=0.1, div_factor=1e5, max_lr=0.0001, epochs=EPOCHS, steps_per_epoch=len(train_dataloader))\n",
    "loss_fn = nn.BCELoss()\n",
    "metric_fn = get_metric_fn\n",
    "trainer = Trainer(loss_fn, model, DEVICE, metric_fn, optimizer, scheduler)\n",
    "\n",
    "# Set earlystopper\n",
    "early_stopper = LossEarlyStopper(patience=EARLY_STOPPING_PATIENCE)"
   ]
  },
  {
   "cell_type": "code",
   "execution_count": null,
   "id": "f9da5c57-7b80-4c30-bffc-f4a88caba06d",
   "metadata": {
    "colab": {
     "base_uri": "https://localhost:8080/",
     "height": 474
    },
    "id": "f9da5c57-7b80-4c30-bffc-f4a88caba06d",
    "outputId": "a282d8b9-09c7-4365-acf1-76822916a5e2"
   },
   "outputs": [
    {
     "name": "stderr",
     "output_type": "stream",
     "text": [
      "  0% 0/50 [00:00<?, ?it/s]"
     ]
    }
   ],
   "source": [
    "for epoch_index in tqdm(range(EPOCHS)):\n",
    "\n",
    "    trainer.train_epoch(train_dataloader, epoch_index)\n",
    "    trainer.validate_epoch(validation_dataloader, epoch_index)\n",
    "\n",
    "    # early_stopping check\n",
    "#     early_stopper.check_early_stopping(loss=trainer.val_mean_loss)\n",
    "\n",
    "#     if early_stopper.stop:\n",
    "#         print('Early stopped')\n",
    "#         break\n",
    "\n",
    "    if early_stopper.save_model:\n",
    "        check_point = {\n",
    "            'model': model.state_dict(),\n",
    "            'optimizer': optimizer.state_dict(),\n",
    "            'scheduler': scheduler.state_dict()\n",
    "        }\n",
    "        torch.save(model.state_dict(), model_name + \"regnetz_b16.pt\")"
   ]
  },
  {
   "cell_type": "code",
   "execution_count": null,
   "id": "7cea68f0-dfad-47ce-a8ca-00ea01988886",
   "metadata": {
    "id": "7cea68f0-dfad-47ce-a8ca-00ea01988886"
   },
   "outputs": [],
   "source": [
    "# torch.save(model.state_dict(), model_name + \"_aug1_best.pt\")"
   ]
  },
  {
   "cell_type": "markdown",
   "id": "fe53514a-e83f-4795-9589-640f26cc2993",
   "metadata": {
    "id": "fe53514a-e83f-4795-9589-640f26cc2993"
   },
   "source": [
    "## Inference\n",
    "### 모델 로드"
   ]
  },
  {
   "cell_type": "code",
   "execution_count": null,
   "id": "6729cfde-c4b3-4d36-938e-f8bb8d8afef3",
   "metadata": {
    "id": "6729cfde-c4b3-4d36-938e-f8bb8d8afef3"
   },
   "outputs": [],
   "source": [
    "TRAINED_MODEL_PATH = model_name + \"_aug_best.pt\""
   ]
  },
  {
   "cell_type": "markdown",
   "id": "8fda1c64",
   "metadata": {
    "id": "8fda1c64"
   },
   "source": [
    "## confusion matrix"
   ]
  },
  {
   "cell_type": "code",
   "execution_count": null,
   "id": "a49fe293",
   "metadata": {
    "id": "a49fe293"
   },
   "outputs": [],
   "source": [
    "# 평가 함수 정의\n",
    "def get_clf_eval(y_actual, y_pred):\n",
    "    accuracy = accuracy_score(y_actual, y_pred)\n",
    "    precision = precision_score(y_actual, y_pred)\n",
    "    recall = recall_score(y_actual, y_pred)\n",
    "    PR_AUC = average_precision_score(y_actual, y_pred)\n",
    "    AUC = roc_auc_score(y_actual, y_pred)\n",
    "    F1 = f1_score(y_actual, y_pred, average='macro')\n",
    "    print('\\n정확도: {:.4f}'.format(accuracy))\n",
    "    print('정밀도: {:.4f}'.format(precision))\n",
    "    print('재현율: {:.4f}'.format(recall))\n",
    "    print('AUC: {:.4f}'.format(AUC))\n",
    "    print('F1: {:.4f}'.format(F1))\n",
    "    \n",
    "    sns.heatmap(confusion_matrix(y_actual, y_pred), annot=True, fmt='d', cmap='YlGnBu')"
   ]
  },
  {
   "cell_type": "code",
   "execution_count": null,
   "id": "WB9kc5ltR-sW",
   "metadata": {
    "colab": {
     "base_uri": "https://localhost:8080/"
    },
    "id": "WB9kc5ltR-sW",
    "outputId": "c7d7fbb2-d87b-4f61-f223-feb95f27f7d9"
   },
   "outputs": [
    {
     "data": {
      "text/plain": [
       "<All keys matched successfully>"
      ]
     },
     "execution_count": 44,
     "metadata": {},
     "output_type": "execute_result"
    }
   ],
   "source": [
    "model.load_state_dict(torch.load(TRAINED_MODEL_PATH)['model'])"
   ]
  },
  {
   "cell_type": "code",
   "execution_count": null,
   "id": "dda53410",
   "metadata": {
    "colab": {
     "base_uri": "https://localhost:8080/"
    },
    "id": "dda53410",
    "outputId": "6417d8d8-a021-46de-92bc-e3c473b31a2b",
    "tags": []
   },
   "outputs": [
    {
     "name": "stderr",
     "output_type": "stream",
     "text": [
      "170it [00:42,  4.02it/s]\n",
      "4it [00:01,  3.89it/s]\n"
     ]
    }
   ],
   "source": [
    "train_actual = []\n",
    "validation_actual = []\n",
    "train_pred_lst = []\n",
    "validation_pred_lst = []\n",
    "\n",
    "model.eval()\n",
    "with torch.no_grad():\n",
    "    for batch_index, (img, label, _) in tqdm(enumerate(train_dataloader)):\n",
    "        img = img.to(DEVICE)\n",
    "        pred = model(img)\n",
    "        train_actual += (list(label.numpy()))\n",
    "        train_pred_lst.extend(pred.argmax(dim=1).tolist())\n",
    "\n",
    "with torch.no_grad():\n",
    "    for batch_index, (img, label, _) in tqdm(enumerate(validation_dataloader)):\n",
    "        img = img.to(DEVICE)\n",
    "        pred = model(img)\n",
    "        validation_actual += (list(label))\n",
    "        validation_pred_lst.extend(pred.argmax(dim=1).tolist())"
   ]
  },
  {
   "cell_type": "code",
   "execution_count": null,
   "id": "afa91de4",
   "metadata": {
    "colab": {
     "base_uri": "https://localhost:8080/",
     "height": 375
    },
    "id": "afa91de4",
    "outputId": "c0e11ee6-aa1d-45c8-c515-fabe6065de2f"
   },
   "outputs": [
    {
     "name": "stdout",
     "output_type": "stream",
     "text": [
      "\n",
      "정확도: 0.9436\n",
      "정밀도: 0.9387\n",
      "재현율: 0.9407\n",
      "AUC: 0.9434\n",
      "F1: 0.9434\n"
     ]
    },
    {
     "data": {
      "image/png": "[encoded data removed]",
      "text/plain": [
       "<Figure size 432x288 with 2 Axes>"
      ]
     },
     "metadata": {
      "needs_background": "light"
     },
     "output_type": "display_data"
    }
   ],
   "source": [
    "get_clf_eval(train_actual, train_pred_lst)"
   ]
  },
  {
   "cell_type": "code",
   "execution_count": null,
   "id": "c6f22070",
   "metadata": {
    "colab": {
     "base_uri": "https://localhost:8080/",
     "height": 375
    },
    "id": "c6f22070",
    "outputId": "e5c0aa9a-31eb-4d8d-83ec-b7f23a684984"
   },
   "outputs": [
    {
     "name": "stdout",
     "output_type": "stream",
     "text": [
      "\n",
      "정확도: 0.8088\n",
      "정밀도: 0.8182\n",
      "재현율: 0.7941\n",
      "AUC: 0.8088\n",
      "F1: 0.8088\n"
     ]
    },
    {
     "data": {
      "image/png": "[encoded data removed]",
      "text/plain": [
       "<Figure size 432x288 with 2 Axes>"
      ]
     },
     "metadata": {
      "needs_background": "light"
     },
     "output_type": "display_data"
    }
   ],
   "source": [
    "get_clf_eval(validation_actual, validation_pred_lst)"
   ]
  },
  {
   "cell_type": "markdown",
   "id": "GwMdcjjPUZjz",
   "metadata": {
    "id": "GwMdcjjPUZjz"
   },
   "source": [
    "# Make submission"
   ]
  },
  {
   "cell_type": "markdown",
   "id": "75bbba92-b53c-499f-b5f9-b6ac3edde331",
   "metadata": {
    "id": "75bbba92-b53c-499f-b5f9-b6ac3edde331"
   },
   "source": [
    "### Load dataset"
   ]
  },
  {
   "cell_type": "code",
   "execution_count": null,
   "id": "ced90de9-50ec-4e18-9f42-5a1b493941a5",
   "metadata": {
    "id": "ced90de9-50ec-4e18-9f42-5a1b493941a5"
   },
   "outputs": [],
   "source": [
    "class TestDataset(Dataset):\n",
    "    def __init__(self, data_dir, input_shape):\n",
    "        self.data_dir = data_dir\n",
    "        self.input_shape = input_shape\n",
    "        \n",
    "        # Loading dataset\n",
    "        self.db = self.data_loader()\n",
    "        \n",
    "        # Transform function\n",
    "        self.transform = transforms.Compose([transforms.Resize(self.input_shape),\n",
    "                                             transforms.ToTensor(),\n",
    "                                             transforms.Normalize([0.485, 0.456, 0.406], [0.229, 0.224, 0.225])])\n",
    "\n",
    "    def data_loader(self):\n",
    "        print('Loading test dataset..')\n",
    "        if not os.path.isdir(self.data_dir):\n",
    "            print(f'!!! Cannot find {self.data_dir}... !!!')\n",
    "            sys.exit()\n",
    "        \n",
    "        db = pd.read_csv(os.path.join(self.data_dir, 'sample_submission.csv'))\n",
    "        return db\n",
    "    \n",
    "    def __len__(self):\n",
    "        return len(self.db)\n",
    "    \n",
    "    def __getitem__(self, index):\n",
    "        data = copy.deepcopy(self.db.loc[index])\n",
    "        \n",
    "        # Loading image\n",
    "        cvimg = cv2.imread(os.path.join(self.data_dir,'test',data['file_name']), cv2.IMREAD_COLOR | cv2.IMREAD_IGNORE_ORIENTATION)\n",
    "        if not isinstance(cvimg, np.ndarray):\n",
    "            raise IOError(\"Fail to read %s\" % data['file_name'])\n",
    "\n",
    "        # Preprocessing images\n",
    "        trans_image = self.transform(Image.fromarray(cvimg))\n",
    "\n",
    "\n",
    "        ####################################################################\n",
    "        ####                 리턴값에 -1 추가해줘야함                   ####\n",
    "        ####################################################################\n",
    "        return trans_image, -1, data['file_name']"
   ]
  },
  {
   "cell_type": "code",
   "execution_count": null,
   "id": "cdd31a3d-08cd-48fc-87b0-137976d4d4bb",
   "metadata": {
    "colab": {
     "base_uri": "https://localhost:8080/"
    },
    "id": "cdd31a3d-08cd-48fc-87b0-137976d4d4bb",
    "outputId": "e5403465-dd25-4181-fc94-49e3cbfd1cef"
   },
   "outputs": [
    {
     "name": "stdout",
     "output_type": "stream",
     "text": [
      "Loading test dataset..\n"
     ]
    }
   ],
   "source": [
    "# Load dataset & dataloader\n",
    "test_dataset = TestDataset(data_dir=DATA_DIR, input_shape=INPUT_SHAPE)\n",
    "test_dataloader = DataLoader(dataset=test_dataset, batch_size=BATCH_SIZE, shuffle=False)"
   ]
  },
  {
   "cell_type": "markdown",
   "id": "53efd72b-172d-4e34-a1dd-65ed8c745b58",
   "metadata": {
    "id": "53efd72b-172d-4e34-a1dd-65ed8c745b58"
   },
   "source": [
    "## 추론 진행"
   ]
  },
  {
   "cell_type": "code",
   "execution_count": null,
   "id": "16a090ea-bb34-4d3d-a127-b1190e8c416c",
   "metadata": {
    "colab": {
     "base_uri": "https://localhost:8080/"
    },
    "id": "16a090ea-bb34-4d3d-a127-b1190e8c416c",
    "outputId": "4dd4c8c7-0952-46c1-b951-388e4e6e3478",
    "tags": []
   },
   "outputs": [
    {
     "name": "stderr",
     "output_type": "stream",
     "text": [
      "1it [00:08,  8.06s/it]"
     ]
    },
    {
     "name": "stdout",
     "output_type": "stream",
     "text": [
      "tensor([[9.4084e-01, 5.9159e-02],\n",
      "        [6.4172e-01, 3.5828e-01],\n",
      "        [9.1287e-01, 8.7132e-02],\n",
      "        [3.7799e-03, 9.9622e-01],\n",
      "        [9.5327e-01, 4.6729e-02],\n",
      "        [6.5794e-02, 9.3421e-01],\n",
      "        [1.0978e-01, 8.9022e-01],\n",
      "        [1.9839e-01, 8.0161e-01],\n",
      "        [9.1098e-01, 8.9020e-02],\n",
      "        [2.9819e-03, 9.9702e-01],\n",
      "        [8.3555e-01, 1.6445e-01],\n",
      "        [9.2357e-01, 7.6428e-02],\n",
      "        [9.3737e-01, 6.2631e-02],\n",
      "        [9.9968e-01, 3.2005e-04],\n",
      "        [7.5793e-01, 2.4207e-01],\n",
      "        [6.8966e-01, 3.1034e-01],\n",
      "        [3.0523e-01, 6.9477e-01]], device='cuda:0')\n"
     ]
    },
    {
     "name": "stderr",
     "output_type": "stream",
     "text": [
      "2it [00:13,  6.60s/it]"
     ]
    },
    {
     "name": "stdout",
     "output_type": "stream",
     "text": [
      "tensor([[9.9518e-01, 4.8229e-03],\n",
      "        [9.7182e-01, 2.8185e-02],\n",
      "        [9.8718e-01, 1.2824e-02],\n",
      "        [8.8714e-01, 1.1286e-01],\n",
      "        [6.7507e-01, 3.2493e-01],\n",
      "        [6.9712e-01, 3.0288e-01],\n",
      "        [9.9701e-01, 2.9876e-03],\n",
      "        [1.1166e-01, 8.8834e-01],\n",
      "        [9.8537e-01, 1.4626e-02],\n",
      "        [9.4681e-01, 5.3190e-02],\n",
      "        [9.9692e-01, 3.0751e-03],\n",
      "        [7.6210e-01, 2.3790e-01],\n",
      "        [4.6821e-02, 9.5318e-01],\n",
      "        [3.1558e-01, 6.8442e-01],\n",
      "        [8.7185e-04, 9.9913e-01],\n",
      "        [4.9994e-02, 9.5001e-01],\n",
      "        [9.4703e-01, 5.2968e-02]], device='cuda:0')\n"
     ]
    },
    {
     "name": "stderr",
     "output_type": "stream",
     "text": [
      "3it [00:19,  6.47s/it]"
     ]
    },
    {
     "name": "stdout",
     "output_type": "stream",
     "text": [
      "tensor([[0.3548, 0.6452],\n",
      "        [0.0742, 0.9258],\n",
      "        [0.6626, 0.3374],\n",
      "        [0.7746, 0.2254],\n",
      "        [0.0168, 0.9832],\n",
      "        [0.9826, 0.0174],\n",
      "        [0.0083, 0.9917],\n",
      "        [0.8823, 0.1177],\n",
      "        [0.1971, 0.8029],\n",
      "        [0.0058, 0.9942],\n",
      "        [0.0056, 0.9944],\n",
      "        [0.6827, 0.3173],\n",
      "        [0.6534, 0.3466],\n",
      "        [0.4153, 0.5847],\n",
      "        [0.9695, 0.0305],\n",
      "        [0.8865, 0.1135],\n",
      "        [0.1481, 0.8519]], device='cuda:0')\n"
     ]
    },
    {
     "name": "stderr",
     "output_type": "stream",
     "text": [
      "4it [00:25,  6.18s/it]"
     ]
    },
    {
     "name": "stdout",
     "output_type": "stream",
     "text": [
      "tensor([[2.7819e-04, 9.9972e-01],\n",
      "        [1.5001e-01, 8.4999e-01],\n",
      "        [3.7205e-01, 6.2795e-01],\n",
      "        [2.7773e-01, 7.2227e-01],\n",
      "        [1.2912e-02, 9.8709e-01],\n",
      "        [6.0686e-01, 3.9314e-01],\n",
      "        [2.6936e-02, 9.7306e-01],\n",
      "        [8.4747e-01, 1.5253e-01],\n",
      "        [1.4425e-01, 8.5575e-01],\n",
      "        [2.2618e-01, 7.7382e-01],\n",
      "        [2.5246e-01, 7.4754e-01],\n",
      "        [7.3642e-01, 2.6358e-01],\n",
      "        [7.8114e-01, 2.1886e-01],\n",
      "        [8.1320e-01, 1.8680e-01],\n",
      "        [2.6378e-02, 9.7362e-01],\n",
      "        [9.3019e-01, 6.9813e-02],\n",
      "        [6.2154e-02, 9.3785e-01]], device='cuda:0')\n"
     ]
    },
    {
     "name": "stderr",
     "output_type": "stream",
     "text": [
      "5it [00:31,  5.91s/it]"
     ]
    },
    {
     "name": "stdout",
     "output_type": "stream",
     "text": [
      "tensor([[0.0729, 0.9271],\n",
      "        [0.9845, 0.0155],\n",
      "        [0.3157, 0.6843],\n",
      "        [0.9874, 0.0126],\n",
      "        [0.5236, 0.4764],\n",
      "        [0.9987, 0.0013],\n",
      "        [0.1149, 0.8851],\n",
      "        [0.7854, 0.2146],\n",
      "        [0.9961, 0.0039],\n",
      "        [0.9978, 0.0022],\n",
      "        [0.0075, 0.9925],\n",
      "        [0.0637, 0.9363],\n",
      "        [0.2059, 0.7941],\n",
      "        [0.8874, 0.1126],\n",
      "        [0.9719, 0.0281],\n",
      "        [0.0187, 0.9813],\n",
      "        [0.7462, 0.2538]], device='cuda:0')\n"
     ]
    },
    {
     "name": "stderr",
     "output_type": "stream",
     "text": [
      "6it [00:35,  5.96s/it]"
     ]
    },
    {
     "name": "stdout",
     "output_type": "stream",
     "text": [
      "tensor([[0.1767, 0.8233],\n",
      "        [0.9960, 0.0040],\n",
      "        [0.0019, 0.9981],\n",
      "        [0.6246, 0.3754],\n",
      "        [0.0339, 0.9661],\n",
      "        [0.8110, 0.1890],\n",
      "        [0.4457, 0.5543],\n",
      "        [0.1236, 0.8764],\n",
      "        [0.0535, 0.9465],\n",
      "        [0.9936, 0.0064],\n",
      "        [0.9597, 0.0403],\n",
      "        [0.0355, 0.9645],\n",
      "        [0.0218, 0.9782],\n",
      "        [0.0696, 0.9304],\n",
      "        [0.8242, 0.1758]], device='cuda:0')\n"
     ]
    },
    {
     "name": "stderr",
     "output_type": "stream",
     "text": [
      "\n"
     ]
    }
   ],
   "source": [
    "model.load_state_dict(torch.load(TRAINED_MODEL_PATH)['model'])\n",
    "\n",
    "# Prediction\n",
    "file_lst = []\n",
    "pred_lst = []\n",
    "prob_lst = []\n",
    "model.eval()\n",
    "with torch.no_grad():\n",
    "    for batch_index, (img, _, file_num) in tqdm(enumerate(test_dataloader)):\n",
    "        img = img.to(DEVICE)\n",
    "        pred = model(img)\n",
    "        print(pred)\n",
    "        file_lst.extend(list(file_num))\n",
    "        pred_lst.extend(pred.argmax(dim=1).tolist())\n",
    "        prob_lst.extend(pred[:, 1].tolist())"
   ]
  },
  {
   "cell_type": "code",
   "execution_count": null,
   "id": "4t897lbgTvOW",
   "metadata": {
    "colab": {
     "base_uri": "https://localhost:8080/"
    },
    "id": "4t897lbgTvOW",
    "outputId": "44d5cc14-440b-4254-db83-fa0872f6b5a3"
   },
   "outputs": [
    {
     "data": {
      "text/plain": [
       "[0.059158630669116974,\n",
       " 0.35827502608299255,\n",
       " 0.08713150024414062,\n",
       " 0.9962201714515686,\n",
       " 0.04672931507229805,\n",
       " 0.9342062473297119,\n",
       " 0.8902220726013184,\n",
       " 0.8016085028648376,\n",
       " 0.08902015537023544,\n",
       " 0.9970180988311768,\n",
       " 0.1644524335861206,\n",
       " 0.07642757147550583,\n",
       " 0.06263094395399094,\n",
       " 0.000320046761771664,\n",
       " 0.24206528067588806,\n",
       " 0.3103412091732025,\n",
       " 0.694769024848938,\n",
       " 0.004822899121791124,\n",
       " 0.0281846821308136,\n",
       " 0.01282438449561596,\n",
       " 0.1128624677658081,\n",
       " 0.32493358850479126,\n",
       " 0.3028775453567505,\n",
       " 0.0029875661712139845,\n",
       " 0.8883414268493652,\n",
       " 0.014625920914113522,\n",
       " 0.05318951606750488,\n",
       " 0.003075055778026581,\n",
       " 0.23789699375629425,\n",
       " 0.9531794190406799,\n",
       " 0.6844194531440735,\n",
       " 0.9991281628608704,\n",
       " 0.9500063061714172,\n",
       " 0.05296787619590759,\n",
       " 0.6451700329780579,\n",
       " 0.9257652759552002,\n",
       " 0.33739790320396423,\n",
       " 0.22538678348064423,\n",
       " 0.9831732511520386,\n",
       " 0.017412902787327766,\n",
       " 0.9917266368865967,\n",
       " 0.11769857257604599,\n",
       " 0.8029398322105408,\n",
       " 0.9941602945327759,\n",
       " 0.9943736791610718,\n",
       " 0.31728002429008484,\n",
       " 0.34656649827957153,\n",
       " 0.584726095199585,\n",
       " 0.03045463003218174,\n",
       " 0.11346419155597687,\n",
       " 0.8519144058227539,\n",
       " 0.9997218251228333,\n",
       " 0.849987804889679,\n",
       " 0.6279456615447998,\n",
       " 0.7222709655761719,\n",
       " 0.987087607383728,\n",
       " 0.393138587474823,\n",
       " 0.973064124584198,\n",
       " 0.15252937376499176,\n",
       " 0.8557459712028503,\n",
       " 0.773823082447052,\n",
       " 0.7475360631942749,\n",
       " 0.2635757327079773,\n",
       " 0.21885918080806732,\n",
       " 0.18679693341255188,\n",
       " 0.9736214876174927,\n",
       " 0.0698133185505867,\n",
       " 0.9378461241722107,\n",
       " 0.9271368384361267,\n",
       " 0.015526912175118923,\n",
       " 0.6842560172080994,\n",
       " 0.0126498369500041,\n",
       " 0.4763854444026947,\n",
       " 0.0012708810390904546,\n",
       " 0.8850581645965576,\n",
       " 0.21456770598888397,\n",
       " 0.003947226796299219,\n",
       " 0.0021609242539852858,\n",
       " 0.9925221800804138,\n",
       " 0.936283528804779,\n",
       " 0.7940579652786255,\n",
       " 0.11263127624988556,\n",
       " 0.028096381574869156,\n",
       " 0.9813324213027954,\n",
       " 0.2538268268108368,\n",
       " 0.8232808709144592,\n",
       " 0.004046136513352394,\n",
       " 0.9980999827384949,\n",
       " 0.3753510117530823,\n",
       " 0.9661389589309692,\n",
       " 0.18900063633918762,\n",
       " 0.5543076395988464,\n",
       " 0.8763516545295715,\n",
       " 0.9464950561523438,\n",
       " 0.006373286712914705,\n",
       " 0.040269773453474045,\n",
       " 0.964523434638977,\n",
       " 0.9781572222709656,\n",
       " 0.9303897619247437,\n",
       " 0.17575272917747498]"
      ]
     },
     "execution_count": 51,
     "metadata": {},
     "output_type": "execute_result"
    }
   ],
   "source": [
    "prob_lst"
   ]
  },
  {
   "cell_type": "code",
   "execution_count": null,
   "id": "h2CfOJvQa1-9",
   "metadata": {
    "colab": {
     "base_uri": "https://localhost:8080/"
    },
    "id": "h2CfOJvQa1-9",
    "outputId": "4b46edd5-18cb-48e9-f2b5-4f481238176d"
   },
   "outputs": [
    {
     "ename": "NameError",
     "evalue": "name 'grad_cam' is not defined",
     "output_type": "error",
     "traceback": [
      "\u001b[0;31m---------------------------------------------------------------------------\u001b[0m",
      "\u001b[0;31mNameError\u001b[0m                                 Traceback (most recent call last)",
      "\u001b[0;32m/tmp/ipykernel_45167/2349987662.py\u001b[0m in \u001b[0;36m<module>\u001b[0;34m\u001b[0m\n\u001b[1;32m      1\u001b[0m \u001b[0;31m# test set에 대한 gradcam\u001b[0m\u001b[0;34m\u001b[0m\u001b[0;34m\u001b[0m\u001b[0;34m\u001b[0m\u001b[0m\n\u001b[0;32m----> 2\u001b[0;31m \u001b[0mgrad_cam\u001b[0m\u001b[0;34m(\u001b[0m\u001b[0mtest_dataset\u001b[0m\u001b[0;34m,\u001b[0m \u001b[0;34m'test'\u001b[0m\u001b[0;34m)\u001b[0m\u001b[0;34m\u001b[0m\u001b[0;34m\u001b[0m\u001b[0m\n\u001b[0m",
      "\u001b[0;31mNameError\u001b[0m: name 'grad_cam' is not defined"
     ]
    }
   ],
   "source": [
    "# test set에 대한 gradcam\n",
    "# grad_cam(test_dataset, 'test')"
   ]
  },
  {
   "cell_type": "markdown",
   "id": "056169d1-64a8-4b81-8daf-722b029cf2b9",
   "metadata": {
    "id": "056169d1-64a8-4b81-8daf-722b029cf2b9"
   },
   "source": [
    "## 결과 저장"
   ]
  },
  {
   "cell_type": "code",
   "execution_count": null,
   "id": "f133cd86-b87b-4f8b-ae0e-c240655ae9ff",
   "metadata": {
    "id": "f133cd86-b87b-4f8b-ae0e-c240655ae9ff"
   },
   "outputs": [],
   "source": [
    "df = pd.DataFrame({'file_name':file_lst, 'COVID':pred_lst})\n",
    "# df.sort_values(by=['file_name'], inplace=True)\n",
    "df.to_csv(model_name + '_aug1_prediction.csv', index=False)\n",
    "\n",
    "\n",
    "dfp = pd.DataFrame({'file_name':file_lst, 'COVID':prob_lst})\n",
    "# df.sort_values(by=['file_name'], inplace=True)\n",
    "dfp.to_csv(model_name + '_aug1_pred.csv', index=False)"
   ]
  },
  {
   "cell_type": "code",
   "execution_count": null,
   "id": "03a5b7ae-2810-42c4-9335-ae1c6b6e2746",
   "metadata": {
    "colab": {
     "base_uri": "https://localhost:8080/",
     "height": 309,
     "referenced_widgets": [
      "378027a9dea949949f1a69ed806143af",
      "f313643529d344469b2f41d5cd2c66c4",
      "a0472ab25f454deca6a6e077323bd94b",
      "6b12a2979a3a4f55bee8f724794e60d0",
      "b88035a72222483b8937b48ecb23a220",
      "33cd8fb3b54948f295ec74b583b12e96",
      "5c7d9795e93c4ceb9ba779b965a3b9ea",
      "c7db96f57031486ea53ce31a25586654"
     ]
    },
    "id": "03a5b7ae-2810-42c4-9335-ae1c6b6e2746",
    "outputId": "f5b917c0-0fb0-44cf-d554-442e79b58a6a"
   },
   "outputs": [
    {
     "data": {
      "text/html": [
       "<br/>Waiting for W&B process to finish, PID 2317... <strong style=\"color:green\">(success).</strong>"
      ],
      "text/plain": [
       "<IPython.core.display.HTML object>"
      ]
     },
     "metadata": {},
     "output_type": "display_data"
    },
    {
     "data": {
      "application/vnd.jupyter.widget-view+json": {
       "model_id": "378027a9dea949949f1a69ed806143af",
       "version_major": 2,
       "version_minor": 0
      },
      "text/plain": [
       "VBox(children=(Label(value=' 0.00MB of 0.00MB uploaded (0.00MB deduped)\\r'), FloatProgress(value=1.0, max=1.0)…"
      ]
     },
     "metadata": {},
     "output_type": "display_data"
    },
    {
     "data": {
      "text/html": [
       "<style>\n",
       "    table.wandb td:nth-child(1) { padding: 0 10px; text-align: right }\n",
       "    .wandb-row { display: flex; flex-direction: row; flex-wrap: wrap; width: 100% }\n",
       "    .wandb-col { display: flex; flex-direction: column; flex-basis: 100%; flex: 1; padding: 10px; }\n",
       "    </style>\n",
       "<div class=\"wandb-row\"><div class=\"wandb-col\">\n",
       "<h3>Run history:</h3><br/><table class=\"wandb\"><tr><td>Early stopping counter</td><td>▁▁▂▁▁▂▂▂▃▃▄▄▄▅▅▅▆▆▇▇▇██</td></tr><tr><td>train_accuracy</td><td>▁▃▄▄▄▅▅▆▆▇▇▇▇████████████████</td></tr><tr><td>train_loss</td><td>██▇▇▇▇▅▄▄▃▃▂▂▂▂▁▁▁▁▁▁▁▁▁▁▁▁▁▁</td></tr><tr><td>valid_accuracy</td><td>▁▄▄▄▄▅▄▆▇▇▄▆▆▆▇▅▅▆▇▆▇█▆█▆▇▆▆▇</td></tr><tr><td>valid_loss</td><td>▃▃▃▃▃▄▂▂▁▂▅▃▅▄▄▅█▇▅▆▇▅▅▄▆█▆█▆</td></tr></table><br/></div><div class=\"wandb-col\">\n",
       "<h3>Run summary:</h3><br/><table class=\"wandb\"><tr><td>Early stopping counter</td><td>20</td></tr><tr><td>train_accuracy</td><td>0.99481</td></tr><tr><td>train_loss</td><td>0.02175</td></tr><tr><td>valid_accuracy</td><td>0.79412</td></tr><tr><td>valid_loss</td><td>1.24815</td></tr></table>\n",
       "</div></div>\n",
       "Synced 5 W&B file(s), 0 media file(s), 0 artifact file(s) and 0 other file(s)\n",
       "<br/>Synced <strong style=\"color:#cdcd00\">indulgent-admirer-2</strong>: <a href=\"https://wandb.ai/ruinable/regnetz_b16/runs/2ahl9p1p\" target=\"_blank\">https://wandb.ai/ruinable/regnetz_b16/runs/2ahl9p1p</a><br/>\n",
       "Find logs at: <code>./wandb/run-20220214_104915-2ahl9p1p/logs</code><br/>\n"
      ],
      "text/plain": [
       "<IPython.core.display.HTML object>"
      ]
     },
     "metadata": {},
     "output_type": "display_data"
    }
   ],
   "source": [
    "wandb.finish()"
   ]
  },
  {
   "cell_type": "code",
   "execution_count": null,
   "id": "dff668ab-22d1-4b86-9c6c-da657940077b",
   "metadata": {
    "id": "dff668ab-22d1-4b86-9c6c-da657940077b"
   },
   "outputs": [],
   "source": []
  }
 ],
 "metadata": {
  "accelerator": "GPU",
  "colab": {
   "collapsed_sections": [],
   "machine_shape": "hm",
   "name": "new_baseline-regnetz_b16.ipynb",
   "provenance": []
  },
  "kernelspec": {
   "display_name": "Python 3 (ipykernel)",
   "language": "python",
   "name": "python3"
  },
  "language_info": {
   "codemirror_mode": {
    "name": "ipython",
    "version": 3
   },
   "file_extension": ".py",
   "mimetype": "text/x-python",
   "name": "python",
   "nbconvert_exporter": "python",
   "pygments_lexer": "ipython3",
   "version": "3.8.5"
  },
  "widgets": {
   "application/vnd.jupyter.widget-state+json": {
    "1b6d8274d8a947d486cdae4429b5d8d0": {
     "model_module": "@jupyter-widgets/controls",
     "model_module_version": "1.5.0",
     "model_name": "LabelModel",
     "state": {
      "_dom_classes": [],
      "_model_module": "@jupyter-widgets/controls",
      "_model_module_version": "1.5.0",
      "_model_name": "LabelModel",
      "_view_count": null,
      "_view_module": "@jupyter-widgets/controls",
      "_view_module_version": "1.5.0",
      "_view_name": "LabelView",
      "description": "",
      "description_tooltip": null,
      "layout": "IPY_MODEL_8d9cfb4f291443d8a09c31111bfd71d5",
      "placeholder": "​",
      "style": "IPY_MODEL_6582b0ad90cf4ceea41f77cbf6cda48b",
      "value": " 0.01MB of 0.01MB uploaded (0.00MB deduped)\r"
     }
    },
    "33cd8fb3b54948f295ec74b583b12e96": {
     "model_module": "@jupyter-widgets/base",
     "model_module_version": "1.2.0",
     "model_name": "LayoutModel",
     "state": {
      "_model_module": "@jupyter-widgets/base",
      "_model_module_version": "1.2.0",
      "_model_name": "LayoutModel",
      "_view_count": null,
      "_view_module": "@jupyter-widgets/base",
      "_view_module_version": "1.2.0",
      "_view_name": "LayoutView",
      "align_content": null,
      "align_items": null,
      "align_self": null,
      "border": null,
      "bottom": null,
      "display": null,
      "flex": null,
      "flex_flow": null,
      "grid_area": null,
      "grid_auto_columns": null,
      "grid_auto_flow": null,
      "grid_auto_rows": null,
      "grid_column": null,
      "grid_gap": null,
      "grid_row": null,
      "grid_template_areas": null,
      "grid_template_columns": null,
      "grid_template_rows": null,
      "height": null,
      "justify_content": null,
      "justify_items": null,
      "left": null,
      "margin": null,
      "max_height": null,
      "max_width": null,
      "min_height": null,
      "min_width": null,
      "object_fit": null,
      "object_position": null,
      "order": null,
      "overflow": null,
      "overflow_x": null,
      "overflow_y": null,
      "padding": null,
      "right": null,
      "top": null,
      "visibility": null,
      "width": null
     }
    },
    "378027a9dea949949f1a69ed806143af": {
     "model_module": "@jupyter-widgets/controls",
     "model_module_version": "1.5.0",
     "model_name": "VBoxModel",
     "state": {
      "_dom_classes": [],
      "_model_module": "@jupyter-widgets/controls",
      "_model_module_version": "1.5.0",
      "_model_name": "VBoxModel",
      "_view_count": null,
      "_view_module": "@jupyter-widgets/controls",
      "_view_module_version": "1.5.0",
      "_view_name": "VBoxView",
      "box_style": "",
      "children": [
       "IPY_MODEL_a0472ab25f454deca6a6e077323bd94b",
       "IPY_MODEL_6b12a2979a3a4f55bee8f724794e60d0"
      ],
      "layout": "IPY_MODEL_f313643529d344469b2f41d5cd2c66c4"
     }
    },
    "5c7d9795e93c4ceb9ba779b965a3b9ea": {
     "model_module": "@jupyter-widgets/controls",
     "model_module_version": "1.5.0",
     "model_name": "ProgressStyleModel",
     "state": {
      "_model_module": "@jupyter-widgets/controls",
      "_model_module_version": "1.5.0",
      "_model_name": "ProgressStyleModel",
      "_view_count": null,
      "_view_module": "@jupyter-widgets/base",
      "_view_module_version": "1.2.0",
      "_view_name": "StyleView",
      "bar_color": null,
      "description_width": ""
     }
    },
    "5f591d1204204ee0b563e4ac4bb8500f": {
     "model_module": "@jupyter-widgets/controls",
     "model_module_version": "1.5.0",
     "model_name": "VBoxModel",
     "state": {
      "_dom_classes": [],
      "_model_module": "@jupyter-widgets/controls",
      "_model_module_version": "1.5.0",
      "_model_name": "VBoxModel",
      "_view_count": null,
      "_view_module": "@jupyter-widgets/controls",
      "_view_module_version": "1.5.0",
      "_view_name": "VBoxView",
      "box_style": "",
      "children": [
       "IPY_MODEL_1b6d8274d8a947d486cdae4429b5d8d0",
       "IPY_MODEL_da580d3355e94128a986151d784a1d66"
      ],
      "layout": "IPY_MODEL_d4d38002e27a49969adfb2b4c7c2a2d3"
     }
    },
    "6582b0ad90cf4ceea41f77cbf6cda48b": {
     "model_module": "@jupyter-widgets/controls",
     "model_module_version": "1.5.0",
     "model_name": "DescriptionStyleModel",
     "state": {
      "_model_module": "@jupyter-widgets/controls",
      "_model_module_version": "1.5.0",
      "_model_name": "DescriptionStyleModel",
      "_view_count": null,
      "_view_module": "@jupyter-widgets/base",
      "_view_module_version": "1.2.0",
      "_view_name": "StyleView",
      "description_width": ""
     }
    },
    "6b12a2979a3a4f55bee8f724794e60d0": {
     "model_module": "@jupyter-widgets/controls",
     "model_module_version": "1.5.0",
     "model_name": "FloatProgressModel",
     "state": {
      "_dom_classes": [],
      "_model_module": "@jupyter-widgets/controls",
      "_model_module_version": "1.5.0",
      "_model_name": "FloatProgressModel",
      "_view_count": null,
      "_view_module": "@jupyter-widgets/controls",
      "_view_module_version": "1.5.0",
      "_view_name": "ProgressView",
      "bar_style": "",
      "description": "",
      "description_tooltip": null,
      "layout": "IPY_MODEL_c7db96f57031486ea53ce31a25586654",
      "max": 1,
      "min": 0,
      "orientation": "horizontal",
      "style": "IPY_MODEL_5c7d9795e93c4ceb9ba779b965a3b9ea",
      "value": 1
     }
    },
    "8d9cfb4f291443d8a09c31111bfd71d5": {
     "model_module": "@jupyter-widgets/base",
     "model_module_version": "1.2.0",
     "model_name": "LayoutModel",
     "state": {
      "_model_module": "@jupyter-widgets/base",
      "_model_module_version": "1.2.0",
      "_model_name": "LayoutModel",
      "_view_count": null,
      "_view_module": "@jupyter-widgets/base",
      "_view_module_version": "1.2.0",
      "_view_name": "LayoutView",
      "align_content": null,
      "align_items": null,
      "align_self": null,
      "border": null,
      "bottom": null,
      "display": null,
      "flex": null,
      "flex_flow": null,
      "grid_area": null,
      "grid_auto_columns": null,
      "grid_auto_flow": null,
      "grid_auto_rows": null,
      "grid_column": null,
      "grid_gap": null,
      "grid_row": null,
      "grid_template_areas": null,
      "grid_template_columns": null,
      "grid_template_rows": null,
      "height": null,
      "justify_content": null,
      "justify_items": null,
      "left": null,
      "margin": null,
      "max_height": null,
      "max_width": null,
      "min_height": null,
      "min_width": null,
      "object_fit": null,
      "object_position": null,
      "order": null,
      "overflow": null,
      "overflow_x": null,
      "overflow_y": null,
      "padding": null,
      "right": null,
      "top": null,
      "visibility": null,
      "width": null
     }
    },
    "a0472ab25f454deca6a6e077323bd94b": {
     "model_module": "@jupyter-widgets/controls",
     "model_module_version": "1.5.0",
     "model_name": "LabelModel",
     "state": {
      "_dom_classes": [],
      "_model_module": "@jupyter-widgets/controls",
      "_model_module_version": "1.5.0",
      "_model_name": "LabelModel",
      "_view_count": null,
      "_view_module": "@jupyter-widgets/controls",
      "_view_module_version": "1.5.0",
      "_view_name": "LabelView",
      "description": "",
      "description_tooltip": null,
      "layout": "IPY_MODEL_33cd8fb3b54948f295ec74b583b12e96",
      "placeholder": "​",
      "style": "IPY_MODEL_b88035a72222483b8937b48ecb23a220",
      "value": " 0.02MB of 0.02MB uploaded (0.00MB deduped)\r"
     }
    },
    "b88035a72222483b8937b48ecb23a220": {
     "model_module": "@jupyter-widgets/controls",
     "model_module_version": "1.5.0",
     "model_name": "DescriptionStyleModel",
     "state": {
      "_model_module": "@jupyter-widgets/controls",
      "_model_module_version": "1.5.0",
      "_model_name": "DescriptionStyleModel",
      "_view_count": null,
      "_view_module": "@jupyter-widgets/base",
      "_view_module_version": "1.2.0",
      "_view_name": "StyleView",
      "description_width": ""
     }
    },
    "bd4a77387a8248ab8ed24eb3401b165b": {
     "model_module": "@jupyter-widgets/base",
     "model_module_version": "1.2.0",
     "model_name": "LayoutModel",
     "state": {
      "_model_module": "@jupyter-widgets/base",
      "_model_module_version": "1.2.0",
      "_model_name": "LayoutModel",
      "_view_count": null,
      "_view_module": "@jupyter-widgets/base",
      "_view_module_version": "1.2.0",
      "_view_name": "LayoutView",
      "align_content": null,
      "align_items": null,
      "align_self": null,
      "border": null,
      "bottom": null,
      "display": null,
      "flex": null,
      "flex_flow": null,
      "grid_area": null,
      "grid_auto_columns": null,
      "grid_auto_flow": null,
      "grid_auto_rows": null,
      "grid_column": null,
      "grid_gap": null,
      "grid_row": null,
      "grid_template_areas": null,
      "grid_template_columns": null,
      "grid_template_rows": null,
      "height": null,
      "justify_content": null,
      "justify_items": null,
      "left": null,
      "margin": null,
      "max_height": null,
      "max_width": null,
      "min_height": null,
      "min_width": null,
      "object_fit": null,
      "object_position": null,
      "order": null,
      "overflow": null,
      "overflow_x": null,
      "overflow_y": null,
      "padding": null,
      "right": null,
      "top": null,
      "visibility": null,
      "width": null
     }
    },
    "c7db96f57031486ea53ce31a25586654": {
     "model_module": "@jupyter-widgets/base",
     "model_module_version": "1.2.0",
     "model_name": "LayoutModel",
     "state": {
      "_model_module": "@jupyter-widgets/base",
      "_model_module_version": "1.2.0",
      "_model_name": "LayoutModel",
      "_view_count": null,
      "_view_module": "@jupyter-widgets/base",
      "_view_module_version": "1.2.0",
      "_view_name": "LayoutView",
      "align_content": null,
      "align_items": null,
      "align_self": null,
      "border": null,
      "bottom": null,
      "display": null,
      "flex": null,
      "flex_flow": null,
      "grid_area": null,
      "grid_auto_columns": null,
      "grid_auto_flow": null,
      "grid_auto_rows": null,
      "grid_column": null,
      "grid_gap": null,
      "grid_row": null,
      "grid_template_areas": null,
      "grid_template_columns": null,
      "grid_template_rows": null,
      "height": null,
      "justify_content": null,
      "justify_items": null,
      "left": null,
      "margin": null,
      "max_height": null,
      "max_width": null,
      "min_height": null,
      "min_width": null,
      "object_fit": null,
      "object_position": null,
      "order": null,
      "overflow": null,
      "overflow_x": null,
      "overflow_y": null,
      "padding": null,
      "right": null,
      "top": null,
      "visibility": null,
      "width": null
     }
    },
    "cbea0f4326974c0e918801f03169c4fe": {
     "model_module": "@jupyter-widgets/controls",
     "model_module_version": "1.5.0",
     "model_name": "ProgressStyleModel",
     "state": {
      "_model_module": "@jupyter-widgets/controls",
      "_model_module_version": "1.5.0",
      "_model_name": "ProgressStyleModel",
      "_view_count": null,
      "_view_module": "@jupyter-widgets/base",
      "_view_module_version": "1.2.0",
      "_view_name": "StyleView",
      "bar_color": null,
      "description_width": ""
     }
    },
    "d4d38002e27a49969adfb2b4c7c2a2d3": {
     "model_module": "@jupyter-widgets/base",
     "model_module_version": "1.2.0",
     "model_name": "LayoutModel",
     "state": {
      "_model_module": "@jupyter-widgets/base",
      "_model_module_version": "1.2.0",
      "_model_name": "LayoutModel",
      "_view_count": null,
      "_view_module": "@jupyter-widgets/base",
      "_view_module_version": "1.2.0",
      "_view_name": "LayoutView",
      "align_content": null,
      "align_items": null,
      "align_self": null,
      "border": null,
      "bottom": null,
      "display": null,
      "flex": null,
      "flex_flow": null,
      "grid_area": null,
      "grid_auto_columns": null,
      "grid_auto_flow": null,
      "grid_auto_rows": null,
      "grid_column": null,
      "grid_gap": null,
      "grid_row": null,
      "grid_template_areas": null,
      "grid_template_columns": null,
      "grid_template_rows": null,
      "height": null,
      "justify_content": null,
      "justify_items": null,
      "left": null,
      "margin": null,
      "max_height": null,
      "max_width": null,
      "min_height": null,
      "min_width": null,
      "object_fit": null,
      "object_position": null,
      "order": null,
      "overflow": null,
      "overflow_x": null,
      "overflow_y": null,
      "padding": null,
      "right": null,
      "top": null,
      "visibility": null,
      "width": null
     }
    },
    "da580d3355e94128a986151d784a1d66": {
     "model_module": "@jupyter-widgets/controls",
     "model_module_version": "1.5.0",
     "model_name": "FloatProgressModel",
     "state": {
      "_dom_classes": [],
      "_model_module": "@jupyter-widgets/controls",
      "_model_module_version": "1.5.0",
      "_model_name": "FloatProgressModel",
      "_view_count": null,
      "_view_module": "@jupyter-widgets/controls",
      "_view_module_version": "1.5.0",
      "_view_name": "ProgressView",
      "bar_style": "",
      "description": "",
      "description_tooltip": null,
      "layout": "IPY_MODEL_bd4a77387a8248ab8ed24eb3401b165b",
      "max": 1,
      "min": 0,
      "orientation": "horizontal",
      "style": "IPY_MODEL_cbea0f4326974c0e918801f03169c4fe",
      "value": 1
     }
    },
    "f313643529d344469b2f41d5cd2c66c4": {
     "model_module": "@jupyter-widgets/base",
     "model_module_version": "1.2.0",
     "model_name": "LayoutModel",
     "state": {
      "_model_module": "@jupyter-widgets/base",
      "_model_module_version": "1.2.0",
      "_model_name": "LayoutModel",
      "_view_count": null,
      "_view_module": "@jupyter-widgets/base",
      "_view_module_version": "1.2.0",
      "_view_name": "LayoutView",
      "align_content": null,
      "align_items": null,
      "align_self": null,
      "border": null,
      "bottom": null,
      "display": null,
      "flex": null,
      "flex_flow": null,
      "grid_area": null,
      "grid_auto_columns": null,
      "grid_auto_flow": null,
      "grid_auto_rows": null,
      "grid_column": null,
      "grid_gap": null,
      "grid_row": null,
      "grid_template_areas": null,
      "grid_template_columns": null,
      "grid_template_rows": null,
      "height": null,
      "justify_content": null,
      "justify_items": null,
      "left": null,
      "margin": null,
      "max_height": null,
      "max_width": null,
      "min_height": null,
      "min_width": null,
      "object_fit": null,
      "object_position": null,
      "order": null,
      "overflow": null,
      "overflow_x": null,
      "overflow_y": null,
      "padding": null,
      "right": null,
      "top": null,
      "visibility": null,
      "width": null
     }
    }
   }
  }
 },
 "nbformat": 4,
 "nbformat_minor": 5
}
