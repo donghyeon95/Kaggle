{
 "cells": [
  {
   "cell_type": "code",
   "execution_count": 35,
   "metadata": {
    "colab": {
     "base_uri": "https://localhost:8080/"
    },
    "executionInfo": {
     "elapsed": 23865,
     "status": "ok",
     "timestamp": 1643481891772,
     "user": {
      "displayName": "이동현",
      "photoUrl": "https://lh3.googleusercontent.com/a/default-user=s64",
      "userId": "05939370328045290450"
     },
     "user_tz": -540
    },
    "id": "89YysxjHlM-w",
    "outputId": "cc783974-74f6-4842-f4e2-2423c448c67b"
   },
   "outputs": [],
   "source": [
    "# !pip install pandas\n",
    "# !pip install numpy\n",
    "# !pip install seaborn\n",
    "# !pip install matplotlib\n",
    "# !pip install xgboost\n",
    "# !pip install lightgbm\n",
    "# !pip install sklearn\n",
    "\n",
    "# 라이브러리 임포트\n",
    "import pandas as pd\n",
    "import numpy as np\n",
    "\n",
    "import seaborn as sns\n",
    "import matplotlib\n",
    "import matplotlib.pyplot as plt\n",
    "%matplotlib inline\n",
    "\n",
    "import torch\n",
    "from torch.utils.data import DataLoader, Dataset\n",
    "\n",
    "import xgboost\n",
    "from xgboost import XGBClassifier\n",
    "from lightgbm import LGBMClassifier\n",
    "\n",
    "from sklearn.svm import SVC\n",
    "from sklearn.tree import DecisionTreeClassifier\n",
    "from sklearn.neighbors import KNeighborsClassifier\n",
    "from sklearn.ensemble import RandomForestClassifier, AdaBoostClassifier, ExtraTreesClassifier, BaggingClassifier, GradientBoostingClassifier, VotingClassifier, StackingClassifier\n",
    "from sklearn.linear_model import LogisticRegression, LinearRegression, Ridge, RidgeCV, RidgeClassifier\n",
    "from sklearn.model_selection import train_test_split, RepeatedStratifiedKFold, GridSearchCV\n",
    "\n",
    "import sklearn.metrics as metrics\n",
    "from sklearn.metrics import accuracy_score, precision_score, recall_score, f1_score, roc_auc_score, roc_curve, auc, confusion_matrix\n",
    "\n",
    "import os\n",
    "import json\n",
    "import numpy as np\n",
    "import pandas as pd\n",
    "from attrdict import AttrDict\n",
    "from transformers import (\n",
    "    BertTokenizer,\n",
    "    ElectraTokenizer,\n",
    ")\n",
    "from transformers import pipeline, utils, ElectraForSequenceClassification\n",
    "from bertviz import model_view\n",
    "\n",
    "import warnings\n",
    "warnings.filterwarnings('ignore')"
   ]
  },
  {
   "cell_type": "code",
   "execution_count": 5,
   "metadata": {
    "colab": {
     "base_uri": "https://localhost:8080/"
    },
    "executionInfo": {
     "elapsed": 19378,
     "status": "ok",
     "timestamp": 1643355251019,
     "user": {
      "displayName": "이동현",
      "photoUrl": "https://lh3.googleusercontent.com/a/default-user=s64",
      "userId": "05939370328045290450"
     },
     "user_tz": -540
    },
    "id": "75V4CJQpmr-D",
    "outputId": "3307ab7a-d445-4ad4-a4b4-2fd992f35c76"
   },
   "outputs": [],
   "source": [
    "Model = {\n",
    "    'ElectraForSequenceClassification' : ElectraForSequenceClassification,\n",
    "    \n",
    "}\n",
    "\n",
    "Tokenizer ={\n",
    "    \"BertTokenizer\": BertTokenizer,\n",
    "    \"ElectraTokenizer\": ElectraTokenizer,\n",
    "}"
   ]
  },
  {
   "cell_type": "code",
   "execution_count": 6,
   "metadata": {},
   "outputs": [
    {
     "name": "stdout",
     "output_type": "stream",
     "text": [
      "config file loaded.\n",
      "beomi/KcELECTRA-base\n"
     ]
    }
   ],
   "source": [
    "config_path = os.path.join('/USER/Comment/exp_config/config.json')\n",
    "\n",
    "def set_config(config_path):\n",
    "    if os.path.lexists(config_path):\n",
    "        with open(config_path) as f:\n",
    "            args = AttrDict(json.load(f))\n",
    "            print(\"config file loaded.\")\n",
    "            print(args.pretrained_model)\n",
    "    else:\n",
    "        assert False, 'config json file cannot be found.. please check the path again.'\n",
    "    \n",
    "    return args\n",
    "\n",
    "\n",
    "# 코드 중간중간에 끼워넣어 리셋 가능\n",
    "args = set_config(config_path)"
   ]
  },
  {
   "cell_type": "code",
   "execution_count": 9,
   "metadata": {},
   "outputs": [],
   "source": [
    "df = pd.read_csv('/USER/Comment/data/train.csv')"
   ]
  },
  {
   "cell_type": "code",
   "execution_count": null,
   "metadata": {
    "id": "v5JQ_55dkBYi"
   },
   "outputs": [],
   "source": [
    "df = combine(df, 'emp_length', 12)"
   ]
  },
  {
   "cell_type": "code",
   "execution_count": null,
   "metadata": {
    "id": "TlZLZi8XpwwT"
   },
   "outputs": [],
   "source": [
    "df = combine(df, 'home_ownership', 6)"
   ]
  },
  {
   "cell_type": "code",
   "execution_count": null,
   "metadata": {
    "id": "NDcOczvzp3tP"
   },
   "outputs": [],
   "source": [
    "df = combine(df, 'verification_status', 3)"
   ]
  },
  {
   "cell_type": "code",
   "execution_count": null,
   "metadata": {
    "id": "gCzbWQOop7-Y"
   },
   "outputs": [],
   "source": [
    "df = combine(df, 'purpose', 14)"
   ]
  },
  {
   "cell_type": "code",
   "execution_count": null,
   "metadata": {
    "id": "Q-QwR_lfqDXR"
   },
   "outputs": [],
   "source": [
    "df = combine(df, 'initial_list_status', 2)"
   ]
  },
  {
   "cell_type": "code",
   "execution_count": null,
   "metadata": {
    "id": "bJWQmkpjqDPd"
   },
   "outputs": [],
   "source": [
    "df = combine(df, 'mths_since_last_delinq', 11)"
   ]
  },
  {
   "cell_type": "code",
   "execution_count": 5,
   "metadata": {
    "executionInfo": {
     "elapsed": 42620,
     "status": "ok",
     "timestamp": 1643482080911,
     "user": {
      "displayName": "이동현",
      "photoUrl": "https://lh3.googleusercontent.com/a/default-user=s64",
      "userId": "05939370328045290450"
     },
     "user_tz": -540
    },
    "id": "4DuHkCoCr-pJ"
   },
   "outputs": [],
   "source": [
    "df = combine(df, 'emp_length', 12)\n",
    "df = combine(df, 'home_ownership', 6)\n",
    "df = combine(df, 'verification_status', 3)\n",
    "df = combine(df, 'purpose', 14)\n",
    "df = combine(df, 'initial_list_status', 2)\n",
    "df = combine(df, 'mths_since_last_delinq', 11)"
   ]
  },
  {
   "cell_type": "code",
   "execution_count": null,
   "metadata": {
    "colab": {
     "base_uri": "https://localhost:8080/"
    },
    "executionInfo": {
     "elapsed": 269,
     "status": "ok",
     "timestamp": 1643328973561,
     "user": {
      "displayName": "이동현",
      "photoUrl": "https://lh3.googleusercontent.com/a/default-user=s64",
      "userId": "05939370328045290450"
     },
     "user_tz": -540
    },
    "id": "rjNV7xcbpaNc",
    "outputId": "e5bbf304-6029-4782-b0a1-ebda95c9f213"
   },
   "outputs": [
    {
     "name": "stdout",
     "output_type": "stream",
     "text": [
      "<class 'pandas.core.frame.DataFrame'>\n",
      "RangeIndex: 100000 entries, 0 to 99999\n",
      "Data columns (total 34 columns):\n",
      " #   Column                      Non-Null Count   Dtype  \n",
      "---  ------                      --------------   -----  \n",
      " 0   int_rate                    100000 non-null  float64\n",
      " 1   annual_inc                  100000 non-null  float64\n",
      " 2   dti                         100000 non-null  float64\n",
      " 3   delinq_2yrs                 100000 non-null  int64  \n",
      " 4   inq_last_6mths              100000 non-null  int64  \n",
      " 5   pub_rec                     100000 non-null  int64  \n",
      " 6   revol_bal                   100000 non-null  int64  \n",
      " 7   total_acc                   100000 non-null  int64  \n",
      " 8   collections_12_mths_ex_med  100000 non-null  int64  \n",
      " 9   acc_now_delinq              100000 non-null  int64  \n",
      " 10  tot_coll_amt                100000 non-null  int64  \n",
      " 11  tot_cur_bal                 100000 non-null  int64  \n",
      " 12  chargeoff_within_12_mths    100000 non-null  int64  \n",
      " 13  delinq_amnt                 100000 non-null  int64  \n",
      " 14  tax_liens                   100000 non-null  int64  \n",
      " 15  funded_amnt                 100000 non-null  int64  \n",
      " 16  funded_amnt_inv             100000 non-null  float64\n",
      " 17  total_rec_late_fee          100000 non-null  float64\n",
      " 18  term1                       100000 non-null  int64  \n",
      " 19  open_acc                    100000 non-null  int64  \n",
      " 20  installment                 100000 non-null  float64\n",
      " 21  revol_util                  100000 non-null  float64\n",
      " 22  out_prncp                   100000 non-null  float64\n",
      " 23  out_prncp_inv               100000 non-null  float64\n",
      " 24  total_rec_int               100000 non-null  float64\n",
      " 25  fico_range_low              100000 non-null  int64  \n",
      " 26  fico_range_high             100000 non-null  int64  \n",
      " 27  depvar                      100000 non-null  int64  \n",
      " 28  emp_length                  100000 non-null  int64  \n",
      " 29  home_ownership              100000 non-null  int64  \n",
      " 30  verification_status         100000 non-null  int64  \n",
      " 31  purpose                     100000 non-null  int64  \n",
      " 32  initial_list_status         100000 non-null  int64  \n",
      " 33  mths_since_last_delinq      100000 non-null  int64  \n",
      "dtypes: float64(10), int64(24)\n",
      "memory usage: 25.9 MB\n"
     ]
    }
   ],
   "source": [
    "df.info()"
   ]
  },
  {
   "cell_type": "code",
   "execution_count": null,
   "metadata": {
    "colab": {
     "base_uri": "https://localhost:8080/"
    },
    "executionInfo": {
     "elapsed": 404,
     "status": "ok",
     "timestamp": 1643256901526,
     "user": {
      "displayName": "이동현",
      "photoUrl": "https://lh3.googleusercontent.com/a/default-user=s64",
      "userId": "05939370328045290450"
     },
     "user_tz": -540
    },
    "id": "wh9mH1z9vf9k",
    "outputId": "83324094-4bf2-4450-adb3-f065771f6810"
   },
   "outputs": [
    {
     "data": {
      "text/plain": [
       "0         0\n",
       "1         1\n",
       "2         3\n",
       "3         2\n",
       "4         3\n",
       "         ..\n",
       "99995     6\n",
       "99996    10\n",
       "99997     3\n",
       "99998    11\n",
       "99999     4\n",
       "Name: emp_length, Length: 100000, dtype: int64"
      ]
     },
     "execution_count": 109,
     "metadata": {},
     "output_type": "execute_result"
    }
   ],
   "source": [
    "df['emp_length']"
   ]
  },
  {
   "cell_type": "markdown",
   "metadata": {
    "id": "U9jw-pcptNXy"
   },
   "source": [
    "# Custom Dataset"
   ]
  },
  {
   "cell_type": "code",
   "execution_count": 40,
   "metadata": {
    "executionInfo": {
     "elapsed": 609,
     "status": "ok",
     "timestamp": 1643482099946,
     "user": {
      "displayName": "이동현",
      "photoUrl": "https://lh3.googleusercontent.com/a/default-user=s64",
      "userId": "05939370328045290450"
     },
     "user_tz": -540
    },
    "id": "o3n8rlBFtNXy",
    "tags": []
   },
   "outputs": [],
   "source": [
    "class dataset(Dataset):\n",
    "    def __init__(self, data):\n",
    "        self.data = data\n",
    "        self.model = Model[args.architecture].from_pretrained(args.pretrained_model, output_attentions=True, output_hidden_states=True)\n",
    "        self.tokenizer = Tokenizer[args.tokenizer_class].from_pretrained(args.pretrained_model)\n",
    "        \n",
    "        self.hate = {\n",
    "            'none' : 0,\n",
    "            'hate' : 1\n",
    "        }\n",
    "        self.bias ={\n",
    "            'none' : 0,\n",
    "            'others' : 1,\n",
    "            'gender' :2\n",
    "        }\n",
    "        \n",
    "    def __len__(self):\n",
    "        return len(self.data)\n",
    "    \n",
    "    \n",
    "    def __getitem__(self, index):\n",
    "        x =  self.data.iloc[index]\n",
    "        hate_label = x['hate']\n",
    "        bias_label = x['bias']\n",
    "        \n",
    "        inputs = self.tokenizer.encode(x['comment'], return_tensors='pt')  # Tokenize input text\n",
    "        outputs = self.model(inputs)\n",
    "        hiddens = outputs.hidden_states\n",
    "        \n",
    "        para = self.getPara(hiddens)\n",
    "        \n",
    "        return para, int(self.hate [hate_label]), int(self.bias[bias_label])\n",
    "    \n",
    "    def getPara(self, hiddens):\n",
    "        a = torch.zeros(hiddens[0].size())\n",
    "        \n",
    "        for hidden in hiddens:\n",
    "            a += hidden.squeeze(0)\n",
    "\n",
    "        b = a.squeeze(0)\n",
    "        c = torch.zeros(a.squeeze(0)[0].size())\n",
    "\n",
    "        l = len(c)\n",
    "\n",
    "        for i in b:\n",
    "            c += i\n",
    "            \n",
    "        return c/l\n",
    "        \n",
    "     "
   ]
  },
  {
   "cell_type": "code",
   "execution_count": 11,
   "metadata": {
    "executionInfo": {
     "elapsed": 3,
     "status": "ok",
     "timestamp": 1643482100357,
     "user": {
      "displayName": "이동현",
      "photoUrl": "https://lh3.googleusercontent.com/a/default-user=s64",
      "userId": "05939370328045290450"
     },
     "user_tz": -540
    },
    "id": "j0yMaESktNXz"
   },
   "outputs": [],
   "source": [
    "# data를 training set과 validation set으로 나누기\n",
    "X_train, X_valid = train_test_split(df, test_size=0.2)"
   ]
  },
  {
   "cell_type": "code",
   "execution_count": 25,
   "metadata": {},
   "outputs": [
    {
     "name": "stdout",
     "output_type": "stream",
     "text": [
      "<class 'pandas.core.frame.DataFrame'>\n",
      "Int64Index: 6693 entries, 5322 to 4739\n",
      "Data columns (total 4 columns):\n",
      " #   Column   Non-Null Count  Dtype \n",
      "---  ------   --------------  ----- \n",
      " 0   title    6693 non-null   object\n",
      " 1   comment  6693 non-null   object\n",
      " 2   bias     6693 non-null   object\n",
      " 3   hate     6693 non-null   object\n",
      "dtypes: object(4)\n",
      "memory usage: 261.4+ KB\n"
     ]
    },
    {
     "data": {
      "text/plain": [
       "title      \"[종합]\"\"23년 만에 주연\"\"…'천화' 이일화, 덕선 엄마의 과감한 변신\"\n",
       "comment                              지금도 남심 녹이기 충분하십니다\n",
       "bias                                              none\n",
       "hate                                              none\n",
       "Name: 1913, dtype: object"
      ]
     },
     "execution_count": 25,
     "metadata": {},
     "output_type": "execute_result"
    }
   ],
   "source": [
    "X_train.info()\n",
    "X_train.iloc[1]"
   ]
  },
  {
   "cell_type": "code",
   "execution_count": 14,
   "metadata": {},
   "outputs": [
    {
     "name": "stdout",
     "output_type": "stream",
     "text": [
      "<class 'pandas.core.frame.DataFrame'>\n",
      "Int64Index: 1674 entries, 5603 to 4551\n",
      "Data columns (total 4 columns):\n",
      " #   Column   Non-Null Count  Dtype \n",
      "---  ------   --------------  ----- \n",
      " 0   title    1674 non-null   object\n",
      " 1   comment  1674 non-null   object\n",
      " 2   bias     1674 non-null   object\n",
      " 3   hate     1674 non-null   object\n",
      "dtypes: object(4)\n",
      "memory usage: 65.4+ KB\n"
     ]
    }
   ],
   "source": [
    "X_valid.info()"
   ]
  },
  {
   "cell_type": "code",
   "execution_count": 41,
   "metadata": {},
   "outputs": [
    {
     "name": "stderr",
     "output_type": "stream",
     "text": [
      "Some weights of the model checkpoint at beomi/KcELECTRA-base were not used when initializing ElectraForSequenceClassification: ['discriminator_predictions.dense_prediction.weight', 'discriminator_predictions.dense_prediction.bias', 'discriminator_predictions.dense.bias', 'discriminator_predictions.dense.weight']\n",
      "- This IS expected if you are initializing ElectraForSequenceClassification from the checkpoint of a model trained on another task or with another architecture (e.g. initializing a BertForSequenceClassification model from a BertForPreTraining model).\n",
      "- This IS NOT expected if you are initializing ElectraForSequenceClassification from the checkpoint of a model that you expect to be exactly identical (initializing a BertForSequenceClassification model from a BertForSequenceClassification model).\n",
      "Some weights of ElectraForSequenceClassification were not initialized from the model checkpoint at beomi/KcELECTRA-base and are newly initialized: ['classifier.dense.bias', 'classifier.dense.weight', 'classifier.out_proj.weight', 'classifier.out_proj.bias']\n",
      "You should probably TRAIN this model on a down-stream task to be able to use it for predictions and inference.\n",
      "Some weights of the model checkpoint at beomi/KcELECTRA-base were not used when initializing ElectraForSequenceClassification: ['discriminator_predictions.dense_prediction.weight', 'discriminator_predictions.dense_prediction.bias', 'discriminator_predictions.dense.bias', 'discriminator_predictions.dense.weight']\n",
      "- This IS expected if you are initializing ElectraForSequenceClassification from the checkpoint of a model trained on another task or with another architecture (e.g. initializing a BertForSequenceClassification model from a BertForPreTraining model).\n",
      "- This IS NOT expected if you are initializing ElectraForSequenceClassification from the checkpoint of a model that you expect to be exactly identical (initializing a BertForSequenceClassification model from a BertForSequenceClassification model).\n",
      "Some weights of ElectraForSequenceClassification were not initialized from the model checkpoint at beomi/KcELECTRA-base and are newly initialized: ['classifier.dense.bias', 'classifier.dense.weight', 'classifier.out_proj.weight', 'classifier.out_proj.bias']\n",
      "You should probably TRAIN this model on a down-stream task to be able to use it for predictions and inference.\n"
     ]
    }
   ],
   "source": [
    "train_dataset = dataset(X_train)\n",
    "validation_dataset = dataset(X_valid)\n",
    "train_dataloader = DataLoader(train_dataset, shuffle=True)\n",
    "validation_dataloader = DataLoader(validation_dataset, shuffle=True)"
   ]
  },
  {
   "cell_type": "code",
   "execution_count": 42,
   "metadata": {
    "collapsed": true,
    "jupyter": {
     "outputs_hidden": true
    },
    "tags": []
   },
   "outputs": [
    {
     "name": "stdout",
     "output_type": "stream",
     "text": [
      "tensor([[-2.5526e-02, -1.1313e-02,  7.2495e-02,  1.8531e-02, -1.7623e-02,\n",
      "          3.2245e-02,  3.7366e-03, -1.5395e-02, -2.2800e-02,  5.7469e-03,\n",
      "         -1.6124e-02, -1.2062e-02, -1.5900e-02,  8.2430e-03, -4.8010e-04,\n",
      "         -8.3596e-03,  7.3531e-04, -8.0289e-03, -1.0935e-02,  2.4089e-02,\n",
      "          2.0936e-02, -1.6866e-02,  1.4925e-03,  3.0910e-02,  1.8870e-02,\n",
      "          1.1984e-02, -1.1399e-02, -1.1627e-03, -1.8630e-03,  3.9286e-02,\n",
      "         -4.4649e-03, -4.2046e-03,  4.1514e-03, -8.1709e-03,  2.5516e-03,\n",
      "          8.6989e-03, -5.5057e-03, -1.8353e-02, -9.5003e-03, -1.9340e-03,\n",
      "          1.0853e-02,  2.1031e-02,  2.1646e-02,  2.9215e-02, -1.4559e-03,\n",
      "         -1.4830e-03,  1.2512e-02, -1.3605e-02,  1.1411e-02,  1.3899e-02,\n",
      "          2.0430e-01,  1.1479e-02,  9.6186e-03,  2.7583e-03, -1.9407e-02,\n",
      "          2.6170e-02,  9.6895e-03, -9.5837e-03, -9.8935e-03,  4.7644e-03,\n",
      "         -2.8151e-02,  2.5367e-03,  3.5049e-03,  2.4695e-02,  7.4444e-03,\n",
      "         -9.4234e-03,  9.5686e-03,  5.0661e-03, -6.3832e-03,  1.2068e-02,\n",
      "          2.0612e-02,  2.7260e-02, -2.5411e-02, -2.9928e-03,  1.9187e-02,\n",
      "          7.1061e-03,  1.0498e-02, -1.1102e-02, -2.6899e-02,  1.8626e-03,\n",
      "         -1.5654e-02,  1.5234e-02,  6.3167e-03, -9.7086e-03,  6.3271e-03,\n",
      "          2.4994e-02,  2.0550e-03,  3.2519e-03,  1.2586e-02, -1.6232e-02,\n",
      "         -9.9421e-03, -4.8670e-03,  9.0762e-03,  2.9006e-02,  2.9220e-02,\n",
      "         -2.2780e-02, -6.4137e-02,  3.0341e-03, -1.8615e-02, -1.3032e-02,\n",
      "         -3.5649e-04,  1.5013e-02, -7.5402e-03, -2.3746e-02,  1.6503e-02,\n",
      "          1.2977e-01,  2.8990e-03, -4.5610e-03, -2.4748e-02,  1.7127e-02,\n",
      "         -2.3715e-02,  1.5052e-02, -3.0074e-02, -2.8293e-02, -2.0851e-02,\n",
      "          6.8190e-03, -3.5050e-03, -8.0953e-03, -6.4282e-03,  5.8031e-03,\n",
      "         -8.0286e-03, -1.6004e-02,  5.9343e-03,  1.8276e-02,  4.0516e-02,\n",
      "         -1.7637e-02, -2.3450e-02, -1.3693e-02,  3.0425e-03,  1.5408e-03,\n",
      "          1.7483e-02,  1.8443e-02, -1.2709e-02,  8.6330e-03, -1.3373e-02,\n",
      "          1.0934e-02,  1.4660e-02,  8.0965e-03, -2.1955e-03, -3.3094e-02,\n",
      "         -1.1421e-02, -2.2783e-02,  2.5802e-03, -6.1502e-03, -3.2426e-03,\n",
      "          5.4634e-04, -1.3236e-03, -2.3920e-03,  8.3879e-03,  1.0998e-02,\n",
      "         -2.2348e-02,  3.5348e-02, -2.2444e-02,  4.9382e-03,  7.6246e-03,\n",
      "          1.5220e-03, -5.6777e-04, -2.2531e-02,  2.3972e-02, -3.5681e-03,\n",
      "         -1.8142e-03, -6.5094e-03, -3.2715e-02,  5.5147e-03,  3.0322e-02,\n",
      "          3.9557e-02,  3.0672e-02,  3.7347e-02,  1.5650e-02,  1.0992e-02,\n",
      "         -4.9161e-03,  4.4662e-02, -3.2350e-03,  3.1559e-02,  1.1696e-03,\n",
      "         -8.8263e-04,  1.3736e-04,  1.9225e-02,  1.5537e-02, -2.0738e-02,\n",
      "          2.4709e-02,  9.3378e-03,  7.2549e-03, -2.1031e-02, -1.8186e-03,\n",
      "         -1.1311e-02,  1.6628e-03,  6.3637e-03, -1.5477e-02, -1.7452e-02,\n",
      "          2.4632e-02,  1.9539e-02,  5.7243e-03, -1.5006e-02,  3.3113e-02,\n",
      "          1.2116e-02, -5.9537e-02,  4.6808e-02, -7.4744e-03, -2.2409e-02,\n",
      "          4.3930e-03,  3.0433e-03,  2.6314e-02, -7.2551e-02, -3.2107e-02,\n",
      "          2.7541e-02, -6.3106e-03,  2.2042e-03, -1.5319e-03, -2.3116e-02,\n",
      "         -2.4387e-02, -5.5553e-02, -2.2170e-02,  2.9656e-03,  2.0734e-02,\n",
      "          2.8214e-02,  9.5037e-03, -3.8086e-02,  1.9588e-02,  6.4293e-03,\n",
      "         -1.5719e-03,  2.1967e-02, -3.2383e-02, -7.2597e-03, -1.9569e-02,\n",
      "          4.9294e-03,  2.9579e-03, -1.1139e-02,  1.6556e-02, -1.9769e-02,\n",
      "          1.3591e-02, -1.3230e-02,  1.9814e-02,  2.6021e-02, -3.1271e-03,\n",
      "          2.1966e-02,  7.5713e-01,  5.4197e-04,  1.5896e-02,  3.1054e-03,\n",
      "          7.5215e-03,  3.7825e-02,  1.7551e-02,  1.1955e-02, -2.2214e-03,\n",
      "          2.3077e-02,  2.7489e-02, -1.2402e-02,  9.0387e-03, -2.6702e-03,\n",
      "         -2.3354e-03,  1.9168e-02, -2.1879e-03,  6.4273e-03,  2.1202e-02,\n",
      "         -3.7454e-02, -3.2974e-03,  1.0322e-03, -2.5042e-02, -1.0638e-02,\n",
      "          1.5688e-02, -6.1415e-03,  7.5035e-03, -2.8421e-03,  6.4666e-04,\n",
      "         -5.8323e-03,  1.7578e-02,  2.0616e-02, -7.6497e-04, -6.0446e-02,\n",
      "          2.0114e-04,  6.6711e-03, -1.6648e-02, -5.8308e-02, -9.2044e-03,\n",
      "         -4.0379e-03, -4.6646e-03,  6.0896e-02,  1.6938e-02, -6.7553e-03,\n",
      "         -2.0074e-02,  5.1733e-03,  2.6496e-02,  2.4932e-02, -2.8011e-02,\n",
      "         -3.5286e-02, -2.3454e-02,  2.1384e-02, -1.2526e-02,  1.1461e-02,\n",
      "          1.4995e-02,  3.4470e-02,  2.2301e-03,  8.9416e-03,  6.4097e-03,\n",
      "          1.3132e-01,  8.0056e-03,  1.7120e-02,  2.1221e-02, -5.1929e-02,\n",
      "         -2.8729e-02,  2.2439e-02,  1.9256e-02,  1.8089e-03,  1.6928e-03,\n",
      "         -1.4311e-02, -1.2921e-02, -3.8208e-02,  2.0111e-02,  2.4867e-02,\n",
      "          2.6350e-02, -5.2780e-02,  2.4980e-03, -6.9529e-03, -5.2190e-03,\n",
      "         -1.2554e-02, -1.8604e-02,  1.3398e-02,  1.7348e-02,  2.1442e-02,\n",
      "         -1.2347e-02,  5.3489e-03,  2.8233e-02, -7.1167e-03, -6.7714e-03,\n",
      "          1.0530e-02,  3.0319e-03, -6.0953e-03,  3.0302e-02,  8.1691e-03,\n",
      "         -1.7447e-02,  6.9368e-03, -5.6485e-03, -1.3006e-02,  8.3052e-02,\n",
      "         -9.9075e-03,  9.6466e-03, -1.3526e-02, -6.0887e-03, -5.4368e-03,\n",
      "          2.1214e-02,  9.5749e-03,  2.1327e-02, -2.7206e-03,  1.9168e-03,\n",
      "          2.3639e-02,  1.4838e-03, -2.6631e-03, -1.9834e-02, -6.5297e-02,\n",
      "         -4.3970e-03,  2.1560e-02, -1.0549e-02, -1.1563e-02,  1.3630e-02,\n",
      "         -1.3769e-03, -2.0207e-02, -4.4892e-02, -3.4145e-02,  1.7037e-02,\n",
      "         -3.8989e-03,  1.4362e-02,  3.6641e-02,  1.0308e-02,  2.0306e-03,\n",
      "         -2.1463e-02,  2.5610e-03, -1.4867e-03,  4.4505e-03,  1.9764e-03,\n",
      "         -3.3477e-02, -5.7820e-03, -4.8975e-03,  7.8891e-04,  2.2307e-02,\n",
      "          2.1796e-02, -9.1647e-03, -1.7976e-02,  9.7943e-03, -6.1925e-03,\n",
      "          1.6626e-02,  2.1145e-03, -2.1268e-03,  4.0133e-03, -4.2514e-02,\n",
      "          9.5736e-03,  3.2674e-03, -1.2944e-02,  3.5735e-02,  3.9221e-02,\n",
      "          6.8807e-04, -1.4741e-02,  2.1428e-02,  1.0848e-02,  1.6776e-02,\n",
      "          1.9862e-03,  2.1330e-02, -2.3289e-02, -6.2495e-02, -7.0330e-03,\n",
      "          8.9901e-03,  9.7174e-03, -1.0186e-02,  2.8825e-02, -1.7079e-03,\n",
      "         -4.6736e-03, -5.4374e-03,  1.2370e-02,  1.4440e-02, -9.8342e-03,\n",
      "          2.3464e-03, -1.4324e-02,  6.4057e-03,  1.1029e-02, -1.0370e-02,\n",
      "         -2.8778e-02, -1.6522e-02,  1.8842e-03,  3.9593e-03, -3.4048e-03,\n",
      "         -2.9080e-02,  2.3510e-02,  1.4028e-02, -9.0877e-03, -1.5009e-02,\n",
      "          2.9114e-03,  1.5771e-02,  1.5111e-02, -4.7365e-03,  4.5426e-02,\n",
      "         -2.4956e-02,  1.9547e-04,  1.2000e-03, -5.2837e-02,  2.4846e-02,\n",
      "          1.0095e-02, -9.4223e-03, -2.3875e-03,  4.7476e-02,  9.9156e-03,\n",
      "         -1.5149e-04,  2.4175e-02, -3.4489e-02,  4.9561e-03,  4.0168e-03,\n",
      "         -8.0368e-03, -2.3681e-02,  4.1836e-02,  4.5674e-03,  1.0539e-02,\n",
      "          5.8685e-03, -8.5590e-03, -5.5214e-03,  1.0746e-02, -7.6411e-03,\n",
      "         -2.4496e-02, -1.6816e-02,  4.6754e-02, -8.8730e-03, -2.2022e-02,\n",
      "         -1.8326e-02,  1.3234e-02,  1.0023e-02, -2.9016e-03, -8.1427e-03,\n",
      "         -2.1003e-03, -8.9529e-03,  2.6868e-02, -8.1154e-02,  1.3150e-03,\n",
      "         -1.4878e-02,  6.7766e-03, -2.0629e-02, -2.0768e-02,  9.4184e-03,\n",
      "         -1.2333e-02,  4.4991e-03,  4.3205e-03, -1.0831e-02, -1.3221e-02,\n",
      "          1.1144e-02, -1.9162e-02,  2.4101e-03, -5.0267e-02,  6.1650e-04,\n",
      "         -1.3438e-03,  2.5078e-02, -1.4226e-02,  3.1201e-02,  8.8703e-03,\n",
      "          3.1292e-02,  9.8460e-03,  1.3211e-02,  4.4218e-02,  1.1464e-02,\n",
      "         -1.2318e-02,  1.2508e-02, -3.5748e-02, -3.3465e-03, -6.2936e-03,\n",
      "          9.1899e-03, -1.2819e-02,  1.3120e-02,  1.6596e-02,  3.6324e-02,\n",
      "          1.1619e-02,  2.8178e-02,  3.6583e-03,  1.8033e-02,  6.0130e-03,\n",
      "          4.8663e-02,  1.6037e-02, -2.4836e-02,  3.5323e-03, -5.3769e-03,\n",
      "         -1.4491e-03, -3.0598e-04,  9.9442e-03, -1.2813e-03,  9.1129e-03,\n",
      "          1.1513e-03, -9.5593e-03, -2.4290e-02, -6.6917e-03, -1.0483e-02,\n",
      "         -2.2514e-02,  2.5628e-02, -6.1483e-03,  1.3257e-02, -2.7765e-02,\n",
      "         -5.5359e-03,  3.3085e-02,  4.3509e-02, -1.0269e-02,  1.9232e-02,\n",
      "         -1.0253e-02, -1.6634e-02,  1.9978e-02, -2.9338e-03, -7.2070e-03,\n",
      "         -1.1427e-02,  2.3016e-03, -1.4383e-02,  3.5222e-02,  1.5678e-02,\n",
      "          2.2216e-02, -3.8041e-02,  8.9953e-03,  1.0805e-02,  2.7702e-02,\n",
      "          3.2132e-02, -1.0601e-02,  2.1935e-02, -4.0585e-02, -7.2277e-03,\n",
      "         -1.2585e-02,  7.1755e-03, -7.1471e-03, -2.5821e-02, -1.4767e-02,\n",
      "          1.8860e-02,  1.4037e-02,  3.3757e-02, -8.8497e-04,  4.3789e-03,\n",
      "         -3.3725e-02,  1.9977e-02,  1.6649e-03, -5.9277e-03, -2.1274e-03,\n",
      "         -2.0169e-02, -1.1253e-02,  1.2068e-02,  2.2721e-03, -9.5655e-03,\n",
      "         -1.0295e-02,  4.3926e-02,  4.0167e-03,  1.8194e-01, -1.1132e-02,\n",
      "          1.0872e-02,  2.1644e-02,  4.3683e-03,  8.6878e-03, -1.3734e-01,\n",
      "         -2.2942e-02,  2.1847e-02,  1.6164e-04,  4.1658e-02, -5.8053e-02,\n",
      "          7.1849e-03,  7.6628e-03, -1.3560e-02, -2.6893e-02,  3.0252e-02,\n",
      "          1.3453e-02, -5.5845e-02, -2.6689e-02,  2.8738e-02,  6.3449e-02,\n",
      "         -5.8792e-03,  2.0030e-03,  1.7933e-02,  1.7617e-02, -5.9514e-03,\n",
      "         -3.9296e-03, -1.3839e-03,  2.7159e-03, -6.2481e-04,  3.7808e-03,\n",
      "         -6.1109e-03,  2.0967e-02,  5.3442e-02, -2.1719e-03,  1.1248e-02,\n",
      "          2.2736e-03, -5.4580e-03,  2.4139e-02,  1.4449e-02, -3.5621e-02,\n",
      "          3.7429e-02, -3.3848e-02, -3.4788e-02,  5.0497e-02, -5.6264e-03,\n",
      "         -3.9487e-02,  7.2614e-03, -1.8274e-02, -1.7072e-02, -1.4992e-02,\n",
      "         -1.7553e-02, -6.5147e-02, -1.3807e-02, -1.9830e-02,  7.7507e-03,\n",
      "         -1.7548e-02,  5.5913e-03,  2.3123e-02, -1.4591e-02, -2.2488e-02,\n",
      "          6.3762e-03,  1.2103e-02, -1.1071e-03, -1.9620e-03,  2.4424e-02,\n",
      "          5.6014e-02,  1.1144e-02, -1.0360e-03, -1.2123e-02,  3.5894e-03,\n",
      "         -1.9846e-02, -5.2899e-05,  1.0142e-02, -5.0744e-03,  1.6415e-02,\n",
      "         -1.3599e-02, -5.5430e-02, -3.0677e-02,  1.8860e-02, -4.5869e-03,\n",
      "          2.8967e-02,  2.3081e-02,  4.2760e-03, -3.7129e-03, -7.2282e-03,\n",
      "         -1.1762e-02, -1.5448e-02, -6.5612e-03, -5.9720e-03,  2.5995e-03,\n",
      "         -1.6452e-02,  5.1604e-03, -1.8968e-02,  2.5219e-02,  1.4469e-02,\n",
      "          3.2705e-02, -1.1441e-02,  8.9595e-03,  1.5697e-02,  3.1943e-03,\n",
      "         -9.1742e-03, -8.8278e-04, -2.1741e-02,  6.1151e-02, -1.0703e-02,\n",
      "          3.4458e-03, -2.6937e-02, -5.7391e-02, -3.7013e-02,  1.1947e-02,\n",
      "          9.8247e-03,  2.2581e-02,  1.3095e-02, -2.9470e-03, -4.3375e-02,\n",
      "         -3.3146e-04, -4.0246e-02, -3.8919e-03,  1.6349e-02,  9.9079e-03,\n",
      "          1.2057e-02, -9.2111e-03, -6.1126e-02, -1.7359e-02, -1.6317e-02,\n",
      "          1.2887e-02, -3.1890e-02, -1.7009e-02,  3.9246e-02,  1.0053e-02,\n",
      "          1.3740e-02, -3.8620e-02, -1.5012e-02, -1.3066e-02,  1.5860e-02,\n",
      "         -4.1262e-03,  2.2494e-02, -4.6963e-02, -1.5841e-02,  2.9277e-02,\n",
      "         -1.2118e-02, -1.7836e-02, -1.2102e-02, -2.8070e-02, -1.2465e-02,\n",
      "         -1.0650e-02,  1.2656e-02, -9.9823e-04,  7.3879e-03, -4.6476e-03,\n",
      "         -1.6943e-02,  8.1993e-03,  2.5287e-03,  1.0386e-02, -2.8347e-02,\n",
      "         -3.0422e-02, -8.6432e-03, -4.9870e-03, -4.6577e-03, -5.5004e-03,\n",
      "         -3.6621e-02,  1.9216e-02,  2.5663e-02, -1.2180e-02, -5.9221e-03,\n",
      "          1.1124e-02,  2.7910e-02, -3.6014e-03,  1.1539e-02, -4.6058e-02,\n",
      "         -1.5384e-02, -1.0580e-03, -7.7973e-03,  2.0617e-02, -1.9959e-02,\n",
      "         -8.2943e-04,  4.1487e-03, -4.0123e-02, -1.1504e-02, -1.0647e-02,\n",
      "         -1.1091e-02, -2.7937e-02, -1.9674e-02, -6.8929e-04, -1.1254e-02,\n",
      "          9.0939e-03, -1.8319e-02, -2.7274e-02]], grad_fn=<StackBackward>) tensor([1]) tensor([0])\n"
     ]
    }
   ],
   "source": [
    "cnt = 0\n",
    "for l,k,m in train_dataloader:\n",
    "    if cnt == 1: \n",
    "        break\n",
    "    cnt += 1\n",
    "    print(l, k , m)\n"
   ]
  },
  {
   "cell_type": "code",
   "execution_count": 104,
   "metadata": {},
   "outputs": [],
   "source": [
    "new_data = pd.DataFrame()\n",
    "bias_data = pd.DataFrame()\n",
    "hate_data = pd.DataFrame()"
   ]
  },
  {
   "cell_type": "code",
   "execution_count": 105,
   "metadata": {
    "tags": []
   },
   "outputs": [],
   "source": [
    "cnt = 0\n",
    "for l,k,m in train_dataloader:\n",
    "    if cnt == 1: \n",
    "        break\n",
    "    cnt += 1\n",
    "    # print(l, k , m)\n",
    "    l = l.squeeze(0)\n",
    "    df = pd.DataFrame(l.detach().numpy())\n",
    "    hate_df = pd.DataFrame(k.detach().numpy())\n",
    "    bias_df = pd.DataFrame(m.detach().numpy())\n",
    "    new_data=df.transpose()\n",
    "    bias_data = hate_df\n",
    "    hate_data = bias_df\n",
    "    "
   ]
  },
  {
   "cell_type": "code",
   "execution_count": 106,
   "metadata": {},
   "outputs": [
    {
     "data": {
      "text/html": [
       "<div>\n",
       "<style scoped>\n",
       "    .dataframe tbody tr th:only-of-type {\n",
       "        vertical-align: middle;\n",
       "    }\n",
       "\n",
       "    .dataframe tbody tr th {\n",
       "        vertical-align: top;\n",
       "    }\n",
       "\n",
       "    .dataframe thead th {\n",
       "        text-align: right;\n",
       "    }\n",
       "</style>\n",
       "<table border=\"1\" class=\"dataframe\">\n",
       "  <thead>\n",
       "    <tr style=\"text-align: right;\">\n",
       "      <th></th>\n",
       "      <th>0</th>\n",
       "    </tr>\n",
       "  </thead>\n",
       "  <tbody>\n",
       "  </tbody>\n",
       "</table>\n",
       "</div>"
      ],
      "text/plain": [
       "Empty DataFrame\n",
       "Columns: [0]\n",
       "Index: []"
      ]
     },
     "execution_count": 106,
     "metadata": {},
     "output_type": "execute_result"
    }
   ],
   "source": [
    "new_data.drop(0)\n",
    "bias_data.drop(0)\n",
    "hate_data.drop(0)"
   ]
  },
  {
   "cell_type": "code",
   "execution_count": 107,
   "metadata": {
    "tags": []
   },
   "outputs": [
    {
     "name": "stderr",
     "output_type": "stream",
     "text": [
      "100% 6693/6693 [3:31:05<00:00,  1.89s/it]  \n"
     ]
    }
   ],
   "source": [
    "from tqdm import tqdm\n",
    "for l,k,m in tqdm(train_dataloader):\n",
    "    l = l.squeeze(0)\n",
    "    df = pd.DataFrame(l.detach().numpy())\n",
    "    hate_df = pd.DataFrame(k.detach().numpy())\n",
    "    bias_df = pd.DataFrame(m.detach().numpy())\n",
    "    new_data = new_data.append(df.transpose())\n",
    "    bias_data = bias_data.append(bias_df)\n",
    "    hate_data = hate_data.append(hate_df)"
   ]
  },
  {
   "cell_type": "code",
   "execution_count": 117,
   "metadata": {},
   "outputs": [],
   "source": [
    "# new_data.to_csv('./train.csv')\n",
    "# bias_data.to_csv('./train_bias.csv')\n",
    "# hate_data.to_csv('./train_hate.csv')"
   ]
  },
  {
   "cell_type": "code",
   "execution_count": 108,
   "metadata": {},
   "outputs": [],
   "source": [
    "val_data = pd.DataFrame()\n",
    "val_bias_data = pd.DataFrame()\n",
    "val_hate_data = pd.DataFrame()"
   ]
  },
  {
   "cell_type": "code",
   "execution_count": 109,
   "metadata": {},
   "outputs": [],
   "source": [
    "  \n",
    "cnt = 0\n",
    "for l,k,m in train_dataloader:\n",
    "    if cnt == 1: \n",
    "        break\n",
    "    cnt += 1\n",
    "    # print(l, k , m)\n",
    "    l = l.squeeze(0)\n",
    "    df = pd.DataFrame(l.detach().numpy())\n",
    "    hate_df = pd.DataFrame(k.detach().numpy())\n",
    "    bias_df = pd.DataFrame(m.detach().numpy())\n",
    "    val_data=df.transpose()\n",
    "    val_hate_data = hate_df\n",
    "    val_bias_data = bias_df\n"
   ]
  },
  {
   "cell_type": "code",
   "execution_count": 110,
   "metadata": {
    "tags": []
   },
   "outputs": [
    {
     "data": {
      "text/html": [
       "<div>\n",
       "<style scoped>\n",
       "    .dataframe tbody tr th:only-of-type {\n",
       "        vertical-align: middle;\n",
       "    }\n",
       "\n",
       "    .dataframe tbody tr th {\n",
       "        vertical-align: top;\n",
       "    }\n",
       "\n",
       "    .dataframe thead th {\n",
       "        text-align: right;\n",
       "    }\n",
       "</style>\n",
       "<table border=\"1\" class=\"dataframe\">\n",
       "  <thead>\n",
       "    <tr style=\"text-align: right;\">\n",
       "      <th></th>\n",
       "      <th>0</th>\n",
       "    </tr>\n",
       "  </thead>\n",
       "  <tbody>\n",
       "  </tbody>\n",
       "</table>\n",
       "</div>"
      ],
      "text/plain": [
       "Empty DataFrame\n",
       "Columns: [0]\n",
       "Index: []"
      ]
     },
     "execution_count": 110,
     "metadata": {},
     "output_type": "execute_result"
    }
   ],
   "source": [
    "val_data.drop(0)\n",
    "val_bias_data.drop(0)\n",
    "val_hate_data.drop(0)"
   ]
  },
  {
   "cell_type": "code",
   "execution_count": 111,
   "metadata": {},
   "outputs": [
    {
     "name": "stderr",
     "output_type": "stream",
     "text": [
      "100% 1674/1674 [51:23<00:00,  1.84s/it] \n"
     ]
    }
   ],
   "source": [
    "val_data.drop(0)\n",
    "from tqdm import tqdm\n",
    "for l,k,m in tqdm(validation_dataloader):\n",
    "    l = l.squeeze(0)\n",
    "    df = pd.DataFrame(l.detach().numpy())\n",
    "    hate_df = pd.DataFrame(k.detach().numpy())\n",
    "    bias_df = pd.DataFrame(m.detach().numpy())\n",
    "    val_data = val_data.append(df.transpose())\n",
    "    val_bias_data = val_bias_data.append(bias_df)\n",
    "    val_hate_data = val_hate_data.append(hate_df)"
   ]
  },
  {
   "cell_type": "code",
   "execution_count": 133,
   "metadata": {},
   "outputs": [],
   "source": [
    "val_data.to_csv('./val_data.csv')\n",
    "val_bias_data.to_csv('./val_bias.csv')\n",
    "val_hate_data.to_csv('./val_hate.csv')"
   ]
  },
  {
   "cell_type": "code",
   "execution_count": 8,
   "metadata": {
    "colab": {
     "base_uri": "https://localhost:8080/"
    },
    "executionInfo": {
     "elapsed": 3,
     "status": "ok",
     "timestamp": 1643482100760,
     "user": {
      "displayName": "이동현",
      "photoUrl": "https://lh3.googleusercontent.com/a/default-user=s64",
      "userId": "05939370328045290450"
     },
     "user_tz": -540
    },
    "id": "cfEJdRgHtNXz",
    "outputId": "c58fd9aa-adc0-4213-8b14-4d9ba1b2ad76"
   },
   "outputs": [
    {
     "name": "stdout",
     "output_type": "stream",
     "text": [
      "training set length : 80000\n",
      "validation set length : 20000\n"
     ]
    }
   ],
   "source": [
    "# training set과 validation set의 데이터 수 확인\n",
    "print('training set length :', len(X_train))\n",
    "print('validation set length :', len(X_valid))"
   ]
  },
  {
   "cell_type": "code",
   "execution_count": null,
   "metadata": {
    "colab": {
     "base_uri": "https://localhost:8080/"
    },
    "executionInfo": {
     "elapsed": 14,
     "status": "ok",
     "timestamp": 1643333699435,
     "user": {
      "displayName": "이동현",
      "photoUrl": "https://lh3.googleusercontent.com/a/default-user=s64",
      "userId": "05939370328045290450"
     },
     "user_tz": -540
    },
    "id": "OFeX02z6tNXz",
    "outputId": "e5f8ba54-af25-4d25-b77e-ef9733c6ee11"
   },
   "outputs": [
    {
     "data": {
      "text/plain": [
       "0.32445"
      ]
     },
     "execution_count": 17,
     "metadata": {},
     "output_type": "execute_result"
    }
   ],
   "source": [
    "# validation set의 라벨 비율 확인\n",
    "y_valid.sum()/len(y_valid)"
   ]
  },
  {
   "cell_type": "markdown",
   "metadata": {
    "id": "i4qJsie7tNX0",
    "tags": []
   },
   "source": [
    "`# Single Model(XGBoost)\n",
    "## XGBClassifier의 하이퍼 파라미터 설명\n",
    "- **LINK** : https://xgboost.readthedocs.io/en/stable/python/python_api.html#xgboost.XGBClassifier\n",
    "- **max_depth=3** : 디시전 트리의 최대 깊이\n",
    "- **learning_rate=0.1** : 0과 1 사이의 값을 가지는 부스팅에 대한 학습률(eta). 매 부스팅 단계 이후 새로이 추가된 가중치는 이 파라미터로 조정된다. 이 값이 낮을수록 보수적이며, 수렴에 필요한 더 많은 디시전 트리가 필요하다.\n",
    "- **n_estimators=100** : 라운드의 횟수 또는 부스팅된 디시전 트리의 개수\n",
    "- **silent=True** : 부스팅의 수행 동안 메시지를 출력할지에 대한 여부\n",
    "- **objective=\"reg:linear\"** : 모델이 학습할 작업의 분류, 미리 정의된 작업은 문자열로 지정이 가능하지만, 그렇지 않은 경우 콜러블callable을 만들어서 지정할 수도 있다.\n",
    "- **booster=\"gbtree\"** : 'gbtree', 'gblinear', 'dart'일 수 있다. 'dart'는 드롭아웃(dropout)이라는 특성을 추가한다(과적합 방지를 위해 무작위로 디시전 트리를 선택해 제거(드롭)한다). 'gblinear'는 정규화된 선형 모델을 만든다(디시전 트리가 아니라 라소 회귀와 유사하다).\n",
    "- **nthread=None** : 더 이상 사용되지 않는다.\n",
    "- **n_jobs** : 사용할 스레드의 개수\n",
    "- **gamma=0** : 노드 분할에 필요한 최소 손실 감소\n",
    "- **min_child_weight=1** : 자식 노드 생성에 필요한 헤시안(hessian) 합의 최솟값\n",
    "- **max_delta_step=0** : 보다 보수적으로 갱신을 수행하도록 만드는 값. 불균형 범주의 데이터셋에 대해서는 1부터 10까지의 값으로 설정한다.\n",
    "- **subsample=1** : 부스팅에 사용할 샘플의 비율\n",
    "- **colsample_bytree=1** : 부스팅에 사용할 특징 열의 비율\n",
    "- **colsample_bylevel=1** : 각 디시전 트리의 수준별 사용할 특징 열의 비율\n",
    "- **colsample_bynode=1** : 각 디시전 트리의 노드별 사용할 특징 열의 비율\n",
    "- **reg_alpha=0** : L1 정규화(가중치의 평균). 이 값이 클수록 보수적이게 된다.\n",
    "- **reg_lambda=1** : L2 정규화(가중치의 제곱근). 이 값이 클수록 보수적이게 된다.\n",
    "- **base_score=.5** : 초기 편향치(bias)\n",
    "- **seed=None** : 더 이상 사용되지 않는다.\n",
    "- **random_state=0** : 난수 생성 시드\n",
    "- **missing=None** : 누락된 데이터가 해석될 값. None은 np.nan을 의미한다.\n",
    "- **importance_type='gain'** : 특징 중요도의 유형. 'gain', 'weight', 'cover', 'total_gain', 'total_cover'로 설정될 수 있다."
   ]
  },
  {
   "cell_type": "code",
   "execution_count": null,
   "metadata": {
    "id": "Ivk6waxgn8Et"
   },
   "outputs": [],
   "source": []
  },
  {
   "cell_type": "code",
   "execution_count": null,
   "metadata": {
    "colab": {
     "base_uri": "https://localhost:8080/",
     "height": 374
    },
    "collapsed": true,
    "executionInfo": {
     "elapsed": 104534,
     "status": "error",
     "timestamp": 1643257130680,
     "user": {
      "displayName": "이동현",
      "photoUrl": "https://lh3.googleusercontent.com/a/default-user=s64",
      "userId": "05939370328045290450"
     },
     "user_tz": -540
    },
    "id": "W4jFuDdZG9mX",
    "jupyter": {
     "outputs_hidden": true,
     "source_hidden": true
    },
    "outputId": "9ab2a24c-d1d8-4225-e549-0cdd794a400e",
    "tags": []
   },
   "outputs": [
    {
     "ename": "KeyboardInterrupt",
     "evalue": "ignored",
     "output_type": "error",
     "traceback": [
      "\u001b[0;31m---------------------------------------------------------------------------\u001b[0m",
      "\u001b[0;31mKeyboardInterrupt\u001b[0m                         Traceback (most recent call last)",
      "\u001b[0;32m<ipython-input-110-ca117001e542>\u001b[0m in \u001b[0;36m<module>\u001b[0;34m()\u001b[0m\n\u001b[1;32m     17\u001b[0m                            error_score=0) \n\u001b[1;32m     18\u001b[0m \u001b[0;34m\u001b[0m\u001b[0m\n\u001b[0;32m---> 19\u001b[0;31m \u001b[0mresults\u001b[0m\u001b[0;34m=\u001b[0m\u001b[0mgrid_search\u001b[0m\u001b[0;34m.\u001b[0m\u001b[0mfit\u001b[0m\u001b[0;34m(\u001b[0m\u001b[0mX_train\u001b[0m\u001b[0;34m,\u001b[0m \u001b[0my_train\u001b[0m\u001b[0;34m)\u001b[0m\u001b[0;34m\u001b[0m\u001b[0;34m\u001b[0m\u001b[0m\n\u001b[0m\u001b[1;32m     20\u001b[0m \u001b[0;34m\u001b[0m\u001b[0m\n\u001b[1;32m     21\u001b[0m \u001b[0mresults\u001b[0m\u001b[0;34m.\u001b[0m\u001b[0mbest_params_\u001b[0m\u001b[0;34m\u001b[0m\u001b[0;34m\u001b[0m\u001b[0m\n",
      "\u001b[0;32m/usr/local/lib/python3.7/dist-packages/sklearn/model_selection/_search.py\u001b[0m in \u001b[0;36mfit\u001b[0;34m(self, X, y, groups, **fit_params)\u001b[0m\n\u001b[1;32m    889\u001b[0m                 \u001b[0;32mreturn\u001b[0m \u001b[0mresults\u001b[0m\u001b[0;34m\u001b[0m\u001b[0;34m\u001b[0m\u001b[0m\n\u001b[1;32m    890\u001b[0m \u001b[0;34m\u001b[0m\u001b[0m\n\u001b[0;32m--> 891\u001b[0;31m             \u001b[0mself\u001b[0m\u001b[0;34m.\u001b[0m\u001b[0m_run_search\u001b[0m\u001b[0;34m(\u001b[0m\u001b[0mevaluate_candidates\u001b[0m\u001b[0;34m)\u001b[0m\u001b[0;34m\u001b[0m\u001b[0;34m\u001b[0m\u001b[0m\n\u001b[0m\u001b[1;32m    892\u001b[0m \u001b[0;34m\u001b[0m\u001b[0m\n\u001b[1;32m    893\u001b[0m             \u001b[0;31m# multimetric is determined here because in the case of a callable\u001b[0m\u001b[0;34m\u001b[0m\u001b[0;34m\u001b[0m\u001b[0;34m\u001b[0m\u001b[0m\n",
      "\u001b[0;32m/usr/local/lib/python3.7/dist-packages/sklearn/model_selection/_search.py\u001b[0m in \u001b[0;36m_run_search\u001b[0;34m(self, evaluate_candidates)\u001b[0m\n\u001b[1;32m   1390\u001b[0m     \u001b[0;32mdef\u001b[0m \u001b[0m_run_search\u001b[0m\u001b[0;34m(\u001b[0m\u001b[0mself\u001b[0m\u001b[0;34m,\u001b[0m \u001b[0mevaluate_candidates\u001b[0m\u001b[0;34m)\u001b[0m\u001b[0;34m:\u001b[0m\u001b[0;34m\u001b[0m\u001b[0;34m\u001b[0m\u001b[0m\n\u001b[1;32m   1391\u001b[0m         \u001b[0;34m\"\"\"Search all candidates in param_grid\"\"\"\u001b[0m\u001b[0;34m\u001b[0m\u001b[0;34m\u001b[0m\u001b[0m\n\u001b[0;32m-> 1392\u001b[0;31m         \u001b[0mevaluate_candidates\u001b[0m\u001b[0;34m(\u001b[0m\u001b[0mParameterGrid\u001b[0m\u001b[0;34m(\u001b[0m\u001b[0mself\u001b[0m\u001b[0;34m.\u001b[0m\u001b[0mparam_grid\u001b[0m\u001b[0;34m)\u001b[0m\u001b[0;34m)\u001b[0m\u001b[0;34m\u001b[0m\u001b[0;34m\u001b[0m\u001b[0m\n\u001b[0m\u001b[1;32m   1393\u001b[0m \u001b[0;34m\u001b[0m\u001b[0m\n\u001b[1;32m   1394\u001b[0m \u001b[0;34m\u001b[0m\u001b[0m\n",
      "\u001b[0;32m/usr/local/lib/python3.7/dist-packages/sklearn/model_selection/_search.py\u001b[0m in \u001b[0;36mevaluate_candidates\u001b[0;34m(candidate_params, cv, more_results)\u001b[0m\n\u001b[1;32m    849\u001b[0m                     )\n\u001b[1;32m    850\u001b[0m                     for (cand_idx, parameters), (split_idx, (train, test)) in product(\n\u001b[0;32m--> 851\u001b[0;31m                         \u001b[0menumerate\u001b[0m\u001b[0;34m(\u001b[0m\u001b[0mcandidate_params\u001b[0m\u001b[0;34m)\u001b[0m\u001b[0;34m,\u001b[0m \u001b[0menumerate\u001b[0m\u001b[0;34m(\u001b[0m\u001b[0mcv\u001b[0m\u001b[0;34m.\u001b[0m\u001b[0msplit\u001b[0m\u001b[0;34m(\u001b[0m\u001b[0mX\u001b[0m\u001b[0;34m,\u001b[0m \u001b[0my\u001b[0m\u001b[0;34m,\u001b[0m \u001b[0mgroups\u001b[0m\u001b[0;34m)\u001b[0m\u001b[0;34m)\u001b[0m\u001b[0;34m\u001b[0m\u001b[0;34m\u001b[0m\u001b[0m\n\u001b[0m\u001b[1;32m    852\u001b[0m                     )\n\u001b[1;32m    853\u001b[0m                 )\n",
      "\u001b[0;32m/usr/local/lib/python3.7/dist-packages/joblib/parallel.py\u001b[0m in \u001b[0;36m__call__\u001b[0;34m(self, iterable)\u001b[0m\n\u001b[1;32m   1054\u001b[0m \u001b[0;34m\u001b[0m\u001b[0m\n\u001b[1;32m   1055\u001b[0m             \u001b[0;32mwith\u001b[0m \u001b[0mself\u001b[0m\u001b[0;34m.\u001b[0m\u001b[0m_backend\u001b[0m\u001b[0;34m.\u001b[0m\u001b[0mretrieval_context\u001b[0m\u001b[0;34m(\u001b[0m\u001b[0;34m)\u001b[0m\u001b[0;34m:\u001b[0m\u001b[0;34m\u001b[0m\u001b[0;34m\u001b[0m\u001b[0m\n\u001b[0;32m-> 1056\u001b[0;31m                 \u001b[0mself\u001b[0m\u001b[0;34m.\u001b[0m\u001b[0mretrieve\u001b[0m\u001b[0;34m(\u001b[0m\u001b[0;34m)\u001b[0m\u001b[0;34m\u001b[0m\u001b[0;34m\u001b[0m\u001b[0m\n\u001b[0m\u001b[1;32m   1057\u001b[0m             \u001b[0;31m# Make sure that we get a last message telling us we are done\u001b[0m\u001b[0;34m\u001b[0m\u001b[0;34m\u001b[0m\u001b[0;34m\u001b[0m\u001b[0m\n\u001b[1;32m   1058\u001b[0m             \u001b[0melapsed_time\u001b[0m \u001b[0;34m=\u001b[0m \u001b[0mtime\u001b[0m\u001b[0;34m.\u001b[0m\u001b[0mtime\u001b[0m\u001b[0;34m(\u001b[0m\u001b[0;34m)\u001b[0m \u001b[0;34m-\u001b[0m \u001b[0mself\u001b[0m\u001b[0;34m.\u001b[0m\u001b[0m_start_time\u001b[0m\u001b[0;34m\u001b[0m\u001b[0;34m\u001b[0m\u001b[0m\n",
      "\u001b[0;32m/usr/local/lib/python3.7/dist-packages/joblib/parallel.py\u001b[0m in \u001b[0;36mretrieve\u001b[0;34m(self)\u001b[0m\n\u001b[1;32m    933\u001b[0m             \u001b[0;32mtry\u001b[0m\u001b[0;34m:\u001b[0m\u001b[0;34m\u001b[0m\u001b[0;34m\u001b[0m\u001b[0m\n\u001b[1;32m    934\u001b[0m                 \u001b[0;32mif\u001b[0m \u001b[0mgetattr\u001b[0m\u001b[0;34m(\u001b[0m\u001b[0mself\u001b[0m\u001b[0;34m.\u001b[0m\u001b[0m_backend\u001b[0m\u001b[0;34m,\u001b[0m \u001b[0;34m'supports_timeout'\u001b[0m\u001b[0;34m,\u001b[0m \u001b[0;32mFalse\u001b[0m\u001b[0;34m)\u001b[0m\u001b[0;34m:\u001b[0m\u001b[0;34m\u001b[0m\u001b[0;34m\u001b[0m\u001b[0m\n\u001b[0;32m--> 935\u001b[0;31m                     \u001b[0mself\u001b[0m\u001b[0;34m.\u001b[0m\u001b[0m_output\u001b[0m\u001b[0;34m.\u001b[0m\u001b[0mextend\u001b[0m\u001b[0;34m(\u001b[0m\u001b[0mjob\u001b[0m\u001b[0;34m.\u001b[0m\u001b[0mget\u001b[0m\u001b[0;34m(\u001b[0m\u001b[0mtimeout\u001b[0m\u001b[0;34m=\u001b[0m\u001b[0mself\u001b[0m\u001b[0;34m.\u001b[0m\u001b[0mtimeout\u001b[0m\u001b[0;34m)\u001b[0m\u001b[0;34m)\u001b[0m\u001b[0;34m\u001b[0m\u001b[0;34m\u001b[0m\u001b[0m\n\u001b[0m\u001b[1;32m    936\u001b[0m                 \u001b[0;32melse\u001b[0m\u001b[0;34m:\u001b[0m\u001b[0;34m\u001b[0m\u001b[0;34m\u001b[0m\u001b[0m\n\u001b[1;32m    937\u001b[0m                     \u001b[0mself\u001b[0m\u001b[0;34m.\u001b[0m\u001b[0m_output\u001b[0m\u001b[0;34m.\u001b[0m\u001b[0mextend\u001b[0m\u001b[0;34m(\u001b[0m\u001b[0mjob\u001b[0m\u001b[0;34m.\u001b[0m\u001b[0mget\u001b[0m\u001b[0;34m(\u001b[0m\u001b[0;34m)\u001b[0m\u001b[0;34m)\u001b[0m\u001b[0;34m\u001b[0m\u001b[0;34m\u001b[0m\u001b[0m\n",
      "\u001b[0;32m/usr/local/lib/python3.7/dist-packages/joblib/_parallel_backends.py\u001b[0m in \u001b[0;36mwrap_future_result\u001b[0;34m(future, timeout)\u001b[0m\n\u001b[1;32m    540\u001b[0m         AsyncResults.get from multiprocessing.\"\"\"\n\u001b[1;32m    541\u001b[0m         \u001b[0;32mtry\u001b[0m\u001b[0;34m:\u001b[0m\u001b[0;34m\u001b[0m\u001b[0;34m\u001b[0m\u001b[0m\n\u001b[0;32m--> 542\u001b[0;31m             \u001b[0;32mreturn\u001b[0m \u001b[0mfuture\u001b[0m\u001b[0;34m.\u001b[0m\u001b[0mresult\u001b[0m\u001b[0;34m(\u001b[0m\u001b[0mtimeout\u001b[0m\u001b[0;34m=\u001b[0m\u001b[0mtimeout\u001b[0m\u001b[0;34m)\u001b[0m\u001b[0;34m\u001b[0m\u001b[0;34m\u001b[0m\u001b[0m\n\u001b[0m\u001b[1;32m    543\u001b[0m         \u001b[0;32mexcept\u001b[0m \u001b[0mCfTimeoutError\u001b[0m \u001b[0;32mas\u001b[0m \u001b[0me\u001b[0m\u001b[0;34m:\u001b[0m\u001b[0;34m\u001b[0m\u001b[0;34m\u001b[0m\u001b[0m\n\u001b[1;32m    544\u001b[0m             \u001b[0;32mraise\u001b[0m \u001b[0mTimeoutError\u001b[0m \u001b[0;32mfrom\u001b[0m \u001b[0me\u001b[0m\u001b[0;34m\u001b[0m\u001b[0;34m\u001b[0m\u001b[0m\n",
      "\u001b[0;32m/usr/lib/python3.7/concurrent/futures/_base.py\u001b[0m in \u001b[0;36mresult\u001b[0;34m(self, timeout)\u001b[0m\n\u001b[1;32m    428\u001b[0m                 \u001b[0;32mreturn\u001b[0m \u001b[0mself\u001b[0m\u001b[0;34m.\u001b[0m\u001b[0m__get_result\u001b[0m\u001b[0;34m(\u001b[0m\u001b[0;34m)\u001b[0m\u001b[0;34m\u001b[0m\u001b[0;34m\u001b[0m\u001b[0m\n\u001b[1;32m    429\u001b[0m \u001b[0;34m\u001b[0m\u001b[0m\n\u001b[0;32m--> 430\u001b[0;31m             \u001b[0mself\u001b[0m\u001b[0;34m.\u001b[0m\u001b[0m_condition\u001b[0m\u001b[0;34m.\u001b[0m\u001b[0mwait\u001b[0m\u001b[0;34m(\u001b[0m\u001b[0mtimeout\u001b[0m\u001b[0;34m)\u001b[0m\u001b[0;34m\u001b[0m\u001b[0;34m\u001b[0m\u001b[0m\n\u001b[0m\u001b[1;32m    431\u001b[0m \u001b[0;34m\u001b[0m\u001b[0m\n\u001b[1;32m    432\u001b[0m             \u001b[0;32mif\u001b[0m \u001b[0mself\u001b[0m\u001b[0;34m.\u001b[0m\u001b[0m_state\u001b[0m \u001b[0;32min\u001b[0m \u001b[0;34m[\u001b[0m\u001b[0mCANCELLED\u001b[0m\u001b[0;34m,\u001b[0m \u001b[0mCANCELLED_AND_NOTIFIED\u001b[0m\u001b[0;34m]\u001b[0m\u001b[0;34m:\u001b[0m\u001b[0;34m\u001b[0m\u001b[0;34m\u001b[0m\u001b[0m\n",
      "\u001b[0;32m/usr/lib/python3.7/threading.py\u001b[0m in \u001b[0;36mwait\u001b[0;34m(self, timeout)\u001b[0m\n\u001b[1;32m    294\u001b[0m         \u001b[0;32mtry\u001b[0m\u001b[0;34m:\u001b[0m    \u001b[0;31m# restore state no matter what (e.g., KeyboardInterrupt)\u001b[0m\u001b[0;34m\u001b[0m\u001b[0;34m\u001b[0m\u001b[0m\n\u001b[1;32m    295\u001b[0m             \u001b[0;32mif\u001b[0m \u001b[0mtimeout\u001b[0m \u001b[0;32mis\u001b[0m \u001b[0;32mNone\u001b[0m\u001b[0;34m:\u001b[0m\u001b[0;34m\u001b[0m\u001b[0;34m\u001b[0m\u001b[0m\n\u001b[0;32m--> 296\u001b[0;31m                 \u001b[0mwaiter\u001b[0m\u001b[0;34m.\u001b[0m\u001b[0macquire\u001b[0m\u001b[0;34m(\u001b[0m\u001b[0;34m)\u001b[0m\u001b[0;34m\u001b[0m\u001b[0;34m\u001b[0m\u001b[0m\n\u001b[0m\u001b[1;32m    297\u001b[0m                 \u001b[0mgotit\u001b[0m \u001b[0;34m=\u001b[0m \u001b[0;32mTrue\u001b[0m\u001b[0;34m\u001b[0m\u001b[0;34m\u001b[0m\u001b[0m\n\u001b[1;32m    298\u001b[0m             \u001b[0;32melse\u001b[0m\u001b[0;34m:\u001b[0m\u001b[0;34m\u001b[0m\u001b[0;34m\u001b[0m\u001b[0m\n",
      "\u001b[0;31mKeyboardInterrupt\u001b[0m: "
     ]
    }
   ],
   "source": [
    "# 하이퍼 파라미터 튜닝\n",
    "xgb_clf = xgboost.XGBClassifier()\n",
    "\n",
    "param_grid = {'max_depth':[3, 10],\n",
    "              'learning_rate':[0.1, 0.05],\n",
    "              'n_estimators':[100, 500],\n",
    "              'colsample_bytree': [0.5, 0,75],\n",
    "              'min_child_weight' : [1, 3]}\n",
    "\n",
    "cv=RepeatedStratifiedKFold(n_splits=5, n_repeats=2)\n",
    "\n",
    "grid_search = GridSearchCV(estimator=xgb_clf,\n",
    "                           param_grid=param_grid, \n",
    "                           n_jobs=-1,\n",
    "                           cv=cv,\n",
    "                           scoring='f1', #이부분을 F1 SCORE로 바꾸어 볼 수 있다. \n",
    "                           error_score=0) \n",
    "\n",
    "results=grid_search.fit(X_train, y_train)\n",
    "\n",
    "results.best_params_"
   ]
  },
  {
   "cell_type": "markdown",
   "metadata": {},
   "source": [
    "## hate clssification"
   ]
  },
  {
   "cell_type": "code",
   "execution_count": 135,
   "metadata": {
    "executionInfo": {
     "elapsed": 65823,
     "status": "ok",
     "timestamp": 1643482170110,
     "user": {
      "displayName": "이동현",
      "photoUrl": "https://lh3.googleusercontent.com/a/default-user=s64",
      "userId": "05939370328045290450"
     },
     "user_tz": -540
    },
    "id": "7JcFCUqpG9o2"
   },
   "outputs": [
    {
     "ename": "NotFittedError",
     "evalue": "need to call fit or load_model beforehand",
     "output_type": "error",
     "traceback": [
      "\u001b[0;31m---------------------------------------------------------------------------\u001b[0m",
      "\u001b[0;31mNotFittedError\u001b[0m                            Traceback (most recent call last)",
      "\u001b[0;32m/tmp/ipykernel_42030/2258551902.py\u001b[0m in \u001b[0;36m<module>\u001b[0;34m\u001b[0m\n\u001b[1;32m     12\u001b[0m \u001b[0;34m\u001b[0m\u001b[0m\n\u001b[1;32m     13\u001b[0m \u001b[0;34m\u001b[0m\u001b[0m\n\u001b[0;32m---> 14\u001b[0;31m \u001b[0my_pred_hate\u001b[0m \u001b[0;34m=\u001b[0m \u001b[0mxgb_clf\u001b[0m\u001b[0;34m.\u001b[0m\u001b[0mpredict\u001b[0m\u001b[0;34m(\u001b[0m\u001b[0mval_data\u001b[0m\u001b[0;34m)\u001b[0m\u001b[0;34m\u001b[0m\u001b[0;34m\u001b[0m\u001b[0m\n\u001b[0m",
      "\u001b[0;32m/opt/conda/lib/python3.8/site-packages/xgboost/sklearn.py\u001b[0m in \u001b[0;36mpredict\u001b[0;34m(self, X, output_margin, ntree_limit, validate_features, base_margin, iteration_range)\u001b[0m\n\u001b[1;32m   1282\u001b[0m         \u001b[0miteration_range\u001b[0m\u001b[0;34m:\u001b[0m \u001b[0mOptional\u001b[0m\u001b[0;34m[\u001b[0m\u001b[0mTuple\u001b[0m\u001b[0;34m[\u001b[0m\u001b[0mint\u001b[0m\u001b[0;34m,\u001b[0m \u001b[0mint\u001b[0m\u001b[0;34m]\u001b[0m\u001b[0;34m]\u001b[0m \u001b[0;34m=\u001b[0m \u001b[0;32mNone\u001b[0m\u001b[0;34m,\u001b[0m\u001b[0;34m\u001b[0m\u001b[0;34m\u001b[0m\u001b[0m\n\u001b[1;32m   1283\u001b[0m     ) -> np.ndarray:\n\u001b[0;32m-> 1284\u001b[0;31m         class_probs = super().predict(\n\u001b[0m\u001b[1;32m   1285\u001b[0m             \u001b[0mX\u001b[0m\u001b[0;34m=\u001b[0m\u001b[0mX\u001b[0m\u001b[0;34m,\u001b[0m\u001b[0;34m\u001b[0m\u001b[0;34m\u001b[0m\u001b[0m\n\u001b[1;32m   1286\u001b[0m             \u001b[0moutput_margin\u001b[0m\u001b[0;34m=\u001b[0m\u001b[0moutput_margin\u001b[0m\u001b[0;34m,\u001b[0m\u001b[0;34m\u001b[0m\u001b[0;34m\u001b[0m\u001b[0m\n",
      "\u001b[0;32m/opt/conda/lib/python3.8/site-packages/xgboost/sklearn.py\u001b[0m in \u001b[0;36mpredict\u001b[0;34m(self, X, output_margin, ntree_limit, validate_features, base_margin, iteration_range)\u001b[0m\n\u001b[1;32m    874\u001b[0m         \"\"\"\n\u001b[1;32m    875\u001b[0m         iteration_range = _convert_ntree_limit(\n\u001b[0;32m--> 876\u001b[0;31m             \u001b[0mself\u001b[0m\u001b[0;34m.\u001b[0m\u001b[0mget_booster\u001b[0m\u001b[0;34m(\u001b[0m\u001b[0;34m)\u001b[0m\u001b[0;34m,\u001b[0m \u001b[0mntree_limit\u001b[0m\u001b[0;34m,\u001b[0m \u001b[0miteration_range\u001b[0m\u001b[0;34m\u001b[0m\u001b[0;34m\u001b[0m\u001b[0m\n\u001b[0m\u001b[1;32m    877\u001b[0m         )\n\u001b[1;32m    878\u001b[0m         \u001b[0miteration_range\u001b[0m \u001b[0;34m=\u001b[0m \u001b[0mself\u001b[0m\u001b[0;34m.\u001b[0m\u001b[0m_get_iteration_range\u001b[0m\u001b[0;34m(\u001b[0m\u001b[0miteration_range\u001b[0m\u001b[0;34m)\u001b[0m\u001b[0;34m\u001b[0m\u001b[0;34m\u001b[0m\u001b[0m\n",
      "\u001b[0;32m/opt/conda/lib/python3.8/site-packages/xgboost/sklearn.py\u001b[0m in \u001b[0;36mget_booster\u001b[0;34m(self)\u001b[0m\n\u001b[1;32m    457\u001b[0m         \u001b[0;32mif\u001b[0m \u001b[0;32mnot\u001b[0m \u001b[0mself\u001b[0m\u001b[0;34m.\u001b[0m\u001b[0m__sklearn_is_fitted__\u001b[0m\u001b[0;34m(\u001b[0m\u001b[0;34m)\u001b[0m\u001b[0;34m:\u001b[0m\u001b[0;34m\u001b[0m\u001b[0;34m\u001b[0m\u001b[0m\n\u001b[1;32m    458\u001b[0m             \u001b[0;32mfrom\u001b[0m \u001b[0msklearn\u001b[0m\u001b[0;34m.\u001b[0m\u001b[0mexceptions\u001b[0m \u001b[0;32mimport\u001b[0m \u001b[0mNotFittedError\u001b[0m\u001b[0;34m\u001b[0m\u001b[0;34m\u001b[0m\u001b[0m\n\u001b[0;32m--> 459\u001b[0;31m             \u001b[0;32mraise\u001b[0m \u001b[0mNotFittedError\u001b[0m\u001b[0;34m(\u001b[0m\u001b[0;34m'need to call fit or load_model beforehand'\u001b[0m\u001b[0;34m)\u001b[0m\u001b[0;34m\u001b[0m\u001b[0;34m\u001b[0m\u001b[0m\n\u001b[0m\u001b[1;32m    460\u001b[0m         \u001b[0;32mreturn\u001b[0m \u001b[0mself\u001b[0m\u001b[0;34m.\u001b[0m\u001b[0m_Booster\u001b[0m\u001b[0;34m\u001b[0m\u001b[0;34m\u001b[0m\u001b[0m\n\u001b[1;32m    461\u001b[0m \u001b[0;34m\u001b[0m\u001b[0m\n",
      "\u001b[0;31mNotFittedError\u001b[0m: need to call fit or load_model beforehand"
     ]
    }
   ],
   "source": [
    "# best parameter를 사용하여 prediction 수행\n",
    "xgb_clf_hate = xgboost.XGBClassifier(max_depth = 7,\n",
    "                                n_estimators =500,\n",
    "                                colsample_bytree= 0.5,\n",
    "                                min_child_weight = 3,\n",
    "                                reg_alpha = 0.03,\n",
    "                                learning_rate=0.05,\n",
    "                                objective = 'binary:logistic',\n",
    "                                eval_metric='mlogloss')\n",
    "\n",
    "xgb_clf_hate.fit(new_data, hate_data)\n",
    "\n",
    "\n",
    "y_pred_hate = xgb_clf_hate.predict(val_data)"
   ]
  },
  {
   "cell_type": "code",
   "execution_count": 136,
   "metadata": {},
   "outputs": [],
   "source": [
    "y_pred_hate = xgb_clf_hate.predict(val_data)"
   ]
  },
  {
   "cell_type": "code",
   "execution_count": 113,
   "metadata": {
    "colab": {
     "base_uri": "https://localhost:8080/"
    },
    "executionInfo": {
     "elapsed": 1006,
     "status": "ok",
     "timestamp": 1643336870864,
     "user": {
      "displayName": "이동현",
      "photoUrl": "https://lh3.googleusercontent.com/a/default-user=s64",
      "userId": "05939370328045290450"
     },
     "user_tz": -540
    },
    "id": "BChLR6koG9q_",
    "outputId": "165842d2-52b7-4874-9fb8-d726ecc8bcc3"
   },
   "outputs": [
    {
     "name": "stdout",
     "output_type": "stream",
     "text": [
      "1675\n"
     ]
    },
    {
     "data": {
      "text/plain": [
       "array([[0.97928625, 0.02071377],\n",
       "       [0.18774039, 0.8122596 ],\n",
       "       [0.5207901 , 0.47920993],\n",
       "       ...,\n",
       "       [0.99466306, 0.00533692],\n",
       "       [0.02521306, 0.97478694],\n",
       "       [0.79827935, 0.20172065]], dtype=float32)"
      ]
     },
     "execution_count": 113,
     "metadata": {},
     "output_type": "execute_result"
    }
   ],
   "source": [
    "# y_valid가 0 또는 1일 확률 출력\n",
    "y_pred_prob = xgb_clf.predict_proba(val_data)\n",
    "\n",
    "\n",
    "print(len(y_pred_prob))\n",
    "y_pred_prob"
   ]
  },
  {
   "cell_type": "code",
   "execution_count": null,
   "metadata": {
    "colab": {
     "base_uri": "https://localhost:8080/"
    },
    "executionInfo": {
     "elapsed": 438,
     "status": "ok",
     "timestamp": 1643259036685,
     "user": {
      "displayName": "이동현",
      "photoUrl": "https://lh3.googleusercontent.com/a/default-user=s64",
      "userId": "05939370328045290450"
     },
     "user_tz": -540
    },
    "id": "P0j21hQ5tNX2",
    "outputId": "18e8d52b-c257-49ca-a8ef-36269b066a67"
   },
   "outputs": [
    {
     "data": {
      "text/plain": [
       "array([0.54131407, 0.12233078, 0.24639614, ..., 0.15840751, 0.03906867,\n",
       "       0.17314816], dtype=float32)"
      ]
     },
     "execution_count": 27,
     "metadata": {},
     "output_type": "execute_result"
    }
   ],
   "source": [
    "# y_valid가 1일 확률 출력\n",
    "y_pred_prob[:,1]"
   ]
  },
  {
   "cell_type": "code",
   "execution_count": null,
   "metadata": {
    "colab": {
     "base_uri": "https://localhost:8080/"
    },
    "executionInfo": {
     "elapsed": 337,
     "status": "ok",
     "timestamp": 1643259039266,
     "user": {
      "displayName": "이동현",
      "photoUrl": "https://lh3.googleusercontent.com/a/default-user=s64",
      "userId": "05939370328045290450"
     },
     "user_tz": -540
    },
    "id": "0sN4rLY5tNX2",
    "outputId": "5e8af912-95b0-41ae-b908-d144e134a1f9"
   },
   "outputs": [
    {
     "name": "stdout",
     "output_type": "stream",
     "text": [
      "20000\n"
     ]
    },
    {
     "data": {
      "text/plain": [
       "array([1, 0, 0, ..., 0, 0, 0])"
      ]
     },
     "execution_count": 28,
     "metadata": {},
     "output_type": "execute_result"
    }
   ],
   "source": [
    "\n",
    "# y_valid 예측값 출력\n",
    "# y_pred_prob[:,1]이 0.5(threshold)보다 큰 경우 1의 예측값을 return한다\n",
    "\n",
    "print(len(y_pred_xgb))\n",
    "y_pred_xgb"
   ]
  },
  {
   "cell_type": "code",
   "execution_count": null,
   "metadata": {
    "colab": {
     "base_uri": "https://localhost:8080/"
    },
    "executionInfo": {
     "elapsed": 275,
     "status": "ok",
     "timestamp": 1643259041969,
     "user": {
      "displayName": "이동현",
      "photoUrl": "https://lh3.googleusercontent.com/a/default-user=s64",
      "userId": "05939370328045290450"
     },
     "user_tz": -540
    },
    "id": "3RNfnU-RtNX2",
    "outputId": "37fc311a-f693-40c7-be6f-656c616efbae"
   },
   "outputs": [
    {
     "name": "stdout",
     "output_type": "stream",
     "text": [
      "4632\n",
      "0.2316\n"
     ]
    }
   ],
   "source": [
    "\n",
    "# 1로 예측된 y_valid 갯수 및 비율 출력\n",
    "print(y_pred_xgb.sum())\n",
    "print(y_pred_xgb.sum()/len(y_pred_xgb))"
   ]
  },
  {
   "cell_type": "code",
   "execution_count": 139,
   "metadata": {
    "id": "3mIAhdCstNX3"
   },
   "outputs": [],
   "source": [
    "# 평가 함수 정의\n",
    "def get_clf_eval(y_actual, y_pred):\n",
    "    accuracy = accuracy_score(y_actual, y_pred)\n",
    "    # precision = precision_score(y_actual, y_pred)\n",
    "    # recall = recall_score(y_actual, y_pred)\n",
    "    # AUC = roc_auc_score(y_actual, y_pred)\n",
    "    # F1 = f1_score(y_actual, y_pred)\n",
    "    print('\\n정확도: {:.4f}'.format(accuracy))\n",
    "    # print('정밀도: {:.4f}'.format(precision))\n",
    "    # print('재현율: {:.4f}'.format(recall))\n",
    "    # print('AUC: {:.4f}'.format(AUC))\n",
    "    # print('F1: {:.4f}'.format(F1))\n",
    "    \n",
    "    sns.heatmap(confusion_matrix(y_actual, y_pred), annot=True, fmt='d', cmap='YlGnBu')"
   ]
  },
  {
   "cell_type": "code",
   "execution_count": 138,
   "metadata": {
    "colab": {
     "base_uri": "https://localhost:8080/",
     "height": 366
    },
    "executionInfo": {
     "elapsed": 695,
     "status": "ok",
     "timestamp": 1643329078228,
     "user": {
      "displayName": "이동현",
      "photoUrl": "https://lh3.googleusercontent.com/a/default-user=s64",
      "userId": "05939370328045290450"
     },
     "user_tz": -540
    },
    "id": "0JYjY0cBtNX3",
    "outputId": "ad642de5-a0db-468e-f0fa-7a693ca69e31"
   },
   "outputs": [
    {
     "name": "stdout",
     "output_type": "stream",
     "text": [
      "\n",
      "정확도: 0.7839\n",
      "정밀도: 0.7829\n",
      "재현율: 0.8452\n",
      "AUC: 0.7763\n",
      "F1: 0.8128\n"
     ]
    },
    {
     "data": {
      "image/png": "[encoded data removed]",
      "text/plain": [
       "<Figure size 432x288 with 2 Axes>"
      ]
     },
     "metadata": {
      "needs_background": "light"
     },
     "output_type": "display_data"
    }
   ],
   "source": [
    "# xgboost 성능 확인\n",
    "get_clf_eval(val_hate_data, y_pred_hate)\n",
    "#재현율을 높히는 방향으로 threshold를 조정하는 것도 좋다."
   ]
  },
  {
   "cell_type": "code",
   "execution_count": 121,
   "metadata": {
    "colab": {
     "base_uri": "https://localhost:8080/",
     "height": 366
    },
    "executionInfo": {
     "elapsed": 851,
     "status": "ok",
     "timestamp": 1643329081195,
     "user": {
      "displayName": "이동현",
      "photoUrl": "https://lh3.googleusercontent.com/a/default-user=s64",
      "userId": "05939370328045290450"
     },
     "user_tz": -540
    },
    "id": "kaLgKgwctNX3",
    "outputId": "97f56c4e-a474-448f-f2ec-959c8c06da6e"
   },
   "outputs": [
    {
     "name": "stdout",
     "output_type": "stream",
     "text": [
      "\n",
      "정확도: 0.7821\n",
      "정밀도: 0.7604\n",
      "재현율: 0.8871\n",
      "AUC: 0.7691\n",
      "F1: 0.8189\n"
     ]
    },
    {
     "data": {
      "image/png": "[encoded data removed]",
      "text/plain": [
       "<Figure size 432x288 with 2 Axes>"
      ]
     },
     "metadata": {
      "needs_background": "light"
     },
     "output_type": "display_data"
    }
   ],
   "source": [
    "# threshold 변경 및 성능 확인\n",
    "get_clf_eval(val_hate_data, y_pred_prob[:,1]>0.4)"
   ]
  },
  {
   "cell_type": "markdown",
   "metadata": {
    "id": "gVeDhj84NW51"
   },
   "source": [
    "object를 이진으로 바꾸고 난 뒤 결과\n",
    "> 확인 결과 똑같다. "
   ]
  },
  {
   "cell_type": "markdown",
   "metadata": {},
   "source": [
    "## bias classification"
   ]
  },
  {
   "cell_type": "code",
   "execution_count": 142,
   "metadata": {},
   "outputs": [],
   "source": [
    "# best parameter를 사용하여 prediction 수행\n",
    "xgb_clf = xgboost.XGBClassifier(max_depth = 7,\n",
    "                                n_estimators =500,\n",
    "                                colsample_bytree= 0.5,\n",
    "                                min_child_weight = 3,\n",
    "                                reg_alpha = 0.03,\n",
    "                                learning_rate=0.05,\n",
    "                                eval_metric='mlogloss')\n",
    "\n",
    "xgb_clf.fit(new_data, bias_data)\n",
    "\n",
    "\n",
    "y_pred_xgb = xgb_clf.predict(val_data)"
   ]
  },
  {
   "cell_type": "code",
   "execution_count": 141,
   "metadata": {},
   "outputs": [
    {
     "ename": "NotFittedError",
     "evalue": "need to call fit or load_model beforehand",
     "output_type": "error",
     "traceback": [
      "\u001b[0;31m---------------------------------------------------------------------------\u001b[0m",
      "\u001b[0;31mNotFittedError\u001b[0m                            Traceback (most recent call last)",
      "\u001b[0;32m/tmp/ipykernel_42030/4205990802.py\u001b[0m in \u001b[0;36m<module>\u001b[0;34m\u001b[0m\n\u001b[0;32m----> 1\u001b[0;31m \u001b[0my_pred_xgb\u001b[0m \u001b[0;34m=\u001b[0m \u001b[0mxgb_clf\u001b[0m\u001b[0;34m.\u001b[0m\u001b[0mpredict\u001b[0m\u001b[0;34m(\u001b[0m\u001b[0mval_data\u001b[0m\u001b[0;34m)\u001b[0m\u001b[0;34m\u001b[0m\u001b[0;34m\u001b[0m\u001b[0m\n\u001b[0m",
      "\u001b[0;32m/opt/conda/lib/python3.8/site-packages/xgboost/sklearn.py\u001b[0m in \u001b[0;36mpredict\u001b[0;34m(self, X, output_margin, ntree_limit, validate_features, base_margin, iteration_range)\u001b[0m\n\u001b[1;32m   1282\u001b[0m         \u001b[0miteration_range\u001b[0m\u001b[0;34m:\u001b[0m \u001b[0mOptional\u001b[0m\u001b[0;34m[\u001b[0m\u001b[0mTuple\u001b[0m\u001b[0;34m[\u001b[0m\u001b[0mint\u001b[0m\u001b[0;34m,\u001b[0m \u001b[0mint\u001b[0m\u001b[0;34m]\u001b[0m\u001b[0;34m]\u001b[0m \u001b[0;34m=\u001b[0m \u001b[0;32mNone\u001b[0m\u001b[0;34m,\u001b[0m\u001b[0;34m\u001b[0m\u001b[0;34m\u001b[0m\u001b[0m\n\u001b[1;32m   1283\u001b[0m     ) -> np.ndarray:\n\u001b[0;32m-> 1284\u001b[0;31m         class_probs = super().predict(\n\u001b[0m\u001b[1;32m   1285\u001b[0m             \u001b[0mX\u001b[0m\u001b[0;34m=\u001b[0m\u001b[0mX\u001b[0m\u001b[0;34m,\u001b[0m\u001b[0;34m\u001b[0m\u001b[0;34m\u001b[0m\u001b[0m\n\u001b[1;32m   1286\u001b[0m             \u001b[0moutput_margin\u001b[0m\u001b[0;34m=\u001b[0m\u001b[0moutput_margin\u001b[0m\u001b[0;34m,\u001b[0m\u001b[0;34m\u001b[0m\u001b[0;34m\u001b[0m\u001b[0m\n",
      "\u001b[0;32m/opt/conda/lib/python3.8/site-packages/xgboost/sklearn.py\u001b[0m in \u001b[0;36mpredict\u001b[0;34m(self, X, output_margin, ntree_limit, validate_features, base_margin, iteration_range)\u001b[0m\n\u001b[1;32m    874\u001b[0m         \"\"\"\n\u001b[1;32m    875\u001b[0m         iteration_range = _convert_ntree_limit(\n\u001b[0;32m--> 876\u001b[0;31m             \u001b[0mself\u001b[0m\u001b[0;34m.\u001b[0m\u001b[0mget_booster\u001b[0m\u001b[0;34m(\u001b[0m\u001b[0;34m)\u001b[0m\u001b[0;34m,\u001b[0m \u001b[0mntree_limit\u001b[0m\u001b[0;34m,\u001b[0m \u001b[0miteration_range\u001b[0m\u001b[0;34m\u001b[0m\u001b[0;34m\u001b[0m\u001b[0m\n\u001b[0m\u001b[1;32m    877\u001b[0m         )\n\u001b[1;32m    878\u001b[0m         \u001b[0miteration_range\u001b[0m \u001b[0;34m=\u001b[0m \u001b[0mself\u001b[0m\u001b[0;34m.\u001b[0m\u001b[0m_get_iteration_range\u001b[0m\u001b[0;34m(\u001b[0m\u001b[0miteration_range\u001b[0m\u001b[0;34m)\u001b[0m\u001b[0;34m\u001b[0m\u001b[0;34m\u001b[0m\u001b[0m\n",
      "\u001b[0;32m/opt/conda/lib/python3.8/site-packages/xgboost/sklearn.py\u001b[0m in \u001b[0;36mget_booster\u001b[0;34m(self)\u001b[0m\n\u001b[1;32m    457\u001b[0m         \u001b[0;32mif\u001b[0m \u001b[0;32mnot\u001b[0m \u001b[0mself\u001b[0m\u001b[0;34m.\u001b[0m\u001b[0m__sklearn_is_fitted__\u001b[0m\u001b[0;34m(\u001b[0m\u001b[0;34m)\u001b[0m\u001b[0;34m:\u001b[0m\u001b[0;34m\u001b[0m\u001b[0;34m\u001b[0m\u001b[0m\n\u001b[1;32m    458\u001b[0m             \u001b[0;32mfrom\u001b[0m \u001b[0msklearn\u001b[0m\u001b[0;34m.\u001b[0m\u001b[0mexceptions\u001b[0m \u001b[0;32mimport\u001b[0m \u001b[0mNotFittedError\u001b[0m\u001b[0;34m\u001b[0m\u001b[0;34m\u001b[0m\u001b[0m\n\u001b[0;32m--> 459\u001b[0;31m             \u001b[0;32mraise\u001b[0m \u001b[0mNotFittedError\u001b[0m\u001b[0;34m(\u001b[0m\u001b[0;34m'need to call fit or load_model beforehand'\u001b[0m\u001b[0;34m)\u001b[0m\u001b[0;34m\u001b[0m\u001b[0;34m\u001b[0m\u001b[0m\n\u001b[0m\u001b[1;32m    460\u001b[0m         \u001b[0;32mreturn\u001b[0m \u001b[0mself\u001b[0m\u001b[0;34m.\u001b[0m\u001b[0m_Booster\u001b[0m\u001b[0;34m\u001b[0m\u001b[0;34m\u001b[0m\u001b[0m\n\u001b[1;32m    461\u001b[0m \u001b[0;34m\u001b[0m\u001b[0m\n",
      "\u001b[0;31mNotFittedError\u001b[0m: need to call fit or load_model beforehand"
     ]
    }
   ],
   "source": [
    "y_pred_xgb = xgb_clf.predict(val_data)"
   ]
  },
  {
   "cell_type": "code",
   "execution_count": 143,
   "metadata": {},
   "outputs": [
    {
     "name": "stdout",
     "output_type": "stream",
     "text": [
      "\n",
      "정확도: 0.7576\n"
     ]
    },
    {
     "data": {
      "image/png": "[encoded data removed]",
      "text/plain": [
       "<Figure size 432x288 with 2 Axes>"
      ]
     },
     "metadata": {
      "needs_background": "light"
     },
     "output_type": "display_data"
    }
   ],
   "source": [
    "get_clf_eval(val_bias_data, y_pred_xgb)"
   ]
  },
  {
   "cell_type": "markdown",
   "metadata": {
    "id": "-0GmMJ3stNX4",
    "jp-MarkdownHeadingCollapsed": true,
    "tags": []
   },
   "source": [
    "# Ensemble(Voting)"
   ]
  },
  {
   "cell_type": "code",
   "execution_count": null,
   "metadata": {
    "id": "h7gnZcNntNX4"
   },
   "outputs": [],
   "source": [
    "rnd_clf = RandomForestClassifier()\n",
    "lgbm_clf = LGBMClassifier(max_depth = 7,\n",
    "                                n_estimators =500,\n",
    "                                colsample_bytree= 0.5,\n",
    "                                min_child_weight = 3,\n",
    "                                reg_alpha = 0.3,\n",
    "                                reg_lambda = 0.05,\n",
    "                                learning_rate=0.05,\n",
    "                                application = 'binary',\n",
    "                                eval_metric='mlogloss')\n",
    "# rid_clf = RidgeClassifier()\n",
    "# dtc_clf = DecisionTreeClassifier()\n",
    "# svm_clf = SVC()\n",
    "# ada_clf = AdaBoostClassifier()\n",
    "# gbc_clf = GradientBoostingClassifier()\n",
    "# bag_clf = BaggingClassifier()\n",
    "# ext_clf = ExtraTreesClassifier()\n",
    "# knn_clf = KNeighborsClassifier()\n",
    "# svc_clf = SVC()\n",
    "#tree 기반 모델은 scaling을 할 필요 없지만 -> 다른 딥러닝이나 이런걸 사용하게 되면 min-max scaling등을 활용해야 될 수도 있다. \n",
    "\n",
    "voting_clf = VotingClassifier(estimators=[('rnd', rnd_clf), ('lgbm', lgbm_clf), ('xgb', xgb_clf)], voting='soft')"
   ]
  },
  {
   "cell_type": "code",
   "execution_count": null,
   "metadata": {
    "colab": {
     "base_uri": "https://localhost:8080/",
     "height": 369
    },
    "executionInfo": {
     "elapsed": 264637,
     "status": "ok",
     "timestamp": 1643257914844,
     "user": {
      "displayName": "이동현",
      "photoUrl": "https://lh3.googleusercontent.com/a/default-user=s64",
      "userId": "05939370328045290450"
     },
     "user_tz": -540
    },
    "id": "nCnVIn1ktNX4",
    "outputId": "b41d28d5-0a5e-4b81-f7a2-208192494770"
   },
   "outputs": [
    {
     "name": "stdout",
     "output_type": "stream",
     "text": [
      "\n",
      "정확도: 0.7542\n",
      "정밀도: 0.6767\n",
      "재현율: 0.4656\n",
      "AUC: 0.6793\n",
      "F1: 0.5516\n"
     ]
    },
    {
     "data": {
      "image/png": "[encoded data removed]",
      "text/plain": [
       "<Figure size 432x288 with 2 Axes>"
      ]
     },
     "metadata": {},
     "output_type": "display_data"
    }
   ],
   "source": [
    "for clf in (rnd_clf, lgbm_clf, xgb_clf, voting_clf):\n",
    "    clf.fit(X_train, y_train)\n",
    "    y_pred_vote = clf.predict(X_valid)\n",
    "\n",
    "# ensemble(voting) 성능 확인\n",
    "get_clf_eval(y_valid, y_pred_vote)"
   ]
  },
  {
   "cell_type": "markdown",
   "metadata": {
    "id": "k8spNdkMtNX4",
    "jp-MarkdownHeadingCollapsed": true,
    "tags": []
   },
   "source": [
    "# Ensemble(Stacking)"
   ]
  },
  {
   "cell_type": "markdown",
   "metadata": {
    "id": "hhhRh9j4FQZO"
   },
   "source": [
    "### 튜닝된 xgboost와 튜닝이 안된 random forest, lgbm을 stacking\n"
   ]
  },
  {
   "cell_type": "code",
   "execution_count": null,
   "metadata": {
    "colab": {
     "base_uri": "https://localhost:8080/",
     "height": 366
    },
    "executionInfo": {
     "elapsed": 482121,
     "status": "ok",
     "timestamp": 1643330014267,
     "user": {
      "displayName": "이동현",
      "photoUrl": "https://lh3.googleusercontent.com/a/default-user=s64",
      "userId": "05939370328045290450"
     },
     "user_tz": -540
    },
    "id": "VQsGhnt2tNX5",
    "outputId": "3bda894e-8475-4bd4-bf99-fe84daa2c3fb"
   },
   "outputs": [
    {
     "name": "stdout",
     "output_type": "stream",
     "text": [
      "\n",
      "정확도: 0.7549\n",
      "정밀도: 0.6676\n",
      "재현율: 0.5090\n",
      "AUC: 0.6923\n",
      "F1: 0.5776\n"
     ]
    },
    {
     "data": {
      "image/png": "[encoded data removed]",
      "text/plain": [
       "<Figure size 432x288 with 2 Axes>"
      ]
     },
     "metadata": {},
     "output_type": "display_data"
    }
   ],
   "source": [
    "stacking_clf = StackingClassifier(estimators=[('rnd', rnd_clf), ('lgbm', lgbm_clf), ('xgb', xgb_clf)], final_estimator = LGBMClassifier())\n",
    "stacking_clf.fit(X_train, y_train)\n",
    "y_pred_stack = stacking_clf.predict(X_valid)\n",
    "\n",
    "# ensemble(stacking) 성능 확인\n",
    "get_clf_eval(y_valid, y_pred_stack)"
   ]
  },
  {
   "cell_type": "code",
   "execution_count": null,
   "metadata": {
    "id": "TOSxsyW5GxUn"
   },
   "outputs": [],
   "source": [
    "y_prob = stacking_clf.predict_proba(X_valid)"
   ]
  },
  {
   "cell_type": "code",
   "execution_count": null,
   "metadata": {
    "colab": {
     "base_uri": "https://localhost:8080/"
    },
    "executionInfo": {
     "elapsed": 332,
     "status": "ok",
     "timestamp": 1643330130593,
     "user": {
      "displayName": "이동현",
      "photoUrl": "https://lh3.googleusercontent.com/a/default-user=s64",
      "userId": "05939370328045290450"
     },
     "user_tz": -540
    },
    "id": "iSY3ul3OG74p",
    "outputId": "dfeedd70-83a6-49dd-a2ea-d0ad8827c75c"
   },
   "outputs": [
    {
     "data": {
      "text/plain": [
       "array([[0.94509169, 0.05490831],\n",
       "       [0.60311312, 0.39688688],\n",
       "       [0.8737651 , 0.1262349 ],\n",
       "       ...,\n",
       "       [0.23401615, 0.76598385],\n",
       "       [0.6192799 , 0.3807201 ],\n",
       "       [0.96740097, 0.03259903]])"
      ]
     },
     "execution_count": 18,
     "metadata": {},
     "output_type": "execute_result"
    }
   ],
   "source": [
    "y_prob"
   ]
  },
  {
   "cell_type": "code",
   "execution_count": null,
   "metadata": {
    "colab": {
     "base_uri": "https://localhost:8080/",
     "height": 366
    },
    "executionInfo": {
     "elapsed": 708,
     "status": "ok",
     "timestamp": 1643330350024,
     "user": {
      "displayName": "이동현",
      "photoUrl": "https://lh3.googleusercontent.com/a/default-user=s64",
      "userId": "05939370328045290450"
     },
     "user_tz": -540
    },
    "id": "NHPwsysdHwhZ",
    "outputId": "536ee180-f03d-4a03-e820-1f3fca9a69a6"
   },
   "outputs": [
    {
     "name": "stdout",
     "output_type": "stream",
     "text": [
      "\n",
      "정확도: 0.7442\n",
      "정밀도: 0.5992\n",
      "재현율: 0.6740\n",
      "AUC: 0.7264\n",
      "F1: 0.6344\n"
     ]
    },
    {
     "data": {
      "image/png": "[encoded data removed]",
      "text/plain": [
       "<Figure size 432x288 with 2 Axes>"
      ]
     },
     "metadata": {},
     "output_type": "display_data"
    }
   ],
   "source": [
    "get_clf_eval(y_valid, y_prob[:,1]>0.4)"
   ]
  },
  {
   "cell_type": "markdown",
   "metadata": {
    "id": "0jc3zAG6I-tG"
   },
   "source": [
    "### 마지막 판단을 xgboost로 변경\n",
    "앞선 lgbm보다 속도가 더 걸리는 경향이 있다.\n",
    "f1 score는 올랐으나, public 점수는 더 떨어진 것을 알 수 있다."
   ]
  },
  {
   "cell_type": "code",
   "execution_count": null,
   "metadata": {
    "colab": {
     "base_uri": "https://localhost:8080/",
     "height": 366
    },
    "executionInfo": {
     "elapsed": 495078,
     "status": "ok",
     "timestamp": 1643331016869,
     "user": {
      "displayName": "이동현",
      "photoUrl": "https://lh3.googleusercontent.com/a/default-user=s64",
      "userId": "05939370328045290450"
     },
     "user_tz": -540
    },
    "id": "Hr11ZiQFIVww",
    "outputId": "d108428d-6574-4f74-8686-b5e94de27d4d"
   },
   "outputs": [
    {
     "name": "stdout",
     "output_type": "stream",
     "text": [
      "\n",
      "정확도: 0.7552\n",
      "정밀도: 0.6624\n",
      "재현율: 0.5232\n",
      "AUC: 0.6961\n",
      "F1: 0.5846\n"
     ]
    },
    {
     "data": {
      "image/png": "[encoded data removed]",
      "text/plain": [
       "<Figure size 432x288 with 2 Axes>"
      ]
     },
     "metadata": {},
     "output_type": "display_data"
    }
   ],
   "source": [
    "stacking_clf = StackingClassifier(estimators=[('rnd', rnd_clf), ('lgbm', lgbm_clf), ('xgb', xgb_clf)], final_estimator = XGBClassifier())\n",
    "stacking_clf.fit(X_train, y_train)\n",
    "y_pred_stack = stacking_clf.predict(X_valid)\n",
    "\n",
    "# ensemble(stacking) 성능 확인\n",
    "get_clf_eval(y_valid, y_pred_stack)"
   ]
  },
  {
   "cell_type": "code",
   "execution_count": null,
   "metadata": {
    "colab": {
     "base_uri": "https://localhost:8080/",
     "height": 366
    },
    "executionInfo": {
     "elapsed": 2411,
     "status": "ok",
     "timestamp": 1643331117671,
     "user": {
      "displayName": "이동현",
      "photoUrl": "https://lh3.googleusercontent.com/a/default-user=s64",
      "userId": "05939370328045290450"
     },
     "user_tz": -540
    },
    "id": "immesd3AItt9",
    "outputId": "a2e7d886-6b53-42f8-8508-ca5131a86326"
   },
   "outputs": [
    {
     "name": "stdout",
     "output_type": "stream",
     "text": [
      "\n",
      "정확도: 0.7460\n",
      "정밀도: 0.6028\n",
      "재현율: 0.6702\n",
      "AUC: 0.7267\n",
      "F1: 0.6347\n"
     ]
    },
    {
     "data": {
      "image/png": "[encoded data removed]",
      "text/plain": [
       "<Figure size 432x288 with 2 Axes>"
      ]
     },
     "metadata": {},
     "output_type": "display_data"
    }
   ],
   "source": [
    "y_prob = stacking_clf.predict_proba(X_valid)\n",
    "get_clf_eval(y_valid, y_prob[:,1]>0.4)"
   ]
  },
  {
   "cell_type": "markdown",
   "metadata": {
    "id": "PztXXfMsOZlc"
   },
   "source": [
    "### lgbm 튜닝후 "
   ]
  },
  {
   "cell_type": "code",
   "execution_count": null,
   "metadata": {
    "colab": {
     "base_uri": "https://localhost:8080/",
     "height": 366
    },
    "executionInfo": {
     "elapsed": 502851,
     "status": "ok",
     "timestamp": 1643332644276,
     "user": {
      "displayName": "이동현",
      "photoUrl": "https://lh3.googleusercontent.com/a/default-user=s64",
      "userId": "05939370328045290450"
     },
     "user_tz": -540
    },
    "id": "8o5-kf9cLqn7",
    "outputId": "c66f553b-d595-4dad-df7c-2e921b489696"
   },
   "outputs": [
    {
     "name": "stdout",
     "output_type": "stream",
     "text": [
      "\n",
      "정확도: 0.7557\n",
      "정밀도: 0.6645\n",
      "재현율: 0.5209\n",
      "AUC: 0.6959\n",
      "F1: 0.5840\n"
     ]
    },
    {
     "data": {
      "image/png": "[encoded data removed]",
      "text/plain": [
       "<Figure size 432x288 with 2 Axes>"
      ]
     },
     "metadata": {},
     "output_type": "display_data"
    }
   ],
   "source": [
    "stacking_clf = StackingClassifier(estimators=[('rnd', rnd_clf), ('lgbm', lgbm_clf), ('xgb', xgb_clf)], final_estimator = LGBMClassifier())\n",
    "stacking_clf.fit(X_train, y_train)\n",
    "y_pred_stack = stacking_clf.predict(X_valid)\n",
    "\n",
    "# ensemble(stacking) 성능 확인\n",
    "get_clf_eval(y_valid, y_pred_stack)"
   ]
  },
  {
   "cell_type": "code",
   "execution_count": null,
   "metadata": {
    "colab": {
     "base_uri": "https://localhost:8080/",
     "height": 366
    },
    "executionInfo": {
     "elapsed": 2956,
     "status": "ok",
     "timestamp": 1643332655190,
     "user": {
      "displayName": "이동현",
      "photoUrl": "https://lh3.googleusercontent.com/a/default-user=s64",
      "userId": "05939370328045290450"
     },
     "user_tz": -540
    },
    "id": "xgmufVugOhgY",
    "outputId": "bd7dde32-33a4-41ee-fac9-0c1274913bf3"
   },
   "outputs": [
    {
     "name": "stdout",
     "output_type": "stream",
     "text": [
      "\n",
      "정확도: 0.7452\n",
      "정밀도: 0.6009\n",
      "재현율: 0.6737\n",
      "AUC: 0.7270\n",
      "F1: 0.6352\n"
     ]
    },
    {
     "data": {
      "image/png": "[encoded data removed]",
      "text/plain": [
       "<Figure size 432x288 with 2 Axes>"
      ]
     },
     "metadata": {},
     "output_type": "display_data"
    }
   ],
   "source": [
    "y_prob = stacking_clf.predict_proba(X_valid)\n",
    "get_clf_eval(y_valid, y_prob[:,1]>0.4)"
   ]
  },
  {
   "cell_type": "markdown",
   "metadata": {
    "id": "8RWI78FKtNX5"
   },
   "source": [
    "# Submission"
   ]
  },
  {
   "cell_type": "code",
   "execution_count": 147,
   "metadata": {},
   "outputs": [],
   "source": [
    "test_df = pd.read_csv('/USER/Comment/data/test.csv')"
   ]
  },
  {
   "cell_type": "code",
   "execution_count": 145,
   "metadata": {},
   "outputs": [],
   "source": [
    "class test_dataset(Dataset):\n",
    "    def __init__(self, data):\n",
    "        self.data = data\n",
    "        self.model = Model[args.architecture].from_pretrained(args.pretrained_model, output_attentions=True, output_hidden_states=True)\n",
    "        self.tokenizer = Tokenizer[args.tokenizer_class].from_pretrained(args.pretrained_model)\n",
    "\n",
    "        \n",
    "    def __len__(self):\n",
    "        return len(self.data)\n",
    "    \n",
    "    \n",
    "    def __getitem__(self, index):\n",
    "        x =  self.data.iloc[index]\n",
    "        inputs = self.tokenizer.encode(x['comment'], return_tensors='pt')  # Tokenize input text\n",
    "        outputs = self.model(inputs)\n",
    "        hiddens = outputs.hidden_states\n",
    "        \n",
    "        para = self.getPara(hiddens)\n",
    "        \n",
    "        return para\n",
    "    \n",
    "    def getPara(self, hiddens):\n",
    "        a = torch.zeros(hiddens[0].size())\n",
    "        \n",
    "        for hidden in hiddens:\n",
    "            a += hidden.squeeze(0)\n",
    "\n",
    "        b = a.squeeze(0)\n",
    "        c = torch.zeros(a.squeeze(0)[0].size())\n",
    "\n",
    "        l = len(c)\n",
    "\n",
    "        for i in b:\n",
    "            c += i\n",
    "            \n",
    "        return c/l\n",
    "        "
   ]
  },
  {
   "cell_type": "code",
   "execution_count": 148,
   "metadata": {},
   "outputs": [
    {
     "name": "stderr",
     "output_type": "stream",
     "text": [
      "Some weights of the model checkpoint at beomi/KcELECTRA-base were not used when initializing ElectraForSequenceClassification: ['discriminator_predictions.dense_prediction.weight', 'discriminator_predictions.dense_prediction.bias', 'discriminator_predictions.dense.bias', 'discriminator_predictions.dense.weight']\n",
      "- This IS expected if you are initializing ElectraForSequenceClassification from the checkpoint of a model trained on another task or with another architecture (e.g. initializing a BertForSequenceClassification model from a BertForPreTraining model).\n",
      "- This IS NOT expected if you are initializing ElectraForSequenceClassification from the checkpoint of a model that you expect to be exactly identical (initializing a BertForSequenceClassification model from a BertForSequenceClassification model).\n",
      "Some weights of ElectraForSequenceClassification were not initialized from the model checkpoint at beomi/KcELECTRA-base and are newly initialized: ['classifier.dense.bias', 'classifier.dense.weight', 'classifier.out_proj.weight', 'classifier.out_proj.bias']\n",
      "You should probably TRAIN this model on a down-stream task to be able to use it for predictions and inference.\n"
     ]
    }
   ],
   "source": [
    "test_dataset = test_dataset(test_df)\n",
    "test_dataloader = DataLoader(test_dataset)"
   ]
  },
  {
   "cell_type": "code",
   "execution_count": 167,
   "metadata": {},
   "outputs": [
    {
     "name": "stdout",
     "output_type": "stream",
     "text": [
      "<class 'torch.Tensor'>\n",
      "        0         1         2         3         4         5         6    \\\n",
      "0 -0.014718  0.000084  0.037259 -0.009538 -0.010286  0.046514  0.000419   \n",
      "\n",
      "        7         8        9    ...       758       759       760       761  \\\n",
      "0  0.024895 -0.020383  0.00812  ...  0.012841  0.025288  0.012872  0.000755   \n",
      "\n",
      "        762       763       764       765       766       767  \n",
      "0  0.004996  0.038253 -0.021419  0.033071 -0.026595 -0.013437  \n",
      "\n",
      "[1 rows x 768 columns]\n"
     ]
    },
    {
     "name": "stderr",
     "output_type": "stream",
     "text": [
      "100% 511/511 [19:50<00:00,  2.33s/it]\n"
     ]
    }
   ],
   "source": [
    "test_data = pd.DataFrame()    \n",
    "cnt = 0\n",
    "for l in test_dataloader:\n",
    "    if cnt == 1: \n",
    "        break\n",
    "    cnt += 1\n",
    "    # print(l, k , m)\n",
    "    print(type(l))\n",
    "    # l = l.squeeze(0)\n",
    "    df = pd.DataFrame(l.detach().numpy())\n",
    "    print(df)\n",
    "    test_data=df\n",
    "    \n",
    "test_data.drop(0)\n",
    "\n",
    "from tqdm import tqdm\n",
    "for l in tqdm(test_dataloader):\n",
    "    df = pd.DataFrame(l.detach().numpy())\n",
    "    test_data = test_data.append(df)\n",
    "\n",
    "test_data.to_csv('./test_test.csv')"
   ]
  },
  {
   "cell_type": "code",
   "execution_count": 168,
   "metadata": {},
   "outputs": [
    {
     "data": {
      "text/html": [
       "<div>\n",
       "<style scoped>\n",
       "    .dataframe tbody tr th:only-of-type {\n",
       "        vertical-align: middle;\n",
       "    }\n",
       "\n",
       "    .dataframe tbody tr th {\n",
       "        vertical-align: top;\n",
       "    }\n",
       "\n",
       "    .dataframe thead th {\n",
       "        text-align: right;\n",
       "    }\n",
       "</style>\n",
       "<table border=\"1\" class=\"dataframe\">\n",
       "  <thead>\n",
       "    <tr style=\"text-align: right;\">\n",
       "      <th></th>\n",
       "      <th>0</th>\n",
       "      <th>1</th>\n",
       "      <th>2</th>\n",
       "      <th>3</th>\n",
       "      <th>4</th>\n",
       "      <th>5</th>\n",
       "      <th>6</th>\n",
       "      <th>7</th>\n",
       "      <th>8</th>\n",
       "      <th>9</th>\n",
       "      <th>...</th>\n",
       "      <th>758</th>\n",
       "      <th>759</th>\n",
       "      <th>760</th>\n",
       "      <th>761</th>\n",
       "      <th>762</th>\n",
       "      <th>763</th>\n",
       "      <th>764</th>\n",
       "      <th>765</th>\n",
       "      <th>766</th>\n",
       "      <th>767</th>\n",
       "    </tr>\n",
       "  </thead>\n",
       "  <tbody>\n",
       "    <tr>\n",
       "      <th>0</th>\n",
       "      <td>-0.014718</td>\n",
       "      <td>0.000084</td>\n",
       "      <td>0.037259</td>\n",
       "      <td>-0.009538</td>\n",
       "      <td>-0.010286</td>\n",
       "      <td>0.046514</td>\n",
       "      <td>0.000419</td>\n",
       "      <td>0.024895</td>\n",
       "      <td>-0.020383</td>\n",
       "      <td>0.008120</td>\n",
       "      <td>...</td>\n",
       "      <td>0.012841</td>\n",
       "      <td>0.025288</td>\n",
       "      <td>0.012872</td>\n",
       "      <td>0.000755</td>\n",
       "      <td>0.004996</td>\n",
       "      <td>0.038253</td>\n",
       "      <td>-0.021419</td>\n",
       "      <td>0.033071</td>\n",
       "      <td>-0.026595</td>\n",
       "      <td>-0.013437</td>\n",
       "    </tr>\n",
       "    <tr>\n",
       "      <th>0</th>\n",
       "      <td>-0.014718</td>\n",
       "      <td>0.000084</td>\n",
       "      <td>0.037259</td>\n",
       "      <td>-0.009538</td>\n",
       "      <td>-0.010286</td>\n",
       "      <td>0.046514</td>\n",
       "      <td>0.000419</td>\n",
       "      <td>0.024895</td>\n",
       "      <td>-0.020383</td>\n",
       "      <td>0.008120</td>\n",
       "      <td>...</td>\n",
       "      <td>0.012841</td>\n",
       "      <td>0.025288</td>\n",
       "      <td>0.012872</td>\n",
       "      <td>0.000755</td>\n",
       "      <td>0.004996</td>\n",
       "      <td>0.038253</td>\n",
       "      <td>-0.021419</td>\n",
       "      <td>0.033071</td>\n",
       "      <td>-0.026595</td>\n",
       "      <td>-0.013437</td>\n",
       "    </tr>\n",
       "    <tr>\n",
       "      <th>0</th>\n",
       "      <td>-0.011426</td>\n",
       "      <td>0.013087</td>\n",
       "      <td>0.054974</td>\n",
       "      <td>-0.040423</td>\n",
       "      <td>0.013366</td>\n",
       "      <td>-0.001121</td>\n",
       "      <td>-0.037517</td>\n",
       "      <td>-0.002282</td>\n",
       "      <td>0.021942</td>\n",
       "      <td>0.014186</td>\n",
       "      <td>...</td>\n",
       "      <td>0.010654</td>\n",
       "      <td>-0.026776</td>\n",
       "      <td>-0.008936</td>\n",
       "      <td>-0.065058</td>\n",
       "      <td>-0.034566</td>\n",
       "      <td>0.012947</td>\n",
       "      <td>0.018438</td>\n",
       "      <td>-0.009513</td>\n",
       "      <td>-0.014315</td>\n",
       "      <td>-0.017394</td>\n",
       "    </tr>\n",
       "    <tr>\n",
       "      <th>0</th>\n",
       "      <td>-0.012587</td>\n",
       "      <td>-0.001025</td>\n",
       "      <td>0.040860</td>\n",
       "      <td>0.007444</td>\n",
       "      <td>-0.021712</td>\n",
       "      <td>0.016394</td>\n",
       "      <td>0.003261</td>\n",
       "      <td>-0.010516</td>\n",
       "      <td>-0.009509</td>\n",
       "      <td>0.004389</td>\n",
       "      <td>...</td>\n",
       "      <td>-0.003787</td>\n",
       "      <td>-0.018238</td>\n",
       "      <td>-0.006872</td>\n",
       "      <td>0.000151</td>\n",
       "      <td>-0.007259</td>\n",
       "      <td>0.001539</td>\n",
       "      <td>-0.019134</td>\n",
       "      <td>0.006809</td>\n",
       "      <td>-0.007543</td>\n",
       "      <td>-0.006051</td>\n",
       "    </tr>\n",
       "    <tr>\n",
       "      <th>0</th>\n",
       "      <td>-0.023395</td>\n",
       "      <td>-0.120544</td>\n",
       "      <td>0.082707</td>\n",
       "      <td>0.048467</td>\n",
       "      <td>-0.074245</td>\n",
       "      <td>-0.045593</td>\n",
       "      <td>-0.052607</td>\n",
       "      <td>0.020947</td>\n",
       "      <td>0.000874</td>\n",
       "      <td>-0.053226</td>\n",
       "      <td>...</td>\n",
       "      <td>0.014842</td>\n",
       "      <td>0.049897</td>\n",
       "      <td>0.005982</td>\n",
       "      <td>0.062714</td>\n",
       "      <td>0.014319</td>\n",
       "      <td>0.061816</td>\n",
       "      <td>-0.022981</td>\n",
       "      <td>0.012318</td>\n",
       "      <td>-0.047131</td>\n",
       "      <td>-0.016340</td>\n",
       "    </tr>\n",
       "    <tr>\n",
       "      <th>...</th>\n",
       "      <td>...</td>\n",
       "      <td>...</td>\n",
       "      <td>...</td>\n",
       "      <td>...</td>\n",
       "      <td>...</td>\n",
       "      <td>...</td>\n",
       "      <td>...</td>\n",
       "      <td>...</td>\n",
       "      <td>...</td>\n",
       "      <td>...</td>\n",
       "      <td>...</td>\n",
       "      <td>...</td>\n",
       "      <td>...</td>\n",
       "      <td>...</td>\n",
       "      <td>...</td>\n",
       "      <td>...</td>\n",
       "      <td>...</td>\n",
       "      <td>...</td>\n",
       "      <td>...</td>\n",
       "      <td>...</td>\n",
       "      <td>...</td>\n",
       "    </tr>\n",
       "    <tr>\n",
       "      <th>0</th>\n",
       "      <td>-0.036476</td>\n",
       "      <td>-0.019784</td>\n",
       "      <td>0.079633</td>\n",
       "      <td>0.005463</td>\n",
       "      <td>-0.038353</td>\n",
       "      <td>-0.015377</td>\n",
       "      <td>0.006873</td>\n",
       "      <td>0.003107</td>\n",
       "      <td>-0.016032</td>\n",
       "      <td>0.003897</td>\n",
       "      <td>...</td>\n",
       "      <td>-0.024555</td>\n",
       "      <td>-0.057730</td>\n",
       "      <td>0.008112</td>\n",
       "      <td>-0.014338</td>\n",
       "      <td>-0.013621</td>\n",
       "      <td>0.022245</td>\n",
       "      <td>-0.042747</td>\n",
       "      <td>-0.032363</td>\n",
       "      <td>-0.017631</td>\n",
       "      <td>-0.006438</td>\n",
       "    </tr>\n",
       "    <tr>\n",
       "      <th>0</th>\n",
       "      <td>0.005038</td>\n",
       "      <td>-0.014012</td>\n",
       "      <td>0.117567</td>\n",
       "      <td>-0.005042</td>\n",
       "      <td>-0.048065</td>\n",
       "      <td>-0.012754</td>\n",
       "      <td>0.008376</td>\n",
       "      <td>0.054181</td>\n",
       "      <td>-0.046089</td>\n",
       "      <td>0.004606</td>\n",
       "      <td>...</td>\n",
       "      <td>-0.006926</td>\n",
       "      <td>0.049640</td>\n",
       "      <td>0.002140</td>\n",
       "      <td>0.008987</td>\n",
       "      <td>-0.050880</td>\n",
       "      <td>0.041566</td>\n",
       "      <td>-0.017408</td>\n",
       "      <td>0.019353</td>\n",
       "      <td>-0.030410</td>\n",
       "      <td>-0.016948</td>\n",
       "    </tr>\n",
       "    <tr>\n",
       "      <th>0</th>\n",
       "      <td>-0.020948</td>\n",
       "      <td>-0.068061</td>\n",
       "      <td>0.026074</td>\n",
       "      <td>-0.005287</td>\n",
       "      <td>-0.104153</td>\n",
       "      <td>-0.096524</td>\n",
       "      <td>-0.020223</td>\n",
       "      <td>-0.039062</td>\n",
       "      <td>-0.050065</td>\n",
       "      <td>0.027267</td>\n",
       "      <td>...</td>\n",
       "      <td>0.049971</td>\n",
       "      <td>0.014937</td>\n",
       "      <td>0.012499</td>\n",
       "      <td>-0.069453</td>\n",
       "      <td>0.067266</td>\n",
       "      <td>-0.007491</td>\n",
       "      <td>-0.014603</td>\n",
       "      <td>-0.061328</td>\n",
       "      <td>-0.011808</td>\n",
       "      <td>0.040134</td>\n",
       "    </tr>\n",
       "    <tr>\n",
       "      <th>0</th>\n",
       "      <td>-0.034497</td>\n",
       "      <td>-0.064999</td>\n",
       "      <td>0.153210</td>\n",
       "      <td>0.008763</td>\n",
       "      <td>-0.040898</td>\n",
       "      <td>-0.005101</td>\n",
       "      <td>-0.025360</td>\n",
       "      <td>-0.017292</td>\n",
       "      <td>-0.083481</td>\n",
       "      <td>0.053964</td>\n",
       "      <td>...</td>\n",
       "      <td>0.028707</td>\n",
       "      <td>0.121460</td>\n",
       "      <td>-0.010738</td>\n",
       "      <td>-0.089565</td>\n",
       "      <td>-0.019460</td>\n",
       "      <td>0.029170</td>\n",
       "      <td>0.035809</td>\n",
       "      <td>0.079346</td>\n",
       "      <td>-0.059209</td>\n",
       "      <td>-0.006568</td>\n",
       "    </tr>\n",
       "    <tr>\n",
       "      <th>0</th>\n",
       "      <td>0.007830</td>\n",
       "      <td>0.024776</td>\n",
       "      <td>0.047345</td>\n",
       "      <td>0.001088</td>\n",
       "      <td>-0.002224</td>\n",
       "      <td>-0.020405</td>\n",
       "      <td>-0.023733</td>\n",
       "      <td>-0.009999</td>\n",
       "      <td>0.006282</td>\n",
       "      <td>-0.020470</td>\n",
       "      <td>...</td>\n",
       "      <td>0.014492</td>\n",
       "      <td>0.028924</td>\n",
       "      <td>0.008414</td>\n",
       "      <td>-0.003428</td>\n",
       "      <td>-0.004389</td>\n",
       "      <td>-0.004917</td>\n",
       "      <td>-0.010944</td>\n",
       "      <td>0.002481</td>\n",
       "      <td>-0.010367</td>\n",
       "      <td>-0.021797</td>\n",
       "    </tr>\n",
       "  </tbody>\n",
       "</table>\n",
       "<p>512 rows × 768 columns</p>\n",
       "</div>"
      ],
      "text/plain": [
       "         0         1         2         3         4         5         6    \\\n",
       "0  -0.014718  0.000084  0.037259 -0.009538 -0.010286  0.046514  0.000419   \n",
       "0  -0.014718  0.000084  0.037259 -0.009538 -0.010286  0.046514  0.000419   \n",
       "0  -0.011426  0.013087  0.054974 -0.040423  0.013366 -0.001121 -0.037517   \n",
       "0  -0.012587 -0.001025  0.040860  0.007444 -0.021712  0.016394  0.003261   \n",
       "0  -0.023395 -0.120544  0.082707  0.048467 -0.074245 -0.045593 -0.052607   \n",
       "..       ...       ...       ...       ...       ...       ...       ...   \n",
       "0  -0.036476 -0.019784  0.079633  0.005463 -0.038353 -0.015377  0.006873   \n",
       "0   0.005038 -0.014012  0.117567 -0.005042 -0.048065 -0.012754  0.008376   \n",
       "0  -0.020948 -0.068061  0.026074 -0.005287 -0.104153 -0.096524 -0.020223   \n",
       "0  -0.034497 -0.064999  0.153210  0.008763 -0.040898 -0.005101 -0.025360   \n",
       "0   0.007830  0.024776  0.047345  0.001088 -0.002224 -0.020405 -0.023733   \n",
       "\n",
       "         7         8         9    ...       758       759       760       761  \\\n",
       "0   0.024895 -0.020383  0.008120  ...  0.012841  0.025288  0.012872  0.000755   \n",
       "0   0.024895 -0.020383  0.008120  ...  0.012841  0.025288  0.012872  0.000755   \n",
       "0  -0.002282  0.021942  0.014186  ...  0.010654 -0.026776 -0.008936 -0.065058   \n",
       "0  -0.010516 -0.009509  0.004389  ... -0.003787 -0.018238 -0.006872  0.000151   \n",
       "0   0.020947  0.000874 -0.053226  ...  0.014842  0.049897  0.005982  0.062714   \n",
       "..       ...       ...       ...  ...       ...       ...       ...       ...   \n",
       "0   0.003107 -0.016032  0.003897  ... -0.024555 -0.057730  0.008112 -0.014338   \n",
       "0   0.054181 -0.046089  0.004606  ... -0.006926  0.049640  0.002140  0.008987   \n",
       "0  -0.039062 -0.050065  0.027267  ...  0.049971  0.014937  0.012499 -0.069453   \n",
       "0  -0.017292 -0.083481  0.053964  ...  0.028707  0.121460 -0.010738 -0.089565   \n",
       "0  -0.009999  0.006282 -0.020470  ...  0.014492  0.028924  0.008414 -0.003428   \n",
       "\n",
       "         762       763       764       765       766       767  \n",
       "0   0.004996  0.038253 -0.021419  0.033071 -0.026595 -0.013437  \n",
       "0   0.004996  0.038253 -0.021419  0.033071 -0.026595 -0.013437  \n",
       "0  -0.034566  0.012947  0.018438 -0.009513 -0.014315 -0.017394  \n",
       "0  -0.007259  0.001539 -0.019134  0.006809 -0.007543 -0.006051  \n",
       "0   0.014319  0.061816 -0.022981  0.012318 -0.047131 -0.016340  \n",
       "..       ...       ...       ...       ...       ...       ...  \n",
       "0  -0.013621  0.022245 -0.042747 -0.032363 -0.017631 -0.006438  \n",
       "0  -0.050880  0.041566 -0.017408  0.019353 -0.030410 -0.016948  \n",
       "0   0.067266 -0.007491 -0.014603 -0.061328 -0.011808  0.040134  \n",
       "0  -0.019460  0.029170  0.035809  0.079346 -0.059209 -0.006568  \n",
       "0  -0.004389 -0.004917 -0.010944  0.002481 -0.010367 -0.021797  \n",
       "\n",
       "[512 rows x 768 columns]"
      ]
     },
     "execution_count": 168,
     "metadata": {},
     "output_type": "execute_result"
    }
   ],
   "source": [
    "test_data\n"
   ]
  },
  {
   "cell_type": "code",
   "execution_count": 169,
   "metadata": {},
   "outputs": [],
   "source": [
    "y_pred_hate = xgb_clf_hate.predict(test_data)\n",
    "y_pred_bias = xgb_clf.predict(test_data)"
   ]
  },
  {
   "cell_type": "code",
   "execution_count": 173,
   "metadata": {},
   "outputs": [
    {
     "name": "stdout",
     "output_type": "stream",
     "text": [
      "512 512\n"
     ]
    }
   ],
   "source": [
    "print(len(y_pred_hate),len(y_pred_bias) )"
   ]
  },
  {
   "cell_type": "code",
   "execution_count": 178,
   "metadata": {},
   "outputs": [],
   "source": [
    "hate = {\n",
    "    0:\"none\",\n",
    "    1:'hate'\n",
    "       }\n",
    "bias = {\n",
    "    0 : \"none\",\n",
    "    1: \"others\",\n",
    "    2 : \"gender\"\n",
    "}"
   ]
  },
  {
   "cell_type": "code",
   "execution_count": 184,
   "metadata": {},
   "outputs": [],
   "source": [
    "submit = pd.read_csv('/USER/Comment/data/sample_submission.csv')\n",
    "for i in range(511):\n",
    "    submit['bias'].iloc[i] = bias[y_pred_bias[1:][i]]\n",
    "    submit['hate'].iloc[i] = hate[y_pred_hate[1:][i]]"
   ]
  },
  {
   "cell_type": "code",
   "execution_count": 185,
   "metadata": {
    "id": "8pTC3C6xtNX5"
   },
   "outputs": [
    {
     "name": "stdout",
     "output_type": "stream",
     "text": [
      "      ID    bias  hate\n",
      "0      0    none  none\n",
      "1      1    none  hate\n",
      "2      2    none  hate\n",
      "3      3  others  hate\n",
      "4      4    none  none\n",
      "..   ...     ...   ...\n",
      "506  506    none  hate\n",
      "507  507    none  none\n",
      "508  508  gender  hate\n",
      "509  509    none  hate\n",
      "510  510    none  hate\n",
      "\n",
      "[511 rows x 3 columns]\n"
     ]
    }
   ],
   "source": [
    "print(submit)\n",
    "\n",
    "# 제출 파일 저장\n",
    "submit.to_csv('./pred.csv', index=False)"
   ]
  },
  {
   "cell_type": "code",
   "execution_count": 186,
   "metadata": {
    "id": "knTSaU9Hop90"
   },
   "outputs": [],
   "source": [
    "soong = pd.read_csv(\"/USER/Comment/Visualization/kcelectra klue_roberta kcelectra_soongsil bias_hate_따로.csv\")"
   ]
  },
  {
   "cell_type": "code",
   "execution_count": 187,
   "metadata": {},
   "outputs": [
    {
     "data": {
      "text/html": [
       "<div>\n",
       "<style scoped>\n",
       "    .dataframe tbody tr th:only-of-type {\n",
       "        vertical-align: middle;\n",
       "    }\n",
       "\n",
       "    .dataframe tbody tr th {\n",
       "        vertical-align: top;\n",
       "    }\n",
       "\n",
       "    .dataframe thead th {\n",
       "        text-align: right;\n",
       "    }\n",
       "</style>\n",
       "<table border=\"1\" class=\"dataframe\">\n",
       "  <thead>\n",
       "    <tr style=\"text-align: right;\">\n",
       "      <th></th>\n",
       "      <th>ID</th>\n",
       "      <th>bias</th>\n",
       "      <th>hate</th>\n",
       "    </tr>\n",
       "  </thead>\n",
       "  <tbody>\n",
       "    <tr>\n",
       "      <th>0</th>\n",
       "      <td>0</td>\n",
       "      <td>none</td>\n",
       "      <td>none</td>\n",
       "    </tr>\n",
       "    <tr>\n",
       "      <th>1</th>\n",
       "      <td>1</td>\n",
       "      <td>none</td>\n",
       "      <td>none</td>\n",
       "    </tr>\n",
       "    <tr>\n",
       "      <th>2</th>\n",
       "      <td>2</td>\n",
       "      <td>none</td>\n",
       "      <td>hate</td>\n",
       "    </tr>\n",
       "    <tr>\n",
       "      <th>3</th>\n",
       "      <td>3</td>\n",
       "      <td>none</td>\n",
       "      <td>hate</td>\n",
       "    </tr>\n",
       "    <tr>\n",
       "      <th>4</th>\n",
       "      <td>4</td>\n",
       "      <td>others</td>\n",
       "      <td>hate</td>\n",
       "    </tr>\n",
       "    <tr>\n",
       "      <th>...</th>\n",
       "      <td>...</td>\n",
       "      <td>...</td>\n",
       "      <td>...</td>\n",
       "    </tr>\n",
       "    <tr>\n",
       "      <th>506</th>\n",
       "      <td>506</td>\n",
       "      <td>none</td>\n",
       "      <td>hate</td>\n",
       "    </tr>\n",
       "    <tr>\n",
       "      <th>507</th>\n",
       "      <td>507</td>\n",
       "      <td>none</td>\n",
       "      <td>none</td>\n",
       "    </tr>\n",
       "    <tr>\n",
       "      <th>508</th>\n",
       "      <td>508</td>\n",
       "      <td>others</td>\n",
       "      <td>hate</td>\n",
       "    </tr>\n",
       "    <tr>\n",
       "      <th>509</th>\n",
       "      <td>509</td>\n",
       "      <td>others</td>\n",
       "      <td>none</td>\n",
       "    </tr>\n",
       "    <tr>\n",
       "      <th>510</th>\n",
       "      <td>510</td>\n",
       "      <td>none</td>\n",
       "      <td>hate</td>\n",
       "    </tr>\n",
       "  </tbody>\n",
       "</table>\n",
       "<p>511 rows × 3 columns</p>\n",
       "</div>"
      ],
      "text/plain": [
       "      ID    bias  hate\n",
       "0      0    none  none\n",
       "1      1    none  none\n",
       "2      2    none  hate\n",
       "3      3    none  hate\n",
       "4      4  others  hate\n",
       "..   ...     ...   ...\n",
       "506  506    none  hate\n",
       "507  507    none  none\n",
       "508  508  others  hate\n",
       "509  509  others  none\n",
       "510  510    none  hate\n",
       "\n",
       "[511 rows x 3 columns]"
      ]
     },
     "execution_count": 187,
     "metadata": {},
     "output_type": "execute_result"
    }
   ],
   "source": [
    "soong"
   ]
  },
  {
   "cell_type": "code",
   "execution_count": 188,
   "metadata": {},
   "outputs": [],
   "source": [
    "submit['bias'] = soong['bias']"
   ]
  },
  {
   "cell_type": "code",
   "execution_count": 189,
   "metadata": {},
   "outputs": [
    {
     "data": {
      "text/html": [
       "<div>\n",
       "<style scoped>\n",
       "    .dataframe tbody tr th:only-of-type {\n",
       "        vertical-align: middle;\n",
       "    }\n",
       "\n",
       "    .dataframe tbody tr th {\n",
       "        vertical-align: top;\n",
       "    }\n",
       "\n",
       "    .dataframe thead th {\n",
       "        text-align: right;\n",
       "    }\n",
       "</style>\n",
       "<table border=\"1\" class=\"dataframe\">\n",
       "  <thead>\n",
       "    <tr style=\"text-align: right;\">\n",
       "      <th></th>\n",
       "      <th>ID</th>\n",
       "      <th>bias</th>\n",
       "      <th>hate</th>\n",
       "    </tr>\n",
       "  </thead>\n",
       "  <tbody>\n",
       "    <tr>\n",
       "      <th>0</th>\n",
       "      <td>0</td>\n",
       "      <td>none</td>\n",
       "      <td>none</td>\n",
       "    </tr>\n",
       "    <tr>\n",
       "      <th>1</th>\n",
       "      <td>1</td>\n",
       "      <td>none</td>\n",
       "      <td>hate</td>\n",
       "    </tr>\n",
       "    <tr>\n",
       "      <th>2</th>\n",
       "      <td>2</td>\n",
       "      <td>none</td>\n",
       "      <td>hate</td>\n",
       "    </tr>\n",
       "    <tr>\n",
       "      <th>3</th>\n",
       "      <td>3</td>\n",
       "      <td>none</td>\n",
       "      <td>hate</td>\n",
       "    </tr>\n",
       "    <tr>\n",
       "      <th>4</th>\n",
       "      <td>4</td>\n",
       "      <td>others</td>\n",
       "      <td>none</td>\n",
       "    </tr>\n",
       "    <tr>\n",
       "      <th>...</th>\n",
       "      <td>...</td>\n",
       "      <td>...</td>\n",
       "      <td>...</td>\n",
       "    </tr>\n",
       "    <tr>\n",
       "      <th>506</th>\n",
       "      <td>506</td>\n",
       "      <td>none</td>\n",
       "      <td>hate</td>\n",
       "    </tr>\n",
       "    <tr>\n",
       "      <th>507</th>\n",
       "      <td>507</td>\n",
       "      <td>none</td>\n",
       "      <td>none</td>\n",
       "    </tr>\n",
       "    <tr>\n",
       "      <th>508</th>\n",
       "      <td>508</td>\n",
       "      <td>others</td>\n",
       "      <td>hate</td>\n",
       "    </tr>\n",
       "    <tr>\n",
       "      <th>509</th>\n",
       "      <td>509</td>\n",
       "      <td>others</td>\n",
       "      <td>hate</td>\n",
       "    </tr>\n",
       "    <tr>\n",
       "      <th>510</th>\n",
       "      <td>510</td>\n",
       "      <td>none</td>\n",
       "      <td>hate</td>\n",
       "    </tr>\n",
       "  </tbody>\n",
       "</table>\n",
       "<p>511 rows × 3 columns</p>\n",
       "</div>"
      ],
      "text/plain": [
       "      ID    bias  hate\n",
       "0      0    none  none\n",
       "1      1    none  hate\n",
       "2      2    none  hate\n",
       "3      3    none  hate\n",
       "4      4  others  none\n",
       "..   ...     ...   ...\n",
       "506  506    none  hate\n",
       "507  507    none  none\n",
       "508  508  others  hate\n",
       "509  509  others  hate\n",
       "510  510    none  hate\n",
       "\n",
       "[511 rows x 3 columns]"
      ]
     },
     "execution_count": 189,
     "metadata": {},
     "output_type": "execute_result"
    }
   ],
   "source": [
    "submit"
   ]
  },
  {
   "cell_type": "code",
   "execution_count": 190,
   "metadata": {},
   "outputs": [],
   "source": [
    "submit.to_csv('./pred2.csv', index=False)"
   ]
  },
  {
   "cell_type": "code",
   "execution_count": null,
   "metadata": {},
   "outputs": [],
   "source": []
  }
 ],
 "metadata": {
  "colab": {
   "collapsed_sections": [
    "-0GmMJ3stNX4",
    "k8spNdkMtNX4"
   ],
   "name": "tabular_bankrupt6.ipynb",
   "version": ""
  },
  "kernelspec": {
   "display_name": "Python 3 (ipykernel)",
   "language": "python",
   "name": "python3"
  },
  "language_info": {
   "codemirror_mode": {
    "name": "ipython",
    "version": 3
   },
   "file_extension": ".py",
   "mimetype": "text/x-python",
   "name": "python",
   "nbconvert_exporter": "python",
   "pygments_lexer": "ipython3",
   "version": "3.8.5"
  }
 },
 "nbformat": 4,
 "nbformat_minor": 4
}
