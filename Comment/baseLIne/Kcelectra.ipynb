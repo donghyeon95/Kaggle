{
 "cells": [
  {
   "cell_type": "markdown",
   "id": "eFgGf6xm2OZt",
   "metadata": {
    "id": "eFgGf6xm2OZt"
   },
   "source": [
    "# Preparation"
   ]
  },
  {
   "cell_type": "markdown",
   "id": "WuQ7zuzQ2WEe",
   "metadata": {
    "id": "WuQ7zuzQ2WEe"
   },
   "source": [
    "## Import Libraries"
   ]
  },
  {
   "cell_type": "code",
   "execution_count": 92,
   "id": "352b467a",
   "metadata": {
    "colab": {
     "base_uri": "https://localhost:8080/"
    },
    "execution": {
     "iopub.execute_input": "2021-11-16T07:26:32.561261Z",
     "iopub.status.busy": "2021-11-16T07:26:32.560635Z",
     "iopub.status.idle": "2021-11-16T07:26:45.944705Z",
     "shell.execute_reply": "2021-11-16T07:26:45.944145Z",
     "shell.execute_reply.started": "2021-11-16T07:13:01.666180Z"
    },
    "id": "352b467a",
    "outputId": "b0b133a6-3703-48d5-e756-517b22c6b285",
    "papermill": {
     "duration": 13.399469,
     "end_time": "2021-11-16T07:26:45.944829",
     "exception": false,
     "start_time": "2021-11-16T07:26:32.545360",
     "status": "completed"
    },
    "tags": []
   },
   "outputs": [
    {
     "name": "stdout",
     "output_type": "stream",
     "text": [
      "Requirement already satisfied: transformers in /usr/local/lib/python3.7/dist-packages (4.16.2)\n",
      "Requirement already satisfied: packaging>=20.0 in /usr/local/lib/python3.7/dist-packages (from transformers) (21.3)\n",
      "Requirement already satisfied: tqdm>=4.27 in /usr/local/lib/python3.7/dist-packages (from transformers) (4.62.3)\n",
      "Requirement already satisfied: filelock in /usr/local/lib/python3.7/dist-packages (from transformers) (3.6.0)\n",
      "Requirement already satisfied: sacremoses in /usr/local/lib/python3.7/dist-packages (from transformers) (0.0.47)\n",
      "Requirement already satisfied: numpy>=1.17 in /usr/local/lib/python3.7/dist-packages (from transformers) (1.21.5)\n",
      "Requirement already satisfied: huggingface-hub<1.0,>=0.1.0 in /usr/local/lib/python3.7/dist-packages (from transformers) (0.4.0)\n",
      "Requirement already satisfied: importlib-metadata in /usr/local/lib/python3.7/dist-packages (from transformers) (4.11.1)\n",
      "Requirement already satisfied: requests in /usr/local/lib/python3.7/dist-packages (from transformers) (2.23.0)\n",
      "Requirement already satisfied: regex!=2019.12.17 in /usr/local/lib/python3.7/dist-packages (from transformers) (2019.12.20)\n",
      "Requirement already satisfied: pyyaml>=5.1 in /usr/local/lib/python3.7/dist-packages (from transformers) (6.0)\n",
      "Requirement already satisfied: tokenizers!=0.11.3,>=0.10.1 in /usr/local/lib/python3.7/dist-packages (from transformers) (0.11.5)\n",
      "Requirement already satisfied: typing-extensions>=3.7.4.3 in /usr/local/lib/python3.7/dist-packages (from huggingface-hub<1.0,>=0.1.0->transformers) (3.10.0.2)\n",
      "Requirement already satisfied: pyparsing!=3.0.5,>=2.0.2 in /usr/local/lib/python3.7/dist-packages (from packaging>=20.0->transformers) (3.0.7)\n",
      "Requirement already satisfied: zipp>=0.5 in /usr/local/lib/python3.7/dist-packages (from importlib-metadata->transformers) (3.7.0)\n",
      "Requirement already satisfied: idna<3,>=2.5 in /usr/local/lib/python3.7/dist-packages (from requests->transformers) (2.10)\n",
      "Requirement already satisfied: certifi>=2017.4.17 in /usr/local/lib/python3.7/dist-packages (from requests->transformers) (2021.10.8)\n",
      "Requirement already satisfied: urllib3!=1.25.0,!=1.25.1,<1.26,>=1.21.1 in /usr/local/lib/python3.7/dist-packages (from requests->transformers) (1.24.3)\n",
      "Requirement already satisfied: chardet<4,>=3.0.2 in /usr/local/lib/python3.7/dist-packages (from requests->transformers) (3.0.4)\n",
      "Requirement already satisfied: click in /usr/local/lib/python3.7/dist-packages (from sacremoses->transformers) (7.1.2)\n",
      "Requirement already satisfied: six in /usr/local/lib/python3.7/dist-packages (from sacremoses->transformers) (1.15.0)\n",
      "Requirement already satisfied: joblib in /usr/local/lib/python3.7/dist-packages (from sacremoses->transformers) (1.1.0)\n"
     ]
    }
   ],
   "source": [
    "!pip install -U transformers "
   ]
  },
  {
   "cell_type": "code",
   "execution_count": 94,
   "id": "f8be0407",
   "metadata": {
    "execution": {
     "iopub.execute_input": "2021-11-16T07:26:45.986958Z",
     "iopub.status.busy": "2021-11-16T07:26:45.986173Z",
     "iopub.status.idle": "2021-11-16T07:26:53.201092Z",
     "shell.execute_reply": "2021-11-16T07:26:53.200565Z",
     "shell.execute_reply.started": "2021-11-16T07:13:14.499278Z"
    },
    "id": "f8be0407",
    "papermill": {
     "duration": 7.237984,
     "end_time": "2021-11-16T07:26:53.201252",
     "exception": false,
     "start_time": "2021-11-16T07:26:45.963268",
     "status": "completed"
    },
    "tags": []
   },
   "outputs": [],
   "source": [
    "import numpy as np\n",
    "import pandas as pd\n",
    "from transformers import pipeline"
   ]
  },
  {
   "cell_type": "markdown",
   "id": "JrwFekBN2YLw",
   "metadata": {
    "id": "JrwFekBN2YLw"
   },
   "source": [
    "## Connect google drive & Change directory"
   ]
  },
  {
   "cell_type": "code",
   "execution_count": 95,
   "id": "Zzbb23nidzlA",
   "metadata": {
    "colab": {
     "base_uri": "https://localhost:8080/"
    },
    "id": "Zzbb23nidzlA",
    "outputId": "3fdfbd21-a97a-48fe-d9e2-bdcc25f4c081"
   },
   "outputs": [
    {
     "name": "stdout",
     "output_type": "stream",
     "text": [
      "Drive already mounted at /content/drive; to attempt to forcibly remount, call drive.mount(\"/content/drive\", force_remount=True).\n"
     ]
    }
   ],
   "source": [
    "from google.colab import drive\n",
    "import os\n",
    "\n",
    "\n",
    "drive.mount('/content/drive')\n",
    "os.chdir('/content/drive/MyDrive/Colab Notebooks/팀 프로젝트/Comment_discrimination/')"
   ]
  },
  {
   "cell_type": "markdown",
   "id": "LWh7Fbnh2jIa",
   "metadata": {
    "id": "LWh7Fbnh2jIa"
   },
   "source": [
    "# Use KcELECTRA"
   ]
  },
  {
   "cell_type": "markdown",
   "id": "xb14NpvG2ZGg",
   "metadata": {
    "id": "xb14NpvG2ZGg"
   },
   "source": [
    "## Load KcELECTRA"
   ]
  },
  {
   "cell_type": "code",
   "execution_count": 96,
   "id": "84cd2b97",
   "metadata": {
    "execution": {
     "iopub.execute_input": "2021-11-16T07:26:53.243027Z",
     "iopub.status.busy": "2021-11-16T07:26:53.242050Z",
     "iopub.status.idle": "2021-11-16T07:27:27.599787Z",
     "shell.execute_reply": "2021-11-16T07:27:27.599258Z",
     "shell.execute_reply.started": "2021-11-16T07:13:21.604799Z"
    },
    "id": "84cd2b97",
    "papermill": {
     "duration": 34.380727,
     "end_time": "2021-11-16T07:27:27.599922",
     "exception": false,
     "start_time": "2021-11-16T07:26:53.219195",
     "status": "completed"
    },
    "tags": []
   },
   "outputs": [],
   "source": [
    "pipe_bias = pipeline('text-classification', model='beomi/beep-KcELECTRA-base-bias', device=0)"
   ]
  },
  {
   "cell_type": "code",
   "execution_count": 97,
   "id": "mcNDuwFdfwpK",
   "metadata": {
    "id": "mcNDuwFdfwpK"
   },
   "outputs": [],
   "source": [
    "pipe_hate = pipeline('text-classification', model='beomi/beep-KcELECTRA-base-hate', device=0)"
   ]
  },
  {
   "cell_type": "code",
   "execution_count": 100,
   "id": "e2866cee",
   "metadata": {
    "colab": {
     "base_uri": "https://localhost:8080/"
    },
    "execution": {
     "iopub.execute_input": "2021-11-16T07:27:27.713129Z",
     "iopub.status.busy": "2021-11-16T07:27:27.712223Z",
     "iopub.status.idle": "2021-11-16T07:27:28.511330Z",
     "shell.execute_reply": "2021-11-16T07:27:28.510782Z",
     "shell.execute_reply.started": "2021-11-16T07:13:47.172594Z"
    },
    "id": "e2866cee",
    "outputId": "1d7cdc69-c7c9-4fff-91fa-5d5bda02f980",
    "papermill": {
     "duration": 0.828675,
     "end_time": "2021-11-16T07:27:28.511471",
     "exception": false,
     "start_time": "2021-11-16T07:27:27.682796",
     "status": "completed"
    },
    "tags": []
   },
   "outputs": [
    {
     "data": {
      "text/plain": [
       "[{'label': 'none', 'score': 0.9979233741760254}]"
      ]
     },
     "execution_count": 100,
     "metadata": {},
     "output_type": "execute_result"
    }
   ],
   "source": [
    "pipe_bias(\"안녕하세요\")"
   ]
  },
  {
   "cell_type": "code",
   "execution_count": 101,
   "id": "m6nD55fC1X5q",
   "metadata": {
    "colab": {
     "base_uri": "https://localhost:8080/"
    },
    "id": "m6nD55fC1X5q",
    "outputId": "07e64856-4c9e-4337-9934-66f79c682943"
   },
   "outputs": [
    {
     "data": {
      "text/plain": [
       "[{'label': 'none', 'score': 0.9638350009918213}]"
      ]
     },
     "execution_count": 101,
     "metadata": {},
     "output_type": "execute_result"
    }
   ],
   "source": [
    "pipe_hate(\"안녕하세요\")"
   ]
  },
  {
   "cell_type": "markdown",
   "id": "GgfWksO82h05",
   "metadata": {
    "id": "GgfWksO82h05"
   },
   "source": [
    "## Load data"
   ]
  },
  {
   "cell_type": "code",
   "execution_count": 98,
   "id": "d7d0a459",
   "metadata": {
    "execution": {
     "iopub.execute_input": "2021-11-16T07:27:27.645118Z",
     "iopub.status.busy": "2021-11-16T07:27:27.644546Z",
     "iopub.status.idle": "2021-11-16T07:27:27.661967Z",
     "shell.execute_reply": "2021-11-16T07:27:27.662405Z",
     "shell.execute_reply.started": "2021-11-16T07:13:47.150555Z"
    },
    "id": "d7d0a459",
    "papermill": {
     "duration": 0.041976,
     "end_time": "2021-11-16T07:27:27.662557",
     "exception": false,
     "start_time": "2021-11-16T07:27:27.620581",
     "status": "completed"
    },
    "tags": []
   },
   "outputs": [],
   "source": [
    "df = pd.read_csv('data/test.csv')"
   ]
  },
  {
   "cell_type": "code",
   "execution_count": 102,
   "id": "HlNIQ5ZreB5G",
   "metadata": {
    "colab": {
     "base_uri": "https://localhost:8080/",
     "height": 424
    },
    "id": "HlNIQ5ZreB5G",
    "outputId": "4d044ef6-7711-420d-b486-26ed788b1e09"
   },
   "outputs": [
    {
     "data": {
      "text/html": [
       "\n",
       "  <div id=\"df-b8d19ae5-2292-4c20-a82e-70e991d7d4b4\">\n",
       "    <div class=\"colab-df-container\">\n",
       "      <div>\n",
       "<style scoped>\n",
       "    .dataframe tbody tr th:only-of-type {\n",
       "        vertical-align: middle;\n",
       "    }\n",
       "\n",
       "    .dataframe tbody tr th {\n",
       "        vertical-align: top;\n",
       "    }\n",
       "\n",
       "    .dataframe thead th {\n",
       "        text-align: right;\n",
       "    }\n",
       "</style>\n",
       "<table border=\"1\" class=\"dataframe\">\n",
       "  <thead>\n",
       "    <tr style=\"text-align: right;\">\n",
       "      <th></th>\n",
       "      <th>ID</th>\n",
       "      <th>title</th>\n",
       "      <th>comment</th>\n",
       "    </tr>\n",
       "  </thead>\n",
       "  <tbody>\n",
       "    <tr>\n",
       "      <th>0</th>\n",
       "      <td>0</td>\n",
       "      <td>류현경♥︎박성훈, 공개연애 4년차 애정전선 이상無..\"의지 많이 된다\"[종합]</td>\n",
       "      <td>둘다 넘 좋다~행복하세요</td>\n",
       "    </tr>\n",
       "    <tr>\n",
       "      <th>1</th>\n",
       "      <td>1</td>\n",
       "      <td>\"현금 유도+1인 1라면?\"…'골목식당' 백종원, 초심 잃은 도시락집에 '경악' [종합]</td>\n",
       "      <td>근데 만원이하는 현금결제만 하라고 써놓은집 우리나라에 엄청 많은데</td>\n",
       "    </tr>\n",
       "    <tr>\n",
       "      <th>2</th>\n",
       "      <td>2</td>\n",
       "      <td>입대 D-11' 서은광의 슬픈 멜로디..비투비, 눈물의 첫 체조경기장[콘서트 종합]</td>\n",
       "      <td>누군데 얘네?</td>\n",
       "    </tr>\n",
       "    <tr>\n",
       "      <th>3</th>\n",
       "      <td>3</td>\n",
       "      <td>아이콘택트' 리쌍 길, 3년 전 결혼설 부인한 이유 공개…\"결혼,출산 숨겼다\"</td>\n",
       "      <td>쑈 하지마라 짜식아!음주 1번은 실수, 2번은 고의, 3번은 인간쓰레기다.슬금슬금 ...</td>\n",
       "    </tr>\n",
       "    <tr>\n",
       "      <th>4</th>\n",
       "      <td>4</td>\n",
       "      <td>구하라, 안검하수 반박 해프닝...\"당당하다\"vs\"그렇게까지\" 설전 [종합]</td>\n",
       "      <td>안검하수 가지고 있는 분께 희망을 주고 싶은건가요? 수술하면 이렇게 자연스러워진다고...</td>\n",
       "    </tr>\n",
       "    <tr>\n",
       "      <th>...</th>\n",
       "      <td>...</td>\n",
       "      <td>...</td>\n",
       "      <td>...</td>\n",
       "    </tr>\n",
       "    <tr>\n",
       "      <th>506</th>\n",
       "      <td>506</td>\n",
       "      <td>[N이슈] 최율, 조재현 성추행 의혹 폭로… 소속사 \"상황 파악 중\"</td>\n",
       "      <td>얜 그냥 봐도 아니다 ㅋ 고소당하면 어마어마한 금액 물어줘야할껄?</td>\n",
       "    </tr>\n",
       "    <tr>\n",
       "      <th>507</th>\n",
       "      <td>507</td>\n",
       "      <td>해투4' 이서진, 한지민 '대본 리딩 격리설' 해명…\"날씨가 좋아서\" [SC컷]</td>\n",
       "      <td>대박 게스트... 꼭 봐야징~ 컨셉이 바뀌니깐 재미지넹</td>\n",
       "    </tr>\n",
       "    <tr>\n",
       "      <th>508</th>\n",
       "      <td>508</td>\n",
       "      <td>[SS인터뷰①]박민영 \"'김비서' 행복했다..열애설엔 당당..미소였으니까\"</td>\n",
       "      <td>성형으로 다 뜯어고쳐놓고 예쁜척. 성형 전 니 얼굴 다 알고있다. 순자처럼 된장냄새...</td>\n",
       "    </tr>\n",
       "    <tr>\n",
       "      <th>509</th>\n",
       "      <td>509</td>\n",
       "      <td>[POP이슈]\"사실무근\" 'SKY캐슬' 측 '위올라이' 표절설 부인→여전히 '핫'(종합)</td>\n",
       "      <td>분위기는 비슷하다만 전혀다른 전개던데 무슨ㅋㅋㄱ 우리나라사람들은 분위기만 비슷하면 ...</td>\n",
       "    </tr>\n",
       "    <tr>\n",
       "      <th>510</th>\n",
       "      <td>510</td>\n",
       "      <td>오창석♥' 이채은, 웨딩사진?...순백의 드레스 입고 '활짝'</td>\n",
       "      <td>입에 손가릭이 10개 있으니 징그럽다</td>\n",
       "    </tr>\n",
       "  </tbody>\n",
       "</table>\n",
       "<p>511 rows × 3 columns</p>\n",
       "</div>\n",
       "      <button class=\"colab-df-convert\" onclick=\"convertToInteractive('df-b8d19ae5-2292-4c20-a82e-70e991d7d4b4')\"\n",
       "              title=\"Convert this dataframe to an interactive table.\"\n",
       "              style=\"display:none;\">\n",
       "        \n",
       "  <svg xmlns=\"http://www.w3.org/2000/svg\" height=\"24px\"viewBox=\"0 0 24 24\"\n",
       "       width=\"24px\">\n",
       "    <path d=\"M0 0h24v24H0V0z\" fill=\"none\"/>\n",
       "    <path d=\"M18.56 5.44l.94 2.06.94-2.06 2.06-.94-2.06-.94-.94-2.06-.94 2.06-2.06.94zm-11 1L8.5 8.5l.94-2.06 2.06-.94-2.06-.94L8.5 2.5l-.94 2.06-2.06.94zm10 10l.94 2.06.94-2.06 2.06-.94-2.06-.94-.94-2.06-.94 2.06-2.06.94z\"/><path d=\"M17.41 7.96l-1.37-1.37c-.4-.4-.92-.59-1.43-.59-.52 0-1.04.2-1.43.59L10.3 9.45l-7.72 7.72c-.78.78-.78 2.05 0 2.83L4 21.41c.39.39.9.59 1.41.59.51 0 1.02-.2 1.41-.59l7.78-7.78 2.81-2.81c.8-.78.8-2.07 0-2.86zM5.41 20L4 18.59l7.72-7.72 1.47 1.35L5.41 20z\"/>\n",
       "  </svg>\n",
       "      </button>\n",
       "      \n",
       "  <style>\n",
       "    .colab-df-container {\n",
       "      display:flex;\n",
       "      flex-wrap:wrap;\n",
       "      gap: 12px;\n",
       "    }\n",
       "\n",
       "    .colab-df-convert {\n",
       "      background-color: #E8F0FE;\n",
       "      border: none;\n",
       "      border-radius: 50%;\n",
       "      cursor: pointer;\n",
       "      display: none;\n",
       "      fill: #1967D2;\n",
       "      height: 32px;\n",
       "      padding: 0 0 0 0;\n",
       "      width: 32px;\n",
       "    }\n",
       "\n",
       "    .colab-df-convert:hover {\n",
       "      background-color: #E2EBFA;\n",
       "      box-shadow: 0px 1px 2px rgba(60, 64, 67, 0.3), 0px 1px 3px 1px rgba(60, 64, 67, 0.15);\n",
       "      fill: #174EA6;\n",
       "    }\n",
       "\n",
       "    [theme=dark] .colab-df-convert {\n",
       "      background-color: #3B4455;\n",
       "      fill: #D2E3FC;\n",
       "    }\n",
       "\n",
       "    [theme=dark] .colab-df-convert:hover {\n",
       "      background-color: #434B5C;\n",
       "      box-shadow: 0px 1px 3px 1px rgba(0, 0, 0, 0.15);\n",
       "      filter: drop-shadow(0px 1px 2px rgba(0, 0, 0, 0.3));\n",
       "      fill: #FFFFFF;\n",
       "    }\n",
       "  </style>\n",
       "\n",
       "      <script>\n",
       "        const buttonEl =\n",
       "          document.querySelector('#df-b8d19ae5-2292-4c20-a82e-70e991d7d4b4 button.colab-df-convert');\n",
       "        buttonEl.style.display =\n",
       "          google.colab.kernel.accessAllowed ? 'block' : 'none';\n",
       "\n",
       "        async function convertToInteractive(key) {\n",
       "          const element = document.querySelector('#df-b8d19ae5-2292-4c20-a82e-70e991d7d4b4');\n",
       "          const dataTable =\n",
       "            await google.colab.kernel.invokeFunction('convertToInteractive',\n",
       "                                                     [key], {});\n",
       "          if (!dataTable) return;\n",
       "\n",
       "          const docLinkHtml = 'Like what you see? Visit the ' +\n",
       "            '<a target=\"_blank\" href=https://colab.research.google.com/notebooks/data_table.ipynb>data table notebook</a>'\n",
       "            + ' to learn more about interactive tables.';\n",
       "          element.innerHTML = '';\n",
       "          dataTable['output_type'] = 'display_data';\n",
       "          await google.colab.output.renderOutput(dataTable, element);\n",
       "          const docLink = document.createElement('div');\n",
       "          docLink.innerHTML = docLinkHtml;\n",
       "          element.appendChild(docLink);\n",
       "        }\n",
       "      </script>\n",
       "    </div>\n",
       "  </div>\n",
       "  "
      ],
      "text/plain": [
       "      ID  ...                                            comment\n",
       "0      0  ...                                      둘다 넘 좋다~행복하세요\n",
       "1      1  ...               근데 만원이하는 현금결제만 하라고 써놓은집 우리나라에 엄청 많은데\n",
       "2      2  ...                                            누군데 얘네?\n",
       "3      3  ...  쑈 하지마라 짜식아!음주 1번은 실수, 2번은 고의, 3번은 인간쓰레기다.슬금슬금 ...\n",
       "4      4  ...  안검하수 가지고 있는 분께 희망을 주고 싶은건가요? 수술하면 이렇게 자연스러워진다고...\n",
       "..   ...  ...                                                ...\n",
       "506  506  ...               얜 그냥 봐도 아니다 ㅋ 고소당하면 어마어마한 금액 물어줘야할껄?\n",
       "507  507  ...                     대박 게스트... 꼭 봐야징~ 컨셉이 바뀌니깐 재미지넹\n",
       "508  508  ...  성형으로 다 뜯어고쳐놓고 예쁜척. 성형 전 니 얼굴 다 알고있다. 순자처럼 된장냄새...\n",
       "509  509  ...  분위기는 비슷하다만 전혀다른 전개던데 무슨ㅋㅋㄱ 우리나라사람들은 분위기만 비슷하면 ...\n",
       "510  510  ...                               입에 손가릭이 10개 있으니 징그럽다\n",
       "\n",
       "[511 rows x 3 columns]"
      ]
     },
     "execution_count": 102,
     "metadata": {},
     "output_type": "execute_result"
    }
   ],
   "source": [
    "df"
   ]
  },
  {
   "cell_type": "markdown",
   "id": "qcOeNZZi25Iq",
   "metadata": {
    "id": "qcOeNZZi25Iq"
   },
   "source": [
    "## Make discrimination"
   ]
  },
  {
   "cell_type": "code",
   "execution_count": 103,
   "id": "53fbfe4b",
   "metadata": {
    "colab": {
     "base_uri": "https://localhost:8080/"
    },
    "execution": {
     "iopub.execute_input": "2021-11-16T07:27:28.563541Z",
     "iopub.status.busy": "2021-11-16T07:27:28.562715Z",
     "iopub.status.idle": "2021-11-16T07:27:36.436956Z",
     "shell.execute_reply": "2021-11-16T07:27:36.436461Z",
     "shell.execute_reply.started": "2021-11-16T07:26:04.289139Z"
    },
    "id": "53fbfe4b",
    "outputId": "daf055d4-9ea6-4c89-8ec9-0ba2a73048e2",
    "papermill": {
     "duration": 7.904299,
     "end_time": "2021-11-16T07:27:36.437113",
     "exception": false,
     "start_time": "2021-11-16T07:27:28.532814",
     "status": "completed"
    },
    "tags": []
   },
   "outputs": [
    {
     "name": "stderr",
     "output_type": "stream",
     "text": [
      "/usr/local/lib/python3.7/dist-packages/transformers/pipelines/base.py:978: UserWarning: You seem to be using the pipelines sequentially on GPU. In order to maximize efficiency please use a dataset\n",
      "  UserWarning,\n"
     ]
    }
   ],
   "source": [
    "df['bias'] = df['comment'].map(lambda x: pipe_bias(x)[0]['label'])"
   ]
  },
  {
   "cell_type": "code",
   "execution_count": 104,
   "id": "sWbzfr83f9Rf",
   "metadata": {
    "colab": {
     "base_uri": "https://localhost:8080/"
    },
    "id": "sWbzfr83f9Rf",
    "outputId": "1160af65-53c1-476e-800a-d66087e34b4c"
   },
   "outputs": [
    {
     "name": "stderr",
     "output_type": "stream",
     "text": [
      "/usr/local/lib/python3.7/dist-packages/transformers/pipelines/base.py:978: UserWarning: You seem to be using the pipelines sequentially on GPU. In order to maximize efficiency please use a dataset\n",
      "  UserWarning,\n"
     ]
    }
   ],
   "source": [
    "df['hate'] = df['comment'].map(lambda x: pipe_hate(x)[0]['label'])"
   ]
  },
  {
   "cell_type": "markdown",
   "id": "daDRpRAh3Dqw",
   "metadata": {
    "id": "daDRpRAh3Dqw"
   },
   "source": [
    "### Counts labels"
   ]
  },
  {
   "cell_type": "code",
   "execution_count": 105,
   "id": "dfe13f31",
   "metadata": {
    "colab": {
     "base_uri": "https://localhost:8080/"
    },
    "execution": {
     "iopub.execute_input": "2021-11-16T07:27:37.427610Z",
     "iopub.status.busy": "2021-11-16T07:27:37.419521Z",
     "iopub.status.idle": "2021-11-16T07:27:37.438606Z",
     "shell.execute_reply": "2021-11-16T07:27:37.439176Z",
     "shell.execute_reply.started": "2021-11-16T07:26:13.100419Z"
    },
    "id": "dfe13f31",
    "outputId": "e360e10e-57f6-4222-d62f-792d56b4f3cb",
    "papermill": {
     "duration": 0.043477,
     "end_time": "2021-11-16T07:27:37.439365",
     "exception": false,
     "start_time": "2021-11-16T07:27:37.395888",
     "status": "completed"
    },
    "tags": []
   },
   "outputs": [
    {
     "data": {
      "text/plain": [
       "none      338\n",
       "gender    107\n",
       "others     66\n",
       "Name: bias, dtype: int64"
      ]
     },
     "execution_count": 105,
     "metadata": {},
     "output_type": "execute_result"
    }
   ],
   "source": [
    "df.bias.value_counts()"
   ]
  },
  {
   "cell_type": "code",
   "execution_count": 106,
   "id": "oBSzNaltf9Ow",
   "metadata": {
    "colab": {
     "base_uri": "https://localhost:8080/"
    },
    "id": "oBSzNaltf9Ow",
    "outputId": "56dde362-f913-41e4-e41b-c4d1499b169f"
   },
   "outputs": [
    {
     "data": {
      "text/plain": [
       "offensive    186\n",
       "none         181\n",
       "hate         144\n",
       "Name: hate, dtype: int64"
      ]
     },
     "execution_count": 106,
     "metadata": {},
     "output_type": "execute_result"
    }
   ],
   "source": [
    "df.hate.value_counts() # 과제에서 사용하지않는 offensive label이 존재함"
   ]
  },
  {
   "cell_type": "markdown",
   "id": "oyMUy9Rk3Gy8",
   "metadata": {
    "id": "oyMUy9Rk3Gy8"
   },
   "source": [
    "### Change 'offensive' label to 'hate' label"
   ]
  },
  {
   "cell_type": "code",
   "execution_count": 107,
   "id": "15fTfRKCjDkH",
   "metadata": {
    "id": "15fTfRKCjDkH"
   },
   "outputs": [],
   "source": [
    "LABEL_DIC = {\n",
    "    'none': 'none',\n",
    "    'offensive': 'hate',\n",
    "    'hate': 'hate',\n",
    "}"
   ]
  },
  {
   "cell_type": "code",
   "execution_count": 108,
   "id": "s0txzVd8jGHB",
   "metadata": {
    "id": "s0txzVd8jGHB"
   },
   "outputs": [],
   "source": [
    "df['hate'] = df['hate'].map(lambda x: LABEL_DIC[x])"
   ]
  },
  {
   "cell_type": "code",
   "execution_count": 109,
   "id": "roJksY5JjUBG",
   "metadata": {
    "colab": {
     "base_uri": "https://localhost:8080/"
    },
    "id": "roJksY5JjUBG",
    "outputId": "6a272aca-0f05-492e-97bc-526215f0fa8a"
   },
   "outputs": [
    {
     "data": {
      "text/plain": [
       "hate    330\n",
       "none    181\n",
       "Name: hate, dtype: int64"
      ]
     },
     "execution_count": 109,
     "metadata": {},
     "output_type": "execute_result"
    }
   ],
   "source": [
    "df.hate.value_counts()"
   ]
  },
  {
   "cell_type": "markdown",
   "id": "TFOSKSkG30iS",
   "metadata": {
    "id": "TFOSKSkG30iS"
   },
   "source": [
    "# Save Result"
   ]
  },
  {
   "cell_type": "code",
   "execution_count": 110,
   "id": "lMAcvkrlgoQq",
   "metadata": {
    "colab": {
     "base_uri": "https://localhost:8080/",
     "height": 424
    },
    "id": "lMAcvkrlgoQq",
    "outputId": "de7eac82-ef6e-471d-fb84-d1c3e29b4d6b"
   },
   "outputs": [
    {
     "data": {
      "text/html": [
       "\n",
       "  <div id=\"df-f992ec3b-2a2e-4034-9d1a-2ad796181789\">\n",
       "    <div class=\"colab-df-container\">\n",
       "      <div>\n",
       "<style scoped>\n",
       "    .dataframe tbody tr th:only-of-type {\n",
       "        vertical-align: middle;\n",
       "    }\n",
       "\n",
       "    .dataframe tbody tr th {\n",
       "        vertical-align: top;\n",
       "    }\n",
       "\n",
       "    .dataframe thead th {\n",
       "        text-align: right;\n",
       "    }\n",
       "</style>\n",
       "<table border=\"1\" class=\"dataframe\">\n",
       "  <thead>\n",
       "    <tr style=\"text-align: right;\">\n",
       "      <th></th>\n",
       "      <th>ID</th>\n",
       "      <th>bias</th>\n",
       "      <th>hate</th>\n",
       "    </tr>\n",
       "  </thead>\n",
       "  <tbody>\n",
       "    <tr>\n",
       "      <th>0</th>\n",
       "      <td>0</td>\n",
       "      <td>none</td>\n",
       "      <td>none</td>\n",
       "    </tr>\n",
       "    <tr>\n",
       "      <th>1</th>\n",
       "      <td>1</td>\n",
       "      <td>none</td>\n",
       "      <td>none</td>\n",
       "    </tr>\n",
       "    <tr>\n",
       "      <th>2</th>\n",
       "      <td>2</td>\n",
       "      <td>none</td>\n",
       "      <td>hate</td>\n",
       "    </tr>\n",
       "    <tr>\n",
       "      <th>3</th>\n",
       "      <td>3</td>\n",
       "      <td>none</td>\n",
       "      <td>hate</td>\n",
       "    </tr>\n",
       "    <tr>\n",
       "      <th>4</th>\n",
       "      <td>4</td>\n",
       "      <td>others</td>\n",
       "      <td>hate</td>\n",
       "    </tr>\n",
       "    <tr>\n",
       "      <th>...</th>\n",
       "      <td>...</td>\n",
       "      <td>...</td>\n",
       "      <td>...</td>\n",
       "    </tr>\n",
       "    <tr>\n",
       "      <th>506</th>\n",
       "      <td>506</td>\n",
       "      <td>none</td>\n",
       "      <td>none</td>\n",
       "    </tr>\n",
       "    <tr>\n",
       "      <th>507</th>\n",
       "      <td>507</td>\n",
       "      <td>none</td>\n",
       "      <td>none</td>\n",
       "    </tr>\n",
       "    <tr>\n",
       "      <th>508</th>\n",
       "      <td>508</td>\n",
       "      <td>others</td>\n",
       "      <td>hate</td>\n",
       "    </tr>\n",
       "    <tr>\n",
       "      <th>509</th>\n",
       "      <td>509</td>\n",
       "      <td>others</td>\n",
       "      <td>hate</td>\n",
       "    </tr>\n",
       "    <tr>\n",
       "      <th>510</th>\n",
       "      <td>510</td>\n",
       "      <td>none</td>\n",
       "      <td>hate</td>\n",
       "    </tr>\n",
       "  </tbody>\n",
       "</table>\n",
       "<p>511 rows × 3 columns</p>\n",
       "</div>\n",
       "      <button class=\"colab-df-convert\" onclick=\"convertToInteractive('df-f992ec3b-2a2e-4034-9d1a-2ad796181789')\"\n",
       "              title=\"Convert this dataframe to an interactive table.\"\n",
       "              style=\"display:none;\">\n",
       "        \n",
       "  <svg xmlns=\"http://www.w3.org/2000/svg\" height=\"24px\"viewBox=\"0 0 24 24\"\n",
       "       width=\"24px\">\n",
       "    <path d=\"M0 0h24v24H0V0z\" fill=\"none\"/>\n",
       "    <path d=\"M18.56 5.44l.94 2.06.94-2.06 2.06-.94-2.06-.94-.94-2.06-.94 2.06-2.06.94zm-11 1L8.5 8.5l.94-2.06 2.06-.94-2.06-.94L8.5 2.5l-.94 2.06-2.06.94zm10 10l.94 2.06.94-2.06 2.06-.94-2.06-.94-.94-2.06-.94 2.06-2.06.94z\"/><path d=\"M17.41 7.96l-1.37-1.37c-.4-.4-.92-.59-1.43-.59-.52 0-1.04.2-1.43.59L10.3 9.45l-7.72 7.72c-.78.78-.78 2.05 0 2.83L4 21.41c.39.39.9.59 1.41.59.51 0 1.02-.2 1.41-.59l7.78-7.78 2.81-2.81c.8-.78.8-2.07 0-2.86zM5.41 20L4 18.59l7.72-7.72 1.47 1.35L5.41 20z\"/>\n",
       "  </svg>\n",
       "      </button>\n",
       "      \n",
       "  <style>\n",
       "    .colab-df-container {\n",
       "      display:flex;\n",
       "      flex-wrap:wrap;\n",
       "      gap: 12px;\n",
       "    }\n",
       "\n",
       "    .colab-df-convert {\n",
       "      background-color: #E8F0FE;\n",
       "      border: none;\n",
       "      border-radius: 50%;\n",
       "      cursor: pointer;\n",
       "      display: none;\n",
       "      fill: #1967D2;\n",
       "      height: 32px;\n",
       "      padding: 0 0 0 0;\n",
       "      width: 32px;\n",
       "    }\n",
       "\n",
       "    .colab-df-convert:hover {\n",
       "      background-color: #E2EBFA;\n",
       "      box-shadow: 0px 1px 2px rgba(60, 64, 67, 0.3), 0px 1px 3px 1px rgba(60, 64, 67, 0.15);\n",
       "      fill: #174EA6;\n",
       "    }\n",
       "\n",
       "    [theme=dark] .colab-df-convert {\n",
       "      background-color: #3B4455;\n",
       "      fill: #D2E3FC;\n",
       "    }\n",
       "\n",
       "    [theme=dark] .colab-df-convert:hover {\n",
       "      background-color: #434B5C;\n",
       "      box-shadow: 0px 1px 3px 1px rgba(0, 0, 0, 0.15);\n",
       "      filter: drop-shadow(0px 1px 2px rgba(0, 0, 0, 0.3));\n",
       "      fill: #FFFFFF;\n",
       "    }\n",
       "  </style>\n",
       "\n",
       "      <script>\n",
       "        const buttonEl =\n",
       "          document.querySelector('#df-f992ec3b-2a2e-4034-9d1a-2ad796181789 button.colab-df-convert');\n",
       "        buttonEl.style.display =\n",
       "          google.colab.kernel.accessAllowed ? 'block' : 'none';\n",
       "\n",
       "        async function convertToInteractive(key) {\n",
       "          const element = document.querySelector('#df-f992ec3b-2a2e-4034-9d1a-2ad796181789');\n",
       "          const dataTable =\n",
       "            await google.colab.kernel.invokeFunction('convertToInteractive',\n",
       "                                                     [key], {});\n",
       "          if (!dataTable) return;\n",
       "\n",
       "          const docLinkHtml = 'Like what you see? Visit the ' +\n",
       "            '<a target=\"_blank\" href=https://colab.research.google.com/notebooks/data_table.ipynb>data table notebook</a>'\n",
       "            + ' to learn more about interactive tables.';\n",
       "          element.innerHTML = '';\n",
       "          dataTable['output_type'] = 'display_data';\n",
       "          await google.colab.output.renderOutput(dataTable, element);\n",
       "          const docLink = document.createElement('div');\n",
       "          docLink.innerHTML = docLinkHtml;\n",
       "          element.appendChild(docLink);\n",
       "        }\n",
       "      </script>\n",
       "    </div>\n",
       "  </div>\n",
       "  "
      ],
      "text/plain": [
       "      ID    bias  hate\n",
       "0      0    none  none\n",
       "1      1    none  none\n",
       "2      2    none  hate\n",
       "3      3    none  hate\n",
       "4      4  others  hate\n",
       "..   ...     ...   ...\n",
       "506  506    none  none\n",
       "507  507    none  none\n",
       "508  508  others  hate\n",
       "509  509  others  hate\n",
       "510  510    none  hate\n",
       "\n",
       "[511 rows x 3 columns]"
      ]
     },
     "execution_count": 110,
     "metadata": {},
     "output_type": "execute_result"
    }
   ],
   "source": [
    "result = df[['ID', 'bias', 'hate']]\n",
    "result"
   ]
  },
  {
   "cell_type": "code",
   "execution_count": 111,
   "id": "zXOvdw0Vg06x",
   "metadata": {
    "id": "zXOvdw0Vg06x"
   },
   "outputs": [],
   "source": [
    "result.to_csv('kcelectra.csv', index=None)"
   ]
  },
  {
   "cell_type": "code",
   "execution_count": null,
   "id": "7_K6WmwVh-5k",
   "metadata": {
    "id": "7_K6WmwVh-5k"
   },
   "outputs": [],
   "source": []
  }
 ],
 "metadata": {
  "accelerator": "GPU",
  "colab": {
   "collapsed_sections": [],
   "name": "Kcelectra.ipynb",
   "provenance": []
  },
  "kernelspec": {
   "display_name": "Python 3 (ipykernel)",
   "language": "python",
   "name": "python3"
  },
  "language_info": {
   "codemirror_mode": {
    "name": "ipython",
    "version": 3
   },
   "file_extension": ".py",
   "mimetype": "text/x-python",
   "name": "python",
   "nbconvert_exporter": "python",
   "pygments_lexer": "ipython3",
   "version": "3.8.5"
  },
  "papermill": {
   "default_parameters": {},
   "duration": 75.399719,
   "end_time": "2021-11-16T07:27:40.471436",
   "environment_variables": {},
   "exception": null,
   "input_path": "__notebook__.ipynb",
   "output_path": "__notebook__.ipynb",
   "parameters": {},
   "start_time": "2021-11-16T07:26:25.071717",
   "version": "2.3.3"
  }
 },
 "nbformat": 4,
 "nbformat_minor": 5
}
